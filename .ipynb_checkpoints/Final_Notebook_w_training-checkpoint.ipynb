{
 "cells": [
  {
   "cell_type": "markdown",
   "metadata": {},
   "source": [
    "# ENGG*3130 Final Project\n",
    "**By: Spencer Ploeger<br>\n",
    "0969141<br>\n",
    "sploeger@uoguelph.ca<br>\n",
    "Lucas Dasovic<br>\n",
    "0069420<br>\n",
    "ldasovic@uoguelph.ca**\n"
   ]
  },
  {
   "cell_type": "markdown",
   "metadata": {},
   "source": [
    "## Background: 1.1 Detectctron2"
   ]
  },
  {
   "cell_type": "markdown",
   "metadata": {},
   "source": [
    "Detectron2 is a framework that allows for the implementation of various computer vision networks."
   ]
  },
  {
   "cell_type": "markdown",
   "metadata": {},
   "source": [
    "Here is the sample video we will run detectron2 on:<br>(Note that the video is also located in /sample_videos/ )"
   ]
  },
  {
   "cell_type": "code",
   "execution_count": 1,
   "metadata": {},
   "outputs": [
    {
     "data": {
      "image/jpeg": "[encoded data removed]",
      "text/html": [
       "\n",
       "        <iframe\n",
       "            width=\"400\"\n",
       "            height=\"300\"\n",
       "            src=\"https://www.youtube.com/embed/-rSyFxLjdZ4\"\n",
       "            frameborder=\"0\"\n",
       "            allowfullscreen\n",
       "        ></iframe>\n",
       "        "
      ],
      "text/plain": [
       "<IPython.lib.display.YouTubeVideo at 0x7fad945db820>"
      ]
     },
     "execution_count": 1,
     "metadata": {},
     "output_type": "execute_result"
    }
   ],
   "source": [
    "from IPython.display import YouTubeVideo\n",
    "YouTubeVideo('-rSyFxLjdZ4')"
   ]
  },
  {
   "cell_type": "markdown",
   "metadata": {},
   "source": [
    "**Run detectron2 on a sample video.**\n",
    "Note that the sample video is localed in ./sample_videos/. You can run on any video you'd like. Just update the above directory and video name. Note: The video input must be an mp4!."
   ]
  },
  {
   "cell_type": "code",
   "execution_count": 2,
   "metadata": {},
   "outputs": [],
   "source": [
    "video_name = 'driveby.mp4'\n",
    "video_path = './sample_videos/'\n",
    "model_path = './models/model_final_9243eb.pkl'\n",
    "config_path = './configs/COCO-InstanceSegmentation/mask_rcnn_R_50_C4_1x.yaml'"
   ]
  },
  {
   "cell_type": "markdown",
   "metadata": {},
   "source": []
  },
  {
   "cell_type": "markdown",
   "metadata": {},
   "source": [
    "Import dependancies for Detectron2:"
   ]
  },
  {
   "cell_type": "code",
   "execution_count": 3,
   "metadata": {},
   "outputs": [],
   "source": [
    "from multiprocessing import Queue\n",
    "import logging\n",
    "import cv2\n",
    "import subprocess as sp\n",
    "import sys\n",
    "import argparse\n",
    "import image2pipe\n",
    "from PIL import Image\n",
    "from IPython.display import Video\n",
    "from IPython.display import HTML\n",
    "import ipdb\n",
    "import numpy as np\n",
    "import torch\n",
    "import io\n",
    "import random\n",
    "import glob\n",
    "import os\n",
    "import tqdm\n",
    "from matplotlib import pyplot as plt\n",
    "import detectron2\n",
    "from detectron2.engine import DefaultPredictor\n",
    "from detectron2.config import get_cfg\n",
    "from detectron2.utils.visualizer import Visualizer\n",
    "from detectron2.data import MetadataCatalog\n",
    "from detectron2.checkpoint import DetectionCheckpointer\n",
    "from detectron2.utils.visualizer import ColorMode, Visualizer\n",
    "from detectron2.data.detection_utils import read_image\n",
    "from detectron2.modeling import build_model"
   ]
  },
  {
   "cell_type": "code",
   "execution_count": null,
   "metadata": {},
   "outputs": [],
   "source": []
  },
  {
   "cell_type": "code",
   "execution_count": 4,
   "metadata": {},
   "outputs": [],
   "source": [
    "#make sure if a GPU is available, it will be used by torch rather than the CPU\n",
    "device = torch.device(\"cuda\" if torch.cuda.is_available() else \"cpu\")"
   ]
  },
  {
   "cell_type": "code",
   "execution_count": 5,
   "metadata": {},
   "outputs": [
    {
     "data": {
      "text/plain": [
       "GeneralizedRCNN(\n",
       "  (backbone): ResNet(\n",
       "    (stem): BasicStem(\n",
       "      (conv1): Conv2d(\n",
       "        3, 64, kernel_size=(7, 7), stride=(2, 2), padding=(3, 3), bias=False\n",
       "        (norm): FrozenBatchNorm2d(num_features=64, eps=1e-05)\n",
       "      )\n",
       "    )\n",
       "    (res2): Sequential(\n",
       "      (0): BottleneckBlock(\n",
       "        (shortcut): Conv2d(\n",
       "          64, 256, kernel_size=(1, 1), stride=(1, 1), bias=False\n",
       "          (norm): FrozenBatchNorm2d(num_features=256, eps=1e-05)\n",
       "        )\n",
       "        (conv1): Conv2d(\n",
       "          64, 64, kernel_size=(1, 1), stride=(1, 1), bias=False\n",
       "          (norm): FrozenBatchNorm2d(num_features=64, eps=1e-05)\n",
       "        )\n",
       "        (conv2): Conv2d(\n",
       "          64, 64, kernel_size=(3, 3), stride=(1, 1), padding=(1, 1), bias=False\n",
       "          (norm): FrozenBatchNorm2d(num_features=64, eps=1e-05)\n",
       "        )\n",
       "        (conv3): Conv2d(\n",
       "          64, 256, kernel_size=(1, 1), stride=(1, 1), bias=False\n",
       "          (norm): FrozenBatchNorm2d(num_features=256, eps=1e-05)\n",
       "        )\n",
       "      )\n",
       "      (1): BottleneckBlock(\n",
       "        (conv1): Conv2d(\n",
       "          256, 64, kernel_size=(1, 1), stride=(1, 1), bias=False\n",
       "          (norm): FrozenBatchNorm2d(num_features=64, eps=1e-05)\n",
       "        )\n",
       "        (conv2): Conv2d(\n",
       "          64, 64, kernel_size=(3, 3), stride=(1, 1), padding=(1, 1), bias=False\n",
       "          (norm): FrozenBatchNorm2d(num_features=64, eps=1e-05)\n",
       "        )\n",
       "        (conv3): Conv2d(\n",
       "          64, 256, kernel_size=(1, 1), stride=(1, 1), bias=False\n",
       "          (norm): FrozenBatchNorm2d(num_features=256, eps=1e-05)\n",
       "        )\n",
       "      )\n",
       "      (2): BottleneckBlock(\n",
       "        (conv1): Conv2d(\n",
       "          256, 64, kernel_size=(1, 1), stride=(1, 1), bias=False\n",
       "          (norm): FrozenBatchNorm2d(num_features=64, eps=1e-05)\n",
       "        )\n",
       "        (conv2): Conv2d(\n",
       "          64, 64, kernel_size=(3, 3), stride=(1, 1), padding=(1, 1), bias=False\n",
       "          (norm): FrozenBatchNorm2d(num_features=64, eps=1e-05)\n",
       "        )\n",
       "        (conv3): Conv2d(\n",
       "          64, 256, kernel_size=(1, 1), stride=(1, 1), bias=False\n",
       "          (norm): FrozenBatchNorm2d(num_features=256, eps=1e-05)\n",
       "        )\n",
       "      )\n",
       "    )\n",
       "    (res3): Sequential(\n",
       "      (0): BottleneckBlock(\n",
       "        (shortcut): Conv2d(\n",
       "          256, 512, kernel_size=(1, 1), stride=(2, 2), bias=False\n",
       "          (norm): FrozenBatchNorm2d(num_features=512, eps=1e-05)\n",
       "        )\n",
       "        (conv1): Conv2d(\n",
       "          256, 128, kernel_size=(1, 1), stride=(2, 2), bias=False\n",
       "          (norm): FrozenBatchNorm2d(num_features=128, eps=1e-05)\n",
       "        )\n",
       "        (conv2): Conv2d(\n",
       "          128, 128, kernel_size=(3, 3), stride=(1, 1), padding=(1, 1), bias=False\n",
       "          (norm): FrozenBatchNorm2d(num_features=128, eps=1e-05)\n",
       "        )\n",
       "        (conv3): Conv2d(\n",
       "          128, 512, kernel_size=(1, 1), stride=(1, 1), bias=False\n",
       "          (norm): FrozenBatchNorm2d(num_features=512, eps=1e-05)\n",
       "        )\n",
       "      )\n",
       "      (1): BottleneckBlock(\n",
       "        (conv1): Conv2d(\n",
       "          512, 128, kernel_size=(1, 1), stride=(1, 1), bias=False\n",
       "          (norm): FrozenBatchNorm2d(num_features=128, eps=1e-05)\n",
       "        )\n",
       "        (conv2): Conv2d(\n",
       "          128, 128, kernel_size=(3, 3), stride=(1, 1), padding=(1, 1), bias=False\n",
       "          (norm): FrozenBatchNorm2d(num_features=128, eps=1e-05)\n",
       "        )\n",
       "        (conv3): Conv2d(\n",
       "          128, 512, kernel_size=(1, 1), stride=(1, 1), bias=False\n",
       "          (norm): FrozenBatchNorm2d(num_features=512, eps=1e-05)\n",
       "        )\n",
       "      )\n",
       "      (2): BottleneckBlock(\n",
       "        (conv1): Conv2d(\n",
       "          512, 128, kernel_size=(1, 1), stride=(1, 1), bias=False\n",
       "          (norm): FrozenBatchNorm2d(num_features=128, eps=1e-05)\n",
       "        )\n",
       "        (conv2): Conv2d(\n",
       "          128, 128, kernel_size=(3, 3), stride=(1, 1), padding=(1, 1), bias=False\n",
       "          (norm): FrozenBatchNorm2d(num_features=128, eps=1e-05)\n",
       "        )\n",
       "        (conv3): Conv2d(\n",
       "          128, 512, kernel_size=(1, 1), stride=(1, 1), bias=False\n",
       "          (norm): FrozenBatchNorm2d(num_features=512, eps=1e-05)\n",
       "        )\n",
       "      )\n",
       "      (3): BottleneckBlock(\n",
       "        (conv1): Conv2d(\n",
       "          512, 128, kernel_size=(1, 1), stride=(1, 1), bias=False\n",
       "          (norm): FrozenBatchNorm2d(num_features=128, eps=1e-05)\n",
       "        )\n",
       "        (conv2): Conv2d(\n",
       "          128, 128, kernel_size=(3, 3), stride=(1, 1), padding=(1, 1), bias=False\n",
       "          (norm): FrozenBatchNorm2d(num_features=128, eps=1e-05)\n",
       "        )\n",
       "        (conv3): Conv2d(\n",
       "          128, 512, kernel_size=(1, 1), stride=(1, 1), bias=False\n",
       "          (norm): FrozenBatchNorm2d(num_features=512, eps=1e-05)\n",
       "        )\n",
       "      )\n",
       "    )\n",
       "    (res4): Sequential(\n",
       "      (0): BottleneckBlock(\n",
       "        (shortcut): Conv2d(\n",
       "          512, 1024, kernel_size=(1, 1), stride=(2, 2), bias=False\n",
       "          (norm): FrozenBatchNorm2d(num_features=1024, eps=1e-05)\n",
       "        )\n",
       "        (conv1): Conv2d(\n",
       "          512, 256, kernel_size=(1, 1), stride=(2, 2), bias=False\n",
       "          (norm): FrozenBatchNorm2d(num_features=256, eps=1e-05)\n",
       "        )\n",
       "        (conv2): Conv2d(\n",
       "          256, 256, kernel_size=(3, 3), stride=(1, 1), padding=(1, 1), bias=False\n",
       "          (norm): FrozenBatchNorm2d(num_features=256, eps=1e-05)\n",
       "        )\n",
       "        (conv3): Conv2d(\n",
       "          256, 1024, kernel_size=(1, 1), stride=(1, 1), bias=False\n",
       "          (norm): FrozenBatchNorm2d(num_features=1024, eps=1e-05)\n",
       "        )\n",
       "      )\n",
       "      (1): BottleneckBlock(\n",
       "        (conv1): Conv2d(\n",
       "          1024, 256, kernel_size=(1, 1), stride=(1, 1), bias=False\n",
       "          (norm): FrozenBatchNorm2d(num_features=256, eps=1e-05)\n",
       "        )\n",
       "        (conv2): Conv2d(\n",
       "          256, 256, kernel_size=(3, 3), stride=(1, 1), padding=(1, 1), bias=False\n",
       "          (norm): FrozenBatchNorm2d(num_features=256, eps=1e-05)\n",
       "        )\n",
       "        (conv3): Conv2d(\n",
       "          256, 1024, kernel_size=(1, 1), stride=(1, 1), bias=False\n",
       "          (norm): FrozenBatchNorm2d(num_features=1024, eps=1e-05)\n",
       "        )\n",
       "      )\n",
       "      (2): BottleneckBlock(\n",
       "        (conv1): Conv2d(\n",
       "          1024, 256, kernel_size=(1, 1), stride=(1, 1), bias=False\n",
       "          (norm): FrozenBatchNorm2d(num_features=256, eps=1e-05)\n",
       "        )\n",
       "        (conv2): Conv2d(\n",
       "          256, 256, kernel_size=(3, 3), stride=(1, 1), padding=(1, 1), bias=False\n",
       "          (norm): FrozenBatchNorm2d(num_features=256, eps=1e-05)\n",
       "        )\n",
       "        (conv3): Conv2d(\n",
       "          256, 1024, kernel_size=(1, 1), stride=(1, 1), bias=False\n",
       "          (norm): FrozenBatchNorm2d(num_features=1024, eps=1e-05)\n",
       "        )\n",
       "      )\n",
       "      (3): BottleneckBlock(\n",
       "        (conv1): Conv2d(\n",
       "          1024, 256, kernel_size=(1, 1), stride=(1, 1), bias=False\n",
       "          (norm): FrozenBatchNorm2d(num_features=256, eps=1e-05)\n",
       "        )\n",
       "        (conv2): Conv2d(\n",
       "          256, 256, kernel_size=(3, 3), stride=(1, 1), padding=(1, 1), bias=False\n",
       "          (norm): FrozenBatchNorm2d(num_features=256, eps=1e-05)\n",
       "        )\n",
       "        (conv3): Conv2d(\n",
       "          256, 1024, kernel_size=(1, 1), stride=(1, 1), bias=False\n",
       "          (norm): FrozenBatchNorm2d(num_features=1024, eps=1e-05)\n",
       "        )\n",
       "      )\n",
       "      (4): BottleneckBlock(\n",
       "        (conv1): Conv2d(\n",
       "          1024, 256, kernel_size=(1, 1), stride=(1, 1), bias=False\n",
       "          (norm): FrozenBatchNorm2d(num_features=256, eps=1e-05)\n",
       "        )\n",
       "        (conv2): Conv2d(\n",
       "          256, 256, kernel_size=(3, 3), stride=(1, 1), padding=(1, 1), bias=False\n",
       "          (norm): FrozenBatchNorm2d(num_features=256, eps=1e-05)\n",
       "        )\n",
       "        (conv3): Conv2d(\n",
       "          256, 1024, kernel_size=(1, 1), stride=(1, 1), bias=False\n",
       "          (norm): FrozenBatchNorm2d(num_features=1024, eps=1e-05)\n",
       "        )\n",
       "      )\n",
       "      (5): BottleneckBlock(\n",
       "        (conv1): Conv2d(\n",
       "          1024, 256, kernel_size=(1, 1), stride=(1, 1), bias=False\n",
       "          (norm): FrozenBatchNorm2d(num_features=256, eps=1e-05)\n",
       "        )\n",
       "        (conv2): Conv2d(\n",
       "          256, 256, kernel_size=(3, 3), stride=(1, 1), padding=(1, 1), bias=False\n",
       "          (norm): FrozenBatchNorm2d(num_features=256, eps=1e-05)\n",
       "        )\n",
       "        (conv3): Conv2d(\n",
       "          256, 1024, kernel_size=(1, 1), stride=(1, 1), bias=False\n",
       "          (norm): FrozenBatchNorm2d(num_features=1024, eps=1e-05)\n",
       "        )\n",
       "      )\n",
       "    )\n",
       "  )\n",
       "  (proposal_generator): RPN(\n",
       "    (anchor_generator): DefaultAnchorGenerator(\n",
       "      (cell_anchors): BufferList()\n",
       "    )\n",
       "    (rpn_head): StandardRPNHead(\n",
       "      (conv): Conv2d(1024, 1024, kernel_size=(3, 3), stride=(1, 1), padding=(1, 1))\n",
       "      (objectness_logits): Conv2d(1024, 15, kernel_size=(1, 1), stride=(1, 1))\n",
       "      (anchor_deltas): Conv2d(1024, 60, kernel_size=(1, 1), stride=(1, 1))\n",
       "    )\n",
       "  )\n",
       "  (roi_heads): Res5ROIHeads(\n",
       "    (pooler): ROIPooler(\n",
       "      (level_poolers): ModuleList(\n",
       "        (0): ROIAlign(output_size=(14, 14), spatial_scale=0.0625, sampling_ratio=0, aligned=True)\n",
       "      )\n",
       "    )\n",
       "    (res5): Sequential(\n",
       "      (0): BottleneckBlock(\n",
       "        (shortcut): Conv2d(\n",
       "          1024, 2048, kernel_size=(1, 1), stride=(2, 2), bias=False\n",
       "          (norm): FrozenBatchNorm2d(num_features=2048, eps=1e-05)\n",
       "        )\n",
       "        (conv1): Conv2d(\n",
       "          1024, 512, kernel_size=(1, 1), stride=(2, 2), bias=False\n",
       "          (norm): FrozenBatchNorm2d(num_features=512, eps=1e-05)\n",
       "        )\n",
       "        (conv2): Conv2d(\n",
       "          512, 512, kernel_size=(3, 3), stride=(1, 1), padding=(1, 1), bias=False\n",
       "          (norm): FrozenBatchNorm2d(num_features=512, eps=1e-05)\n",
       "        )\n",
       "        (conv3): Conv2d(\n",
       "          512, 2048, kernel_size=(1, 1), stride=(1, 1), bias=False\n",
       "          (norm): FrozenBatchNorm2d(num_features=2048, eps=1e-05)\n",
       "        )\n",
       "      )\n",
       "      (1): BottleneckBlock(\n",
       "        (conv1): Conv2d(\n",
       "          2048, 512, kernel_size=(1, 1), stride=(1, 1), bias=False\n",
       "          (norm): FrozenBatchNorm2d(num_features=512, eps=1e-05)\n",
       "        )\n",
       "        (conv2): Conv2d(\n",
       "          512, 512, kernel_size=(3, 3), stride=(1, 1), padding=(1, 1), bias=False\n",
       "          (norm): FrozenBatchNorm2d(num_features=512, eps=1e-05)\n",
       "        )\n",
       "        (conv3): Conv2d(\n",
       "          512, 2048, kernel_size=(1, 1), stride=(1, 1), bias=False\n",
       "          (norm): FrozenBatchNorm2d(num_features=2048, eps=1e-05)\n",
       "        )\n",
       "      )\n",
       "      (2): BottleneckBlock(\n",
       "        (conv1): Conv2d(\n",
       "          2048, 512, kernel_size=(1, 1), stride=(1, 1), bias=False\n",
       "          (norm): FrozenBatchNorm2d(num_features=512, eps=1e-05)\n",
       "        )\n",
       "        (conv2): Conv2d(\n",
       "          512, 512, kernel_size=(3, 3), stride=(1, 1), padding=(1, 1), bias=False\n",
       "          (norm): FrozenBatchNorm2d(num_features=512, eps=1e-05)\n",
       "        )\n",
       "        (conv3): Conv2d(\n",
       "          512, 2048, kernel_size=(1, 1), stride=(1, 1), bias=False\n",
       "          (norm): FrozenBatchNorm2d(num_features=2048, eps=1e-05)\n",
       "        )\n",
       "      )\n",
       "    )\n",
       "    (box_predictor): FastRCNNOutputLayers(\n",
       "      (cls_score): Linear(in_features=2048, out_features=81, bias=True)\n",
       "      (bbox_pred): Linear(in_features=2048, out_features=320, bias=True)\n",
       "    )\n",
       "    (mask_head): MaskRCNNConvUpsampleHead(\n",
       "      (deconv): ConvTranspose2d(2048, 256, kernel_size=(2, 2), stride=(2, 2))\n",
       "      (predictor): Conv2d(256, 80, kernel_size=(1, 1), stride=(1, 1))\n",
       "    )\n",
       "  )\n",
       ")"
      ]
     },
     "execution_count": 5,
     "metadata": {},
     "output_type": "execute_result"
    }
   ],
   "source": [
    "cfg = get_cfg()\n",
    "cfg.merge_from_file(config_path) #load the desired model (in local directory)\n",
    "#cfg.merge_from_file(\"./configs/COCO-Keypoints/keypoint_rcnn_R_50_FPN_3x.yaml\") #load the desired model (in local directory)\n",
    "#cfg.merge_from_file(\"../configs/COCO-Detection/faster_rcnn_R_50_C4_3x.yaml\") #load the desired model (in local directory)\n",
    "cfg.MODEL.ROI_HEADS.SCORE_THRESH_TEST = 0.5 # set threshold for this model\n",
    "\n",
    "metadata = MetadataCatalog.get(\n",
    "    cfg.DATASETS.TEST[0] if len(cfg.DATASETS.TEST) else \"__unused\"\n",
    ")\n",
    "#cpu_device = torch.device(\"cpu\")\n",
    "instance_mode = ColorMode.IMAGE\n",
    "\n",
    "model = build_model(cfg) # returns a torch.nn.Module\n",
    "DetectionCheckpointer(model).load(model_path) # must load weights this way (in local directory)\n",
    "#DetectionCheckpointer(model).load('./models/keypoint_rcnn_r50_3x/model_final_a6e10b.pkl') # must load weights this way\n",
    "#DetectionCheckpointer(model).load('../models/faster_rcnn_r50_c4/model_final_f97cb7.pkl') # must load weights this way (in local directory)\n",
    "model.train(False) # inference mode"
   ]
  },
  {
   "cell_type": "code",
   "execution_count": 6,
   "metadata": {},
   "outputs": [],
   "source": [
    "torch.cuda.empty_cache()"
   ]
  },
  {
   "cell_type": "code",
   "execution_count": 7,
   "metadata": {},
   "outputs": [],
   "source": [
    "def get_info(vid_name):\n",
    "    #get the height and width of the video\n",
    "    out = sp.Popen([\"ffprobe\", \"-v\", \"error\", \"-select_streams\", \"v:0\", \"-show_entries\", \"stream=width,height\", \"-of\", \"csv=p=0\", vid_name],stdout=sp.PIPE,stderr=sp.STDOUT)\n",
    "    stdout,stderr = out.communicate()\n",
    "    output = stdout.decode(\"utf-\")\n",
    "    #split height and width\n",
    "    height = output.split(',')[1]\n",
    "    width = int(output.split(',')[0])\n",
    "    height = int(height[:-1])\n",
    "\n",
    "    #get the framerate of the video\n",
    "    out = sp.Popen([\"ffprobe\", \"-v\", \"error\", \"-select_streams\", \"v\", \"-of\", \"default=noprint_wrappers=1:nokey=1\", \"-show_entries\", \"stream=r_frame_rate\", vid_name],stdout=sp.PIPE,stderr=sp.STDOUT)\n",
    "    stdout,stderr = out.communicate()\n",
    "    output = stdout.decode(\"utf-\")\n",
    "    numerator = int(output.split('/')[0])\n",
    "    denominator = int(output.split('/')[1])\n",
    "    framerate =  round(numerator/denominator)\n",
    "\n",
    "    out = sp.Popen([\"ffprobe\", \"-v\", \"error\", \"-select_streams\", \"v:0\", \"-show_entries\", \"stream=nb_frames\", \"-of\", \"csv=p=0\", vid_name],stdout=sp.PIPE,stderr=sp.STDOUT)\n",
    "    stdout,stderr = out.communicate()\n",
    "    output = stdout.decode(\"utf-\")\n",
    "    total_frames = int(output[:-1])\n",
    "\n",
    "\n",
    "    #print video information\n",
    "    print(\"Height: \", height)\n",
    "    print(\"Width: \", width)\n",
    "    print(\"Framerate: \", framerate)\n",
    "    print(\"Total Frames: \", total_frames)\n",
    "\n",
    "    return height, width, framerate, total_frames"
   ]
  },
  {
   "cell_type": "code",
   "execution_count": 8,
   "metadata": {},
   "outputs": [],
   "source": [
    "#we must resize the image tensor to be consistent with the flownet inference sizes\n",
    "def get_image_tensor(image):\n",
    "    #read in one image\n",
    "    img_original = image\n",
    "    height = img_original.shape[0]\n",
    "    width = img_original.shape[1]\n",
    "    #img_orignal = read_image(\"./img1.jpg\", format=\"BGR\")\n",
    "    img = cv2.resize(img_original, dsize = (height,width), interpolation=cv2.INTER_CUBIC) #check this and compare with demo\n",
    "    img = np.transpose(img,(2,0,1))\n",
    "    img_tensor = torch.from_numpy(img)\n",
    "    #print(\"tensor size:\", img_tensor.size())\n",
    "    return img_tensor"
   ]
  },
  {
   "cell_type": "code",
   "execution_count": 9,
   "metadata": {},
   "outputs": [
    {
     "name": "stdout",
     "output_type": "stream",
     "text": [
      "./sample_videos/driveby.mp4\n",
      "Height:  720\n",
      "Width:  1280\n",
      "Framerate:  30\n",
      "Total Frames:  260\n"
     ]
    }
   ],
   "source": [
    "path = video_path+video_name\n",
    "print(path)\n",
    "height, width, framerate, num_frames = get_info(path)\n",
    "q = Queue()\n",
    "decoder = image2pipe.images_from_url(q, path, fps=framerate, pix_fmt='rgb24', scale=(width, height))\n",
    "decoder.start()"
   ]
  },
  {
   "cell_type": "code",
   "execution_count": null,
   "metadata": {},
   "outputs": [],
   "source": []
  },
  {
   "cell_type": "code",
   "execution_count": 10,
   "metadata": {},
   "outputs": [
    {
     "name": "stderr",
     "output_type": "stream",
     "text": [
      " 12%|█▏        | 31/260 [00:57<07:07,  1.87s/it]\n"
     ]
    },
    {
     "data": {
      "image/png": "[encoded data removed]",
      "text/plain": [
       "<Figure size 432x288 with 1 Axes>"
      ]
     },
     "metadata": {
      "needs_background": "light"
     },
     "output_type": "display_data"
    }
   ],
   "source": [
    "for x in tqdm.trange(num_frames):\n",
    "    try:\n",
    "        fn, img = q.get()\n",
    "        #print(fn)\n",
    "        #print(img.shape)\n",
    "        image = Image.fromarray(img, 'RGB')\n",
    "        open_cv_image = cv2.cvtColor(np.array(image), cv2.COLOR_RGB2BGR)\n",
    "        #img_orignal = cv2.imread(open_cv_image)\n",
    "        frame_tensor = get_image_tensor(open_cv_image)\n",
    "\n",
    "        x = [{\"image\" : frame_tensor, \"height\": height, \"width\": width}] * 1\n",
    "        #get predictions from the model\n",
    "        predictions = model(x)\n",
    "\n",
    "        #print the predictions\n",
    "        bin_mask = predictions[0]['instances'].pred_masks\n",
    "        #print(bin_mask)\n",
    "        #print(bin_mask.shape)\n",
    "        bin_mask_np = bin_mask.cuda().detach().cpu().clone().numpy()\n",
    "        #print(bin_mask_np.shape)\n",
    "        num_classes = bin_mask_np.shape[0]\n",
    "        #print(\"num classes: \", num_classes)\n",
    "\n",
    "        a = np.zeros((height, width), dtype=bool)\n",
    "\n",
    "\n",
    "        for i in range(num_classes): #for all the classes detected\n",
    "            x = bin_mask_np[i,:,:] #x is the ith class\n",
    "            new_mask = np.ma.mask_or(a, x) #logic or the current classes pixels with the other classes pixels\n",
    "            a = new_mask #update the new mask\n",
    "\n",
    "        #plt.imshow(a)\n",
    "        #plt.show()\n",
    "        del predictions\n",
    "        torch.cuda.empty_cache()\n",
    "        name = \"temp_\" + str(fn) + \".png\"\n",
    "        plt.imshow(a)\n",
    "        plt.savefig(name)\n",
    "        #ipdb.set_trace()#create a breakpoint\n",
    "        if(fn>30): #stop after 30 frames\n",
    "            break\n",
    "    except TypeError as e:\n",
    "        print(\"The error: \")\n",
    "        print(e)\n",
    "        print(\"End of frames\")\n",
    "        break"
   ]
  },
  {
   "cell_type": "code",
   "execution_count": 11,
   "metadata": {
    "scrolled": true
   },
   "outputs": [
    {
     "data": {
      "text/plain": [
       "['__call__',\n",
       " '__class__',\n",
       " '__delattr__',\n",
       " '__dict__',\n",
       " '__dir__',\n",
       " '__doc__',\n",
       " '__eq__',\n",
       " '__format__',\n",
       " '__ge__',\n",
       " '__getattr__',\n",
       " '__getattribute__',\n",
       " '__gt__',\n",
       " '__hash__',\n",
       " '__init__',\n",
       " '__init_subclass__',\n",
       " '__le__',\n",
       " '__lt__',\n",
       " '__module__',\n",
       " '__ne__',\n",
       " '__new__',\n",
       " '__reduce__',\n",
       " '__reduce_ex__',\n",
       " '__repr__',\n",
       " '__setattr__',\n",
       " '__setstate__',\n",
       " '__sizeof__',\n",
       " '__str__',\n",
       " '__subclasshook__',\n",
       " '__weakref__',\n",
       " '_apply',\n",
       " '_backward_hooks',\n",
       " '_buffers',\n",
       " '_forward_hooks',\n",
       " '_forward_pre_hooks',\n",
       " '_get_name',\n",
       " '_load_from_state_dict',\n",
       " '_load_state_dict_pre_hooks',\n",
       " '_modules',\n",
       " '_named_members',\n",
       " '_parameters',\n",
       " '_postprocess',\n",
       " '_register_load_state_dict_pre_hook',\n",
       " '_register_state_dict_hook',\n",
       " '_replicate_for_data_parallel',\n",
       " '_save_to_state_dict',\n",
       " '_slow_forward',\n",
       " '_state_dict_hooks',\n",
       " '_version',\n",
       " 'add_module',\n",
       " 'apply',\n",
       " 'backbone',\n",
       " 'buffers',\n",
       " 'children',\n",
       " 'cpu',\n",
       " 'cuda',\n",
       " 'device',\n",
       " 'double',\n",
       " 'dump_patches',\n",
       " 'eval',\n",
       " 'extra_repr',\n",
       " 'float',\n",
       " 'forward',\n",
       " 'half',\n",
       " 'inference',\n",
       " 'input_format',\n",
       " 'load_state_dict',\n",
       " 'modules',\n",
       " 'named_buffers',\n",
       " 'named_children',\n",
       " 'named_modules',\n",
       " 'named_parameters',\n",
       " 'parameters',\n",
       " 'pixel_mean',\n",
       " 'pixel_std',\n",
       " 'preprocess_image',\n",
       " 'proposal_generator',\n",
       " 'register_backward_hook',\n",
       " 'register_buffer',\n",
       " 'register_forward_hook',\n",
       " 'register_forward_pre_hook',\n",
       " 'register_parameter',\n",
       " 'requires_grad_',\n",
       " 'roi_heads',\n",
       " 'share_memory',\n",
       " 'state_dict',\n",
       " 'to',\n",
       " 'train',\n",
       " 'training',\n",
       " 'type',\n",
       " 'vis_period',\n",
       " 'visualize_training',\n",
       " 'zero_grad']"
      ]
     },
     "execution_count": 11,
     "metadata": {},
     "output_type": "execute_result"
    }
   ],
   "source": [
    "dir(model)"
   ]
  },
  {
   "cell_type": "code",
   "execution_count": 12,
   "metadata": {},
   "outputs": [],
   "source": [
    "from torch.optim import Adam"
   ]
  },
  {
   "cell_type": "code",
   "execution_count": 13,
   "metadata": {},
   "outputs": [],
   "source": [
    "optim = Adam(model.parameters())"
   ]
  },
  {
   "cell_type": "code",
   "execution_count": 14,
   "metadata": {},
   "outputs": [
    {
     "data": {
      "text/plain": [
       "Adam (\n",
       "Parameter Group 0\n",
       "    amsgrad: False\n",
       "    betas: (0.9, 0.999)\n",
       "    eps: 1e-08\n",
       "    lr: 0.001\n",
       "    weight_decay: 0\n",
       ")"
      ]
     },
     "execution_count": 14,
     "metadata": {},
     "output_type": "execute_result"
    }
   ],
   "source": [
    "optim"
   ]
  },
  {
   "cell_type": "code",
   "execution_count": 15,
   "metadata": {},
   "outputs": [],
   "source": [
    "optim.zero_grad()"
   ]
  },
  {
   "cell_type": "code",
   "execution_count": 16,
   "metadata": {},
   "outputs": [],
   "source": [
    "x = [{\"image\" : frame_tensor, \"height\": height, \"width\": width}] * 1"
   ]
  },
  {
   "cell_type": "code",
   "execution_count": 17,
   "metadata": {},
   "outputs": [],
   "source": [
    "predictions = model.inference(x, do_postprocess=False)"
   ]
  },
  {
   "cell_type": "code",
   "execution_count": 18,
   "metadata": {},
   "outputs": [],
   "source": [
    "a = predictions[0].pred_masks.sum() #the binary seg masks"
   ]
  },
  {
   "cell_type": "code",
   "execution_count": 19,
   "metadata": {},
   "outputs": [],
   "source": [
    "a.backward() "
   ]
  },
  {
   "cell_type": "code",
   "execution_count": 20,
   "metadata": {},
   "outputs": [],
   "source": [
    "optim.step()"
   ]
  },
  {
   "cell_type": "code",
   "execution_count": null,
   "metadata": {},
   "outputs": [],
   "source": []
  },
  {
   "cell_type": "code",
   "execution_count": 21,
   "metadata": {},
   "outputs": [
    {
     "data": {
      "text/plain": [
       "tensor([[[False, False, False,  ..., False, False, False],\n",
       "         [False, False, False,  ..., False, False, False],\n",
       "         [False, False, False,  ..., False, False, False],\n",
       "         ...,\n",
       "         [False, False, False,  ..., False, False, False],\n",
       "         [False, False, False,  ..., False, False, False],\n",
       "         [False, False, False,  ..., False, False, False]],\n",
       "\n",
       "        [[False, False, False,  ..., False, False, False],\n",
       "         [False, False, False,  ..., False, False, False],\n",
       "         [False, False, False,  ..., False, False, False],\n",
       "         ...,\n",
       "         [False, False, False,  ..., False, False, False],\n",
       "         [False, False, False,  ..., False, False, False],\n",
       "         [False, False, False,  ..., False, False, False]],\n",
       "\n",
       "        [[False, False, False,  ..., False, False, False],\n",
       "         [False, False, False,  ..., False, False, False],\n",
       "         [False, False, False,  ..., False, False, False],\n",
       "         ...,\n",
       "         [False, False, False,  ..., False, False, False],\n",
       "         [False, False, False,  ..., False, False, False],\n",
       "         [False, False, False,  ..., False, False, False]],\n",
       "\n",
       "        ...,\n",
       "\n",
       "        [[False, False, False,  ..., False, False, False],\n",
       "         [False, False, False,  ..., False, False, False],\n",
       "         [False, False, False,  ..., False, False, False],\n",
       "         ...,\n",
       "         [False, False, False,  ..., False, False, False],\n",
       "         [False, False, False,  ..., False, False, False],\n",
       "         [False, False, False,  ..., False, False, False]],\n",
       "\n",
       "        [[False, False, False,  ..., False, False, False],\n",
       "         [False, False, False,  ..., False, False, False],\n",
       "         [False, False, False,  ..., False, False, False],\n",
       "         ...,\n",
       "         [False, False, False,  ..., False, False, False],\n",
       "         [False, False, False,  ..., False, False, False],\n",
       "         [False, False, False,  ..., False, False, False]],\n",
       "\n",
       "        [[False, False, False,  ..., False, False, False],\n",
       "         [False, False, False,  ..., False, False, False],\n",
       "         [False, False, False,  ..., False, False, False],\n",
       "         ...,\n",
       "         [False, False, False,  ..., False, False, False],\n",
       "         [False, False, False,  ..., False, False, False],\n",
       "         [False, False, False,  ..., False, False, False]]], device='cuda:0')"
      ]
     },
     "execution_count": 21,
     "metadata": {},
     "output_type": "execute_result"
    }
   ],
   "source": [
    "bin_mask"
   ]
  },
  {
   "cell_type": "code",
   "execution_count": 22,
   "metadata": {},
   "outputs": [],
   "source": [
    "bin_sum = bin_mask.sum()"
   ]
  },
  {
   "cell_type": "code",
   "execution_count": 23,
   "metadata": {},
   "outputs": [],
   "source": [
    "#model.forward??"
   ]
  },
  {
   "cell_type": "code",
   "execution_count": 24,
   "metadata": {},
   "outputs": [],
   "source": [
    "#in_sum.backward()"
   ]
  },
  {
   "cell_type": "markdown",
   "metadata": {},
   "source": [
    "Once detectron runs predictions on each frame, we can view one of these frames.<br>**Note:** we will be taking the masks genereated by detectron2 and visualizing them as a binary mask. This lets us see all the objects detected as a single layer, which makes qualitiative observations about consistencey easier."
   ]
  },
  {
   "cell_type": "code",
   "execution_count": 25,
   "metadata": {},
   "outputs": [
    {
     "data": {
      "image/png": "[encoded data removed]",
      "text/plain": [
       "<Figure size 432x288 with 1 Axes>"
      ]
     },
     "metadata": {
      "needs_background": "light"
     },
     "output_type": "display_data"
    }
   ],
   "source": [
    "img = plt.imread('temp_2.png')\n",
    "plt.imshow(img)\n",
    "plt.show()"
   ]
  },
  {
   "cell_type": "markdown",
   "metadata": {},
   "source": [
    "Let's stich many of these frames together to make a video. We will use ffmpeg to do this."
   ]
  },
  {
   "cell_type": "code",
   "execution_count": 26,
   "metadata": {},
   "outputs": [],
   "source": [
    "#create the output video with ffmpeg\n",
    "output_name = '1.1_detectron2_output.mp4'\n",
    "out = sp.run([\"ffmpeg\", \"-y\", \"-i\", \"temp_%d.png\", \"-vcodec\", \"mpeg4\", output_name])\n",
    "\n",
    "#now delete the temp frames\n",
    "#delete the temp .png files\n",
    "fileList = glob.glob('temp_*.png')\n",
    "#Iterate over the list of filepaths & remove each file.\n",
    "for filePath in fileList:\n",
    "    try:\n",
    "        os.remove(filePath)\n",
    "    except:\n",
    "        print(\"Error while deleting file : \", filePath)"
   ]
  },
  {
   "cell_type": "markdown",
   "metadata": {},
   "source": [
    "Now we can view the video:\n",
    "Note, there seems to be some problem with the video player. If the video does not play, you can download the video from /engg3130-project/ and then view it on your computer."
   ]
  },
  {
   "cell_type": "markdown",
   "metadata": {},
   "source": [
    "<video controls src=output_name />"
   ]
  },
  {
   "cell_type": "markdown",
   "metadata": {},
   "source": [
    "As we can tell, the video is very choppy and full of artifacts. These artifacts are undesireable. They are a result of detectron2 not having any notion of motion or relation of objects between any two frames. We need a way to address and fix this."
   ]
  },
  {
   "cell_type": "markdown",
   "metadata": {},
   "source": [
    "**Note:** For these tests we are using the computer vision framework called \"Mask-RCNN\". Detectron2 is able to use a multitude of different frameworks. For example, here are some youtube clips of the various videos being run through different models:"
   ]
  },
  {
   "cell_type": "markdown",
   "metadata": {},
   "source": [
    "**Driving on the 401**<br>Model used: Panoptic FPN R50 1x<br>The common theme remain. There is many instances of artifacting between frames. Objects rapidly appear only to disappear frames later. Take special note of the cars in the far left background, or the fauna on the right side."
   ]
  },
  {
   "cell_type": "code",
   "execution_count": 27,
   "metadata": {},
   "outputs": [
    {
     "data": {
      "image/jpeg": "[encoded data removed]",
      "text/html": [
       "\n",
       "        <iframe\n",
       "            width=\"400\"\n",
       "            height=\"300\"\n",
       "            src=\"https://www.youtube.com/embed/ZBFO1hhdHJ0\"\n",
       "            frameborder=\"0\"\n",
       "            allowfullscreen\n",
       "        ></iframe>\n",
       "        "
      ],
      "text/plain": [
       "<IPython.lib.display.YouTubeVideo at 0x7fad0602e8e0>"
      ]
     },
     "execution_count": 27,
     "metadata": {},
     "output_type": "execute_result"
    }
   ],
   "source": [
    "YouTubeVideo('ZBFO1hhdHJ0')"
   ]
  },
  {
   "cell_type": "markdown",
   "metadata": {},
   "source": [
    "**Walking on the Boarwalk**<br>Model used: Mask R-CNN R50 1x<br>Once again there are many instances of flickering and inconsistent object segmentation between frames. Take particular note of the traffic lights on the right side of the video, or the people and benches on the left."
   ]
  },
  {
   "cell_type": "code",
   "execution_count": 28,
   "metadata": {},
   "outputs": [
    {
     "data": {
      "image/jpeg": "[encoded data removed]",
      "text/html": [
       "\n",
       "        <iframe\n",
       "            width=\"400\"\n",
       "            height=\"300\"\n",
       "            src=\"https://www.youtube.com/embed/ZYKUq6mMlvI\"\n",
       "            frameborder=\"0\"\n",
       "            allowfullscreen\n",
       "        ></iframe>\n",
       "        "
      ],
      "text/plain": [
       "<IPython.lib.display.YouTubeVideo at 0x7fad0602eb50>"
      ]
     },
     "execution_count": 28,
     "metadata": {},
     "output_type": "execute_result"
    }
   ],
   "source": [
    "YouTubeVideo('ZYKUq6mMlvI')"
   ]
  },
  {
   "cell_type": "markdown",
   "metadata": {},
   "source": [
    "## Background: 1.2 FlowNet2"
   ]
  },
  {
   "cell_type": "markdown",
   "metadata": {},
   "source": [
    "FlowNet2-Pytorch is a pytorch implementation of Optical Flow Estimation using Deep Networks. Essentially it allows for the estimation of a pixels movement from one frame to the next.\n",
    "\n",
    "This gives us something that Detectron2 does not- a notion of conectiveness between two frames. Lets investigate what kind of output it can give us:"
   ]
  },
  {
   "cell_type": "markdown",
   "metadata": {},
   "source": [
    "**Note:**\n",
    "1. The code used to genereate the flownet output is from the repo: https://github.com/dancelogue/flownet2-pytorch\n",
    "2. For simplicty in this version* of the notebook, the flownet output files have been *previously generated* for the first 30 frames of three seperate videos. The model **FlowNet2** was used to generate the flow data.\n",
    "3. The flownet .flo files for these three video are located in /flow_data/\n",
    "4. The three videos are: driveby.mp4, walking.mp4, and driving_on_the_401.mp4\n",
    "\n",
    "<br>*This will be changed in the next update of this notebook."
   ]
  },
  {
   "cell_type": "markdown",
   "metadata": {},
   "source": [
    "Let's pick the same video as earlier (driveby.mp4), and take a look at the .flo files that flownet generates:"
   ]
  },
  {
   "cell_type": "code",
   "execution_count": 29,
   "metadata": {},
   "outputs": [],
   "source": [
    "#function that parses the raw data from a flow file\n",
    "TAG_FLOAT = 202021.25\n",
    "flags = {\n",
    "    'debug': False\n",
    "}\n",
    "def read_flow(path):\n",
    "    if not isinstance(path, io.BufferedReader):\n",
    "        if not isinstance(path, str):\n",
    "            raise AssertionError(\n",
    "                \"Input [{p}] is not a string\".format(p=path))\n",
    "        if not os.path.isfile(path):\n",
    "            raise AssertionError(\n",
    "                \"Path [{p}] does not exist\".format(p=path))\n",
    "        if not path.split('.')[-1] == 'flo':\n",
    "            raise AssertionError(\n",
    "                \"File extension [flo] required, [{f}] given\".format(f=path.split('.')[-1]))\n",
    "\n",
    "        flo = open(path, 'rb')\n",
    "    else:\n",
    "        flo = path\n",
    "\n",
    "    tag = np.frombuffer(flo.read(4), np.float32, count=1)[0]\n",
    "    if not TAG_FLOAT == tag:\n",
    "        raise AssertionError(\"Wrong Tag [{t}]\".format(t=tag))\n",
    "\n",
    "    width = np.frombuffer(flo.read(4), np.int32, count=1)[0]\n",
    "    if not (width > 0 and width < 100000):\n",
    "        raise AssertionError(\"Illegal width [{w}]\".format(w=width))\n",
    "\n",
    "    height = np.frombuffer(flo.read(4), np.int32, count=1)[0]\n",
    "    if not (width > 0 and width < 100000):\n",
    "        raise AssertionError(\"Illegal height [{h}]\".format(h=height))\n",
    "\n",
    "    nbands = 2\n",
    "    tmp = np.frombuffer(flo.read(nbands * width * height * 4),\n",
    "                        np.float32, count=nbands * width * height)\n",
    "    flow = np.resize(tmp, (int(height), int(width), int(nbands)))\n",
    "    flo.close()\n",
    "\n",
    "    return flow"
   ]
  },
  {
   "cell_type": "markdown",
   "metadata": {},
   "source": [
    "flow_to_mask function\n",
    "This funtion takes in one flow file (.flo) and returns a mask, tensor, and height, width, and the raw flow data\n",
    "paramaters:\n",
    "- flow file (the path to a .flo file)\n",
    "- threshold (OPTIONAL, threshold of pixel movement magnitude used to generate flow mask. Defaults to 0.5)\n",
    "\n",
    "returns:\n",
    "- flow (HxWx2 Numpy array)\n",
    "- flow_tensor (HxWx2 Tensor)\n",
    "- flow_mask (A mask generated from flow using passed in magnitude)\n",
    "- height (height of the flow mask)\n",
    "- width (width of the flow mask)"
   ]
  },
  {
   "cell_type": "code",
   "execution_count": 30,
   "metadata": {},
   "outputs": [],
   "source": [
    "#function to convert flow data to mask\n",
    "#returns the mask, the height, and the width\n",
    "def flow_to_mask(flo_file, threshold=0.5):\n",
    "    flow = read_flow(flo_file)\n",
    "    height = flow.shape[0]\n",
    "    width = flow.shape[1]\n",
    "    u = flow[:,:,0]\n",
    "    v = flow[:,:,1]\n",
    "    x = np.sqrt(u**2 + v**2)\n",
    "    flow_mask = x>threshold\n",
    "    flow_tensor = torch.from_numpy(flow)\n",
    "    return flow, flow_tensor, flow_mask, height, width"
   ]
  },
  {
   "cell_type": "markdown",
   "metadata": {},
   "source": [
    "Pick a directory (in this case, for the driveby video), and a frame to view (in this case, frame 0)"
   ]
  },
  {
   "cell_type": "code",
   "execution_count": 31,
   "metadata": {},
   "outputs": [],
   "source": [
    "flow_folder = \"./flow_data/driveby/\"\n",
    "flow_file = \"000000.flo\""
   ]
  },
  {
   "cell_type": "code",
   "execution_count": 32,
   "metadata": {},
   "outputs": [
    {
     "name": "stdout",
     "output_type": "stream",
     "text": [
      "./flow_data/driveby/000000.flo\n"
     ]
    }
   ],
   "source": [
    "path = flow_folder+flow_file\n",
    "print(path)\n",
    "flow, flow_tensor, flow_mask, height, width = flow_to_mask(path)"
   ]
  },
  {
   "cell_type": "markdown",
   "metadata": {},
   "source": [
    "The output from the function call:"
   ]
  },
  {
   "cell_type": "code",
   "execution_count": 33,
   "metadata": {},
   "outputs": [
    {
     "name": "stdout",
     "output_type": "stream",
     "text": [
      "Shape of the flow file is:  (704, 1280, 2)\n",
      "Shape of the mask is:  (704, 1280)\n",
      "Height of the flow file is:  704\n",
      "Width of the flow file is:  1280\n",
      "Tensor size:  torch.Size([704, 1280, 2])\n"
     ]
    }
   ],
   "source": [
    "print(\"Shape of the flow file is: \",flow.shape)\n",
    "print(\"Shape of the mask is: \", flow_mask.shape)\n",
    "print(\"Height of the flow file is: \", height)\n",
    "print(\"Width of the flow file is: \", width)\n",
    "print(\"Tensor size: \",flow_tensor.shape)"
   ]
  },
  {
   "cell_type": "markdown",
   "metadata": {},
   "source": [
    "From above we can notice a few things.\n",
    "\n",
    "First, the height of the flow tensor and mask are not the same as the video. This is becasue flownet automatically crops all images to heights and widths that are multiples of 64. This is so when Tensors are batched and then concatenated, they all have the same dimensions.\n",
    "\n",
    "Second, the tensor and flow array both have a new third dimnsion. Let's inspect it."
   ]
  },
  {
   "cell_type": "code",
   "execution_count": 34,
   "metadata": {},
   "outputs": [
    {
     "name": "stdout",
     "output_type": "stream",
     "text": [
      "tensor([-13.5089,   1.8003])\n"
     ]
    }
   ],
   "source": [
    "#pick the pixel at 300,500 (y,x)\n",
    "this_pixel = flow_tensor[300,500] #y, x!!\n",
    "print(this_pixel)"
   ]
  },
  {
   "cell_type": "markdown",
   "metadata": {},
   "source": [
    "We notice that for each pixel, there are two vectors, call them U and V. They represent the x and y motion of that pixel respectively, on a traditional cartesian plane.\n",
    "\n",
    "To visualize this movement, we can use a scale like the one below. \n",
    "\n",
    "Therefore, for the above pixel with magnitude for U and V of -13.5080, 1.8003, we expect a vector to the left and slightly up. Accoring to the scale below, this would correspond to a blue/turqoise color.\n",
    "\n",
    "Note that these scales are relative to other pixels in the frame. The only constraint on movement vectors U and V is that they must be of magnitude < 1E9.\n",
    "\n",
    "[1]"
   ]
  },
  {
   "cell_type": "markdown",
   "metadata": {},
   "source": [
    "![title](./notebook_supporting/scale.png)"
   ]
  },
  {
   "cell_type": "markdown",
   "metadata": {},
   "source": [
    "References\n",
    "\n",
    "\n",
    "-  [1] https://towardsdatascience.com/generating-optical-flow-using-nvidia-flownet2-pytorch-implementation-d7b0ae6f8320"
   ]
  },
  {
   "cell_type": "markdown",
   "metadata": {},
   "source": [
    "We can take a look at the visualized flow file for this image. Like the flow data, the image was generated previously using the flow2image library(https://github.com/skeeet/flow2image):"
   ]
  },
  {
   "cell_type": "code",
   "execution_count": 35,
   "metadata": {},
   "outputs": [
    {
     "data": {
      "image/png": "[encoded data removed]",
      "text/plain": [
       "<Figure size 432x288 with 1 Axes>"
      ]
     },
     "metadata": {
      "needs_background": "light"
     },
     "output_type": "display_data"
    }
   ],
   "source": [
    "path_to_image = \"./flow_data/driveby/images/\"\n",
    "image = flow_file+\".png\"\n",
    "img = plt.imread(path_to_image+image)\n",
    "plt.imshow(img)\n",
    "plt.show()"
   ]
  },
  {
   "cell_type": "markdown",
   "metadata": {},
   "source": [
    "This is the video generated by FlowNet2 when applied to the driveby video. As mentioned earlier, it was prviously generated using an external repo:"
   ]
  },
  {
   "cell_type": "code",
   "execution_count": 36,
   "metadata": {},
   "outputs": [
    {
     "data": {
      "image/jpeg": "[encoded data removed]",
      "text/html": [
       "\n",
       "        <iframe\n",
       "            width=\"400\"\n",
       "            height=\"300\"\n",
       "            src=\"https://www.youtube.com/embed/JLM5r_O_x6I\"\n",
       "            frameborder=\"0\"\n",
       "            allowfullscreen\n",
       "        ></iframe>\n",
       "        "
      ],
      "text/plain": [
       "<IPython.lib.display.YouTubeVideo at 0x7fad0606d940>"
      ]
     },
     "execution_count": 36,
     "metadata": {},
     "output_type": "execute_result"
    }
   ],
   "source": [
    "YouTubeVideo(\"JLM5r_O_x6I\")"
   ]
  },
  {
   "cell_type": "markdown",
   "metadata": {},
   "source": [
    "### Generating Masks Using the Threshold Method "
   ]
  },
  {
   "cell_type": "markdown",
   "metadata": {},
   "source": [
    "A simple method is proposed to generate a type of \"movement mask\". We know that the raw flownet data for a frame contains a U and V vector representing X and Y motion. We can calulate a magnitude of motion for a given frame, by sqrt(U^2 + V^2). We can then create the masks creating a binary mask for all pixels with magnitude > threshold. **Call this the Threshold Method for Mask Creation.**\n",
    "\n",
    "Now, lets see the mask returned by the flow_to_image function. It was generated using a movement threhsold paramter of 0.5. Ie: sqrt(U^2 + V^2)>0.5.\n",
    "\n",
    "We get the following image:"
   ]
  },
  {
   "cell_type": "code",
   "execution_count": 37,
   "metadata": {},
   "outputs": [
    {
     "data": {
      "text/plain": [
       "<matplotlib.image.AxesImage at 0x7fad060e1be0>"
      ]
     },
     "execution_count": 37,
     "metadata": {},
     "output_type": "execute_result"
    },
    {
     "data": {
      "image/png": "[encoded data removed]",
      "text/plain": [
       "<Figure size 432x288 with 1 Axes>"
      ]
     },
     "metadata": {
      "needs_background": "light"
     },
     "output_type": "display_data"
    }
   ],
   "source": [
    "plt.imshow(flow_mask)"
   ]
  },
  {
   "cell_type": "markdown",
   "metadata": {},
   "source": [
    "This mask is pretty crucial. It shows us that is moving and what is stationary in the frame. Anything above a movement magnitude of 0.5 is shown in yellow, and anything below this threshold is shown in purple. **We now have a way to guage motion based off of data from other frames. In other words, we no longer only have a single frame's data at our disposal.**"
   ]
  },
  {
   "cell_type": "markdown",
   "metadata": {},
   "source": [
    "## 2 - Combining the two networks"
   ]
  },
  {
   "cell_type": "markdown",
   "metadata": {},
   "source": [
    "Detectron2 gives us a very good way to segment objects accurately, but does not carry predictions well between frames of video. This is due to the nature of how Detectron2 is trained. It is trained on single frames, and this is how it treats video- one single frame at a time.\n",
    "\n",
    "Flownet2 on the other hand, is specifically designed to make movement predictions on consecutive frames. This is how it was trained and this is why it is so good at predicitng movement in video. However, it has no way to segment objects or instances as Detectron2 can.\n",
    "\n",
    "**We will attempt to combine aspects of both networks. If we can find some way to determine when a detection network makes incorrect predictions in a frame, we can generate a loss function. This loss function can be used to train a neural network. The hope is that the network can be trained to make better predictions on videos, with improved frame-to-frame consistceny.**"
   ]
  },
  {
   "cell_type": "markdown",
   "metadata": {},
   "source": [
    "First, some supporting functions for later. They have been adapted from [Thor](https://github.com/ThorJonsson). Thank you Thor."
   ]
  },
  {
   "cell_type": "markdown",
   "metadata": {},
   "source": [
    "We will re-run the Mask-RCNN network with Detectron2 on the video ```driveby.mp4```. The reason for this is because earlier we were using the video's native resolution to generate our output. As mentioned earlier, FlowNet2 re-sizes input videos so the height and width must be divisible by 64. We will re-run Detectron2 using this new resolution of 704x1080 to make the masks match the size of the flownet output"
   ]
  },
  {
   "cell_type": "code",
   "execution_count": 38,
   "metadata": {},
   "outputs": [
    {
     "name": "stdout",
     "output_type": "stream",
     "text": [
      "./flow_data/driveby/000000.flo\n",
      "new_height:  704\n",
      "new_width:  1280\n"
     ]
    }
   ],
   "source": [
    "#Check the resolution of the .flo files\n",
    "flow_folder = \"./flow_data/driveby/\"\n",
    "flow_file = \"000000.flo\"\n",
    "path = flow_folder+flow_file\n",
    "print(path)\n",
    "flow, flow_tensor, flow_mask, height, width = flow_to_mask(path)\n",
    "print(\"new_height: \", height)\n",
    "print(\"new_width: \", width)"
   ]
  },
  {
   "cell_type": "markdown",
   "metadata": {},
   "source": [
    "Set this new height and width to later use when running Detectron2 again."
   ]
  },
  {
   "cell_type": "markdown",
   "metadata": {},
   "source": [
    "Now we will run Detectron2 on the driveby.mp4 video again, but with the new width and height. **Note: we will stop Detectron2 from running after it has proccessed 30 frames. This is done to save time** We will also remove the step of exporting images and creating an output video as we are only concerned with the output masks in this stage."
   ]
  },
  {
   "cell_type": "code",
   "execution_count": 39,
   "metadata": {},
   "outputs": [],
   "source": [
    "video_name = 'driveby.mp4'\n",
    "video_path = './sample_videos/'\n",
    "model_path = './models/model_final_9243eb.pkl'\n",
    "config_path = './configs/COCO-InstanceSegmentation/mask_rcnn_R_50_C4_1x.yaml'"
   ]
  },
  {
   "cell_type": "code",
   "execution_count": 40,
   "metadata": {},
   "outputs": [
    {
     "data": {
      "text/plain": [
       "GeneralizedRCNN(\n",
       "  (backbone): ResNet(\n",
       "    (stem): BasicStem(\n",
       "      (conv1): Conv2d(\n",
       "        3, 64, kernel_size=(7, 7), stride=(2, 2), padding=(3, 3), bias=False\n",
       "        (norm): FrozenBatchNorm2d(num_features=64, eps=1e-05)\n",
       "      )\n",
       "    )\n",
       "    (res2): Sequential(\n",
       "      (0): BottleneckBlock(\n",
       "        (shortcut): Conv2d(\n",
       "          64, 256, kernel_size=(1, 1), stride=(1, 1), bias=False\n",
       "          (norm): FrozenBatchNorm2d(num_features=256, eps=1e-05)\n",
       "        )\n",
       "        (conv1): Conv2d(\n",
       "          64, 64, kernel_size=(1, 1), stride=(1, 1), bias=False\n",
       "          (norm): FrozenBatchNorm2d(num_features=64, eps=1e-05)\n",
       "        )\n",
       "        (conv2): Conv2d(\n",
       "          64, 64, kernel_size=(3, 3), stride=(1, 1), padding=(1, 1), bias=False\n",
       "          (norm): FrozenBatchNorm2d(num_features=64, eps=1e-05)\n",
       "        )\n",
       "        (conv3): Conv2d(\n",
       "          64, 256, kernel_size=(1, 1), stride=(1, 1), bias=False\n",
       "          (norm): FrozenBatchNorm2d(num_features=256, eps=1e-05)\n",
       "        )\n",
       "      )\n",
       "      (1): BottleneckBlock(\n",
       "        (conv1): Conv2d(\n",
       "          256, 64, kernel_size=(1, 1), stride=(1, 1), bias=False\n",
       "          (norm): FrozenBatchNorm2d(num_features=64, eps=1e-05)\n",
       "        )\n",
       "        (conv2): Conv2d(\n",
       "          64, 64, kernel_size=(3, 3), stride=(1, 1), padding=(1, 1), bias=False\n",
       "          (norm): FrozenBatchNorm2d(num_features=64, eps=1e-05)\n",
       "        )\n",
       "        (conv3): Conv2d(\n",
       "          64, 256, kernel_size=(1, 1), stride=(1, 1), bias=False\n",
       "          (norm): FrozenBatchNorm2d(num_features=256, eps=1e-05)\n",
       "        )\n",
       "      )\n",
       "      (2): BottleneckBlock(\n",
       "        (conv1): Conv2d(\n",
       "          256, 64, kernel_size=(1, 1), stride=(1, 1), bias=False\n",
       "          (norm): FrozenBatchNorm2d(num_features=64, eps=1e-05)\n",
       "        )\n",
       "        (conv2): Conv2d(\n",
       "          64, 64, kernel_size=(3, 3), stride=(1, 1), padding=(1, 1), bias=False\n",
       "          (norm): FrozenBatchNorm2d(num_features=64, eps=1e-05)\n",
       "        )\n",
       "        (conv3): Conv2d(\n",
       "          64, 256, kernel_size=(1, 1), stride=(1, 1), bias=False\n",
       "          (norm): FrozenBatchNorm2d(num_features=256, eps=1e-05)\n",
       "        )\n",
       "      )\n",
       "    )\n",
       "    (res3): Sequential(\n",
       "      (0): BottleneckBlock(\n",
       "        (shortcut): Conv2d(\n",
       "          256, 512, kernel_size=(1, 1), stride=(2, 2), bias=False\n",
       "          (norm): FrozenBatchNorm2d(num_features=512, eps=1e-05)\n",
       "        )\n",
       "        (conv1): Conv2d(\n",
       "          256, 128, kernel_size=(1, 1), stride=(2, 2), bias=False\n",
       "          (norm): FrozenBatchNorm2d(num_features=128, eps=1e-05)\n",
       "        )\n",
       "        (conv2): Conv2d(\n",
       "          128, 128, kernel_size=(3, 3), stride=(1, 1), padding=(1, 1), bias=False\n",
       "          (norm): FrozenBatchNorm2d(num_features=128, eps=1e-05)\n",
       "        )\n",
       "        (conv3): Conv2d(\n",
       "          128, 512, kernel_size=(1, 1), stride=(1, 1), bias=False\n",
       "          (norm): FrozenBatchNorm2d(num_features=512, eps=1e-05)\n",
       "        )\n",
       "      )\n",
       "      (1): BottleneckBlock(\n",
       "        (conv1): Conv2d(\n",
       "          512, 128, kernel_size=(1, 1), stride=(1, 1), bias=False\n",
       "          (norm): FrozenBatchNorm2d(num_features=128, eps=1e-05)\n",
       "        )\n",
       "        (conv2): Conv2d(\n",
       "          128, 128, kernel_size=(3, 3), stride=(1, 1), padding=(1, 1), bias=False\n",
       "          (norm): FrozenBatchNorm2d(num_features=128, eps=1e-05)\n",
       "        )\n",
       "        (conv3): Conv2d(\n",
       "          128, 512, kernel_size=(1, 1), stride=(1, 1), bias=False\n",
       "          (norm): FrozenBatchNorm2d(num_features=512, eps=1e-05)\n",
       "        )\n",
       "      )\n",
       "      (2): BottleneckBlock(\n",
       "        (conv1): Conv2d(\n",
       "          512, 128, kernel_size=(1, 1), stride=(1, 1), bias=False\n",
       "          (norm): FrozenBatchNorm2d(num_features=128, eps=1e-05)\n",
       "        )\n",
       "        (conv2): Conv2d(\n",
       "          128, 128, kernel_size=(3, 3), stride=(1, 1), padding=(1, 1), bias=False\n",
       "          (norm): FrozenBatchNorm2d(num_features=128, eps=1e-05)\n",
       "        )\n",
       "        (conv3): Conv2d(\n",
       "          128, 512, kernel_size=(1, 1), stride=(1, 1), bias=False\n",
       "          (norm): FrozenBatchNorm2d(num_features=512, eps=1e-05)\n",
       "        )\n",
       "      )\n",
       "      (3): BottleneckBlock(\n",
       "        (conv1): Conv2d(\n",
       "          512, 128, kernel_size=(1, 1), stride=(1, 1), bias=False\n",
       "          (norm): FrozenBatchNorm2d(num_features=128, eps=1e-05)\n",
       "        )\n",
       "        (conv2): Conv2d(\n",
       "          128, 128, kernel_size=(3, 3), stride=(1, 1), padding=(1, 1), bias=False\n",
       "          (norm): FrozenBatchNorm2d(num_features=128, eps=1e-05)\n",
       "        )\n",
       "        (conv3): Conv2d(\n",
       "          128, 512, kernel_size=(1, 1), stride=(1, 1), bias=False\n",
       "          (norm): FrozenBatchNorm2d(num_features=512, eps=1e-05)\n",
       "        )\n",
       "      )\n",
       "    )\n",
       "    (res4): Sequential(\n",
       "      (0): BottleneckBlock(\n",
       "        (shortcut): Conv2d(\n",
       "          512, 1024, kernel_size=(1, 1), stride=(2, 2), bias=False\n",
       "          (norm): FrozenBatchNorm2d(num_features=1024, eps=1e-05)\n",
       "        )\n",
       "        (conv1): Conv2d(\n",
       "          512, 256, kernel_size=(1, 1), stride=(2, 2), bias=False\n",
       "          (norm): FrozenBatchNorm2d(num_features=256, eps=1e-05)\n",
       "        )\n",
       "        (conv2): Conv2d(\n",
       "          256, 256, kernel_size=(3, 3), stride=(1, 1), padding=(1, 1), bias=False\n",
       "          (norm): FrozenBatchNorm2d(num_features=256, eps=1e-05)\n",
       "        )\n",
       "        (conv3): Conv2d(\n",
       "          256, 1024, kernel_size=(1, 1), stride=(1, 1), bias=False\n",
       "          (norm): FrozenBatchNorm2d(num_features=1024, eps=1e-05)\n",
       "        )\n",
       "      )\n",
       "      (1): BottleneckBlock(\n",
       "        (conv1): Conv2d(\n",
       "          1024, 256, kernel_size=(1, 1), stride=(1, 1), bias=False\n",
       "          (norm): FrozenBatchNorm2d(num_features=256, eps=1e-05)\n",
       "        )\n",
       "        (conv2): Conv2d(\n",
       "          256, 256, kernel_size=(3, 3), stride=(1, 1), padding=(1, 1), bias=False\n",
       "          (norm): FrozenBatchNorm2d(num_features=256, eps=1e-05)\n",
       "        )\n",
       "        (conv3): Conv2d(\n",
       "          256, 1024, kernel_size=(1, 1), stride=(1, 1), bias=False\n",
       "          (norm): FrozenBatchNorm2d(num_features=1024, eps=1e-05)\n",
       "        )\n",
       "      )\n",
       "      (2): BottleneckBlock(\n",
       "        (conv1): Conv2d(\n",
       "          1024, 256, kernel_size=(1, 1), stride=(1, 1), bias=False\n",
       "          (norm): FrozenBatchNorm2d(num_features=256, eps=1e-05)\n",
       "        )\n",
       "        (conv2): Conv2d(\n",
       "          256, 256, kernel_size=(3, 3), stride=(1, 1), padding=(1, 1), bias=False\n",
       "          (norm): FrozenBatchNorm2d(num_features=256, eps=1e-05)\n",
       "        )\n",
       "        (conv3): Conv2d(\n",
       "          256, 1024, kernel_size=(1, 1), stride=(1, 1), bias=False\n",
       "          (norm): FrozenBatchNorm2d(num_features=1024, eps=1e-05)\n",
       "        )\n",
       "      )\n",
       "      (3): BottleneckBlock(\n",
       "        (conv1): Conv2d(\n",
       "          1024, 256, kernel_size=(1, 1), stride=(1, 1), bias=False\n",
       "          (norm): FrozenBatchNorm2d(num_features=256, eps=1e-05)\n",
       "        )\n",
       "        (conv2): Conv2d(\n",
       "          256, 256, kernel_size=(3, 3), stride=(1, 1), padding=(1, 1), bias=False\n",
       "          (norm): FrozenBatchNorm2d(num_features=256, eps=1e-05)\n",
       "        )\n",
       "        (conv3): Conv2d(\n",
       "          256, 1024, kernel_size=(1, 1), stride=(1, 1), bias=False\n",
       "          (norm): FrozenBatchNorm2d(num_features=1024, eps=1e-05)\n",
       "        )\n",
       "      )\n",
       "      (4): BottleneckBlock(\n",
       "        (conv1): Conv2d(\n",
       "          1024, 256, kernel_size=(1, 1), stride=(1, 1), bias=False\n",
       "          (norm): FrozenBatchNorm2d(num_features=256, eps=1e-05)\n",
       "        )\n",
       "        (conv2): Conv2d(\n",
       "          256, 256, kernel_size=(3, 3), stride=(1, 1), padding=(1, 1), bias=False\n",
       "          (norm): FrozenBatchNorm2d(num_features=256, eps=1e-05)\n",
       "        )\n",
       "        (conv3): Conv2d(\n",
       "          256, 1024, kernel_size=(1, 1), stride=(1, 1), bias=False\n",
       "          (norm): FrozenBatchNorm2d(num_features=1024, eps=1e-05)\n",
       "        )\n",
       "      )\n",
       "      (5): BottleneckBlock(\n",
       "        (conv1): Conv2d(\n",
       "          1024, 256, kernel_size=(1, 1), stride=(1, 1), bias=False\n",
       "          (norm): FrozenBatchNorm2d(num_features=256, eps=1e-05)\n",
       "        )\n",
       "        (conv2): Conv2d(\n",
       "          256, 256, kernel_size=(3, 3), stride=(1, 1), padding=(1, 1), bias=False\n",
       "          (norm): FrozenBatchNorm2d(num_features=256, eps=1e-05)\n",
       "        )\n",
       "        (conv3): Conv2d(\n",
       "          256, 1024, kernel_size=(1, 1), stride=(1, 1), bias=False\n",
       "          (norm): FrozenBatchNorm2d(num_features=1024, eps=1e-05)\n",
       "        )\n",
       "      )\n",
       "    )\n",
       "  )\n",
       "  (proposal_generator): RPN(\n",
       "    (anchor_generator): DefaultAnchorGenerator(\n",
       "      (cell_anchors): BufferList()\n",
       "    )\n",
       "    (rpn_head): StandardRPNHead(\n",
       "      (conv): Conv2d(1024, 1024, kernel_size=(3, 3), stride=(1, 1), padding=(1, 1))\n",
       "      (objectness_logits): Conv2d(1024, 15, kernel_size=(1, 1), stride=(1, 1))\n",
       "      (anchor_deltas): Conv2d(1024, 60, kernel_size=(1, 1), stride=(1, 1))\n",
       "    )\n",
       "  )\n",
       "  (roi_heads): Res5ROIHeads(\n",
       "    (pooler): ROIPooler(\n",
       "      (level_poolers): ModuleList(\n",
       "        (0): ROIAlign(output_size=(14, 14), spatial_scale=0.0625, sampling_ratio=0, aligned=True)\n",
       "      )\n",
       "    )\n",
       "    (res5): Sequential(\n",
       "      (0): BottleneckBlock(\n",
       "        (shortcut): Conv2d(\n",
       "          1024, 2048, kernel_size=(1, 1), stride=(2, 2), bias=False\n",
       "          (norm): FrozenBatchNorm2d(num_features=2048, eps=1e-05)\n",
       "        )\n",
       "        (conv1): Conv2d(\n",
       "          1024, 512, kernel_size=(1, 1), stride=(2, 2), bias=False\n",
       "          (norm): FrozenBatchNorm2d(num_features=512, eps=1e-05)\n",
       "        )\n",
       "        (conv2): Conv2d(\n",
       "          512, 512, kernel_size=(3, 3), stride=(1, 1), padding=(1, 1), bias=False\n",
       "          (norm): FrozenBatchNorm2d(num_features=512, eps=1e-05)\n",
       "        )\n",
       "        (conv3): Conv2d(\n",
       "          512, 2048, kernel_size=(1, 1), stride=(1, 1), bias=False\n",
       "          (norm): FrozenBatchNorm2d(num_features=2048, eps=1e-05)\n",
       "        )\n",
       "      )\n",
       "      (1): BottleneckBlock(\n",
       "        (conv1): Conv2d(\n",
       "          2048, 512, kernel_size=(1, 1), stride=(1, 1), bias=False\n",
       "          (norm): FrozenBatchNorm2d(num_features=512, eps=1e-05)\n",
       "        )\n",
       "        (conv2): Conv2d(\n",
       "          512, 512, kernel_size=(3, 3), stride=(1, 1), padding=(1, 1), bias=False\n",
       "          (norm): FrozenBatchNorm2d(num_features=512, eps=1e-05)\n",
       "        )\n",
       "        (conv3): Conv2d(\n",
       "          512, 2048, kernel_size=(1, 1), stride=(1, 1), bias=False\n",
       "          (norm): FrozenBatchNorm2d(num_features=2048, eps=1e-05)\n",
       "        )\n",
       "      )\n",
       "      (2): BottleneckBlock(\n",
       "        (conv1): Conv2d(\n",
       "          2048, 512, kernel_size=(1, 1), stride=(1, 1), bias=False\n",
       "          (norm): FrozenBatchNorm2d(num_features=512, eps=1e-05)\n",
       "        )\n",
       "        (conv2): Conv2d(\n",
       "          512, 512, kernel_size=(3, 3), stride=(1, 1), padding=(1, 1), bias=False\n",
       "          (norm): FrozenBatchNorm2d(num_features=512, eps=1e-05)\n",
       "        )\n",
       "        (conv3): Conv2d(\n",
       "          512, 2048, kernel_size=(1, 1), stride=(1, 1), bias=False\n",
       "          (norm): FrozenBatchNorm2d(num_features=2048, eps=1e-05)\n",
       "        )\n",
       "      )\n",
       "    )\n",
       "    (box_predictor): FastRCNNOutputLayers(\n",
       "      (cls_score): Linear(in_features=2048, out_features=81, bias=True)\n",
       "      (bbox_pred): Linear(in_features=2048, out_features=320, bias=True)\n",
       "    )\n",
       "    (mask_head): MaskRCNNConvUpsampleHead(\n",
       "      (deconv): ConvTranspose2d(2048, 256, kernel_size=(2, 2), stride=(2, 2))\n",
       "      (predictor): Conv2d(256, 80, kernel_size=(1, 1), stride=(1, 1))\n",
       "    )\n",
       "  )\n",
       ")"
      ]
     },
     "execution_count": 40,
     "metadata": {},
     "output_type": "execute_result"
    }
   ],
   "source": [
    "cfg = get_cfg()\n",
    "cfg.merge_from_file(config_path) #load the desired model (in local directory)\n",
    "#cfg.merge_from_file(\"./configs/COCO-Keypoints/keypoint_rcnn_R_50_FPN_3x.yaml\") #load the desired model (in local directory)\n",
    "#cfg.merge_from_file(\"../configs/COCO-Detection/faster_rcnn_R_50_C4_3x.yaml\") #load the desired model (in local directory)\n",
    "cfg.MODEL.ROI_HEADS.SCORE_THRESH_TEST = 0.5 # set threshold for this model\n",
    "\n",
    "metadata = MetadataCatalog.get(\n",
    "    cfg.DATASETS.TEST[0] if len(cfg.DATASETS.TEST) else \"__unused\"\n",
    ")\n",
    "#cpu_device = torch.device(\"cpu\")\n",
    "instance_mode = ColorMode.IMAGE\n",
    "\n",
    "model = build_model(cfg) # returns a torch.nn.Module\n",
    "DetectionCheckpointer(model).load(model_path) # must load weights this way (in local directory)\n",
    "#DetectionCheckpointer(model).load('./models/keypoint_rcnn_r50_3x/model_final_a6e10b.pkl') # must load weights this way\n",
    "#DetectionCheckpointer(model).load('../models/faster_rcnn_r50_c4/model_final_f97cb7.pkl') # must load weights this way (in local directory)\n",
    "model.train(False) # inference mode"
   ]
  },
  {
   "cell_type": "code",
   "execution_count": 41,
   "metadata": {},
   "outputs": [],
   "source": [
    "torch.cuda.empty_cache()"
   ]
  },
  {
   "cell_type": "code",
   "execution_count": 42,
   "metadata": {},
   "outputs": [
    {
     "name": "stdout",
     "output_type": "stream",
     "text": [
      "./sample_videos/driveby.mp4\n",
      "Height:  720\n",
      "Width:  1280\n",
      "Framerate:  30\n",
      "Total Frames:  260\n"
     ]
    }
   ],
   "source": [
    "path = video_path+video_name\n",
    "print(path)\n",
    "vid_height, vid_width, framerate, num_frames = get_info(path)\n",
    "q = Queue()\n",
    "decoder = image2pipe.images_from_url(q, path, fps=framerate, pix_fmt='rgb24', scale=(width, height))\n",
    "decoder.start()"
   ]
  },
  {
   "cell_type": "code",
   "execution_count": 43,
   "metadata": {},
   "outputs": [],
   "source": [
    "#Create an empty list to store a tensor for each video frame\n",
    "detectron_tensors = []\n",
    "detectron_frames = []"
   ]
  },
  {
   "cell_type": "code",
   "execution_count": 44,
   "metadata": {},
   "outputs": [
    {
     "name": "stderr",
     "output_type": "stream",
     "text": [
      " 12%|█▏        | 31/260 [00:14<01:44,  2.19it/s]\n"
     ]
    },
    {
     "data": {
      "text/plain": [
       "<Figure size 432x288 with 0 Axes>"
      ]
     },
     "metadata": {},
     "output_type": "display_data"
    }
   ],
   "source": [
    "for x in tqdm.trange(num_frames):\n",
    "    try:\n",
    "        fn, img = q.get()\n",
    "        #print(fn)\n",
    "        #print(img.shape)\n",
    "        image = Image.fromarray(img, 'RGB')\n",
    "        open_cv_image = cv2.cvtColor(np.array(image), cv2.COLOR_RGB2BGR)\n",
    "        #img_orignal = cv2.imread(open_cv_image)\n",
    "        frame_tensor = get_image_tensor(open_cv_image)\n",
    "\n",
    "        x = [{\"image\" : frame_tensor, \"height\": 704, \"width\": 1280}] * 1\n",
    "        #get predictions from the model\n",
    "        predictions = model(x)\n",
    "        #print the predictions\n",
    "        bin_mask = predictions[0]['instances'].pred_masks\n",
    "        #print(bin_mask)\n",
    "        #print(bin_mask.shape) #bin mask is a tensor of shape t,h,w\n",
    "        #print(det_tensor.type())\n",
    "        #print(bin_mask.type())\n",
    "        #det_tensor = torch.stack((det_tensor, bin_mask))\n",
    "        detectron_tensors.append(bin_mask)\n",
    "        bin_mask_np = bin_mask.cuda().detach().cpu().clone().numpy()\n",
    "        #print(bin_mask_np.shape)\n",
    "        num_classes = bin_mask_np.shape[0]\n",
    "        #print(\"num classes: \", num_classes)\n",
    "        \n",
    "        #add the frame mask to the list of masks\n",
    "        detectron_frames.append(bin_mask_np)\n",
    "\n",
    "        a = np.zeros((704, 1280), dtype=bool)\n",
    "\n",
    "\n",
    "        for i in range(num_classes): #for all the classes detected\n",
    "            x = bin_mask_np[i,:,:] #x is the ith class\n",
    "            new_mask = np.ma.mask_or(a, x) #logic or the current classes pixels with the other classes pixels\n",
    "            a = new_mask #update the new mask\n",
    "\n",
    "        #plt.imshow(a)\n",
    "        #plt.show()\n",
    "        del predictions\n",
    "        torch.cuda.empty_cache()\n",
    "        name = \"temp_\" + str(fn) + \".png\"\n",
    "        #plt.imshow(a)\n",
    "        plt.savefig(name)\n",
    "        #ipdb.set_trace()#create a breakpoint\n",
    "        if(fn>30): #stop after 30 frames\n",
    "            break\n",
    "    except TypeError as e:\n",
    "        print(\"The error: \")\n",
    "        print(e)\n",
    "        print(\"End of frames\")\n",
    "        break"
   ]
  },
  {
   "cell_type": "code",
   "execution_count": 45,
   "metadata": {},
   "outputs": [
    {
     "data": {
      "text/plain": [
       "GeneralizedRCNN(\n",
       "  (backbone): ResNet(\n",
       "    (stem): BasicStem(\n",
       "      (conv1): Conv2d(\n",
       "        3, 64, kernel_size=(7, 7), stride=(2, 2), padding=(3, 3), bias=False\n",
       "        (norm): FrozenBatchNorm2d(num_features=64, eps=1e-05)\n",
       "      )\n",
       "    )\n",
       "    (res2): Sequential(\n",
       "      (0): BottleneckBlock(\n",
       "        (shortcut): Conv2d(\n",
       "          64, 256, kernel_size=(1, 1), stride=(1, 1), bias=False\n",
       "          (norm): FrozenBatchNorm2d(num_features=256, eps=1e-05)\n",
       "        )\n",
       "        (conv1): Conv2d(\n",
       "          64, 64, kernel_size=(1, 1), stride=(1, 1), bias=False\n",
       "          (norm): FrozenBatchNorm2d(num_features=64, eps=1e-05)\n",
       "        )\n",
       "        (conv2): Conv2d(\n",
       "          64, 64, kernel_size=(3, 3), stride=(1, 1), padding=(1, 1), bias=False\n",
       "          (norm): FrozenBatchNorm2d(num_features=64, eps=1e-05)\n",
       "        )\n",
       "        (conv3): Conv2d(\n",
       "          64, 256, kernel_size=(1, 1), stride=(1, 1), bias=False\n",
       "          (norm): FrozenBatchNorm2d(num_features=256, eps=1e-05)\n",
       "        )\n",
       "      )\n",
       "      (1): BottleneckBlock(\n",
       "        (conv1): Conv2d(\n",
       "          256, 64, kernel_size=(1, 1), stride=(1, 1), bias=False\n",
       "          (norm): FrozenBatchNorm2d(num_features=64, eps=1e-05)\n",
       "        )\n",
       "        (conv2): Conv2d(\n",
       "          64, 64, kernel_size=(3, 3), stride=(1, 1), padding=(1, 1), bias=False\n",
       "          (norm): FrozenBatchNorm2d(num_features=64, eps=1e-05)\n",
       "        )\n",
       "        (conv3): Conv2d(\n",
       "          64, 256, kernel_size=(1, 1), stride=(1, 1), bias=False\n",
       "          (norm): FrozenBatchNorm2d(num_features=256, eps=1e-05)\n",
       "        )\n",
       "      )\n",
       "      (2): BottleneckBlock(\n",
       "        (conv1): Conv2d(\n",
       "          256, 64, kernel_size=(1, 1), stride=(1, 1), bias=False\n",
       "          (norm): FrozenBatchNorm2d(num_features=64, eps=1e-05)\n",
       "        )\n",
       "        (conv2): Conv2d(\n",
       "          64, 64, kernel_size=(3, 3), stride=(1, 1), padding=(1, 1), bias=False\n",
       "          (norm): FrozenBatchNorm2d(num_features=64, eps=1e-05)\n",
       "        )\n",
       "        (conv3): Conv2d(\n",
       "          64, 256, kernel_size=(1, 1), stride=(1, 1), bias=False\n",
       "          (norm): FrozenBatchNorm2d(num_features=256, eps=1e-05)\n",
       "        )\n",
       "      )\n",
       "    )\n",
       "    (res3): Sequential(\n",
       "      (0): BottleneckBlock(\n",
       "        (shortcut): Conv2d(\n",
       "          256, 512, kernel_size=(1, 1), stride=(2, 2), bias=False\n",
       "          (norm): FrozenBatchNorm2d(num_features=512, eps=1e-05)\n",
       "        )\n",
       "        (conv1): Conv2d(\n",
       "          256, 128, kernel_size=(1, 1), stride=(2, 2), bias=False\n",
       "          (norm): FrozenBatchNorm2d(num_features=128, eps=1e-05)\n",
       "        )\n",
       "        (conv2): Conv2d(\n",
       "          128, 128, kernel_size=(3, 3), stride=(1, 1), padding=(1, 1), bias=False\n",
       "          (norm): FrozenBatchNorm2d(num_features=128, eps=1e-05)\n",
       "        )\n",
       "        (conv3): Conv2d(\n",
       "          128, 512, kernel_size=(1, 1), stride=(1, 1), bias=False\n",
       "          (norm): FrozenBatchNorm2d(num_features=512, eps=1e-05)\n",
       "        )\n",
       "      )\n",
       "      (1): BottleneckBlock(\n",
       "        (conv1): Conv2d(\n",
       "          512, 128, kernel_size=(1, 1), stride=(1, 1), bias=False\n",
       "          (norm): FrozenBatchNorm2d(num_features=128, eps=1e-05)\n",
       "        )\n",
       "        (conv2): Conv2d(\n",
       "          128, 128, kernel_size=(3, 3), stride=(1, 1), padding=(1, 1), bias=False\n",
       "          (norm): FrozenBatchNorm2d(num_features=128, eps=1e-05)\n",
       "        )\n",
       "        (conv3): Conv2d(\n",
       "          128, 512, kernel_size=(1, 1), stride=(1, 1), bias=False\n",
       "          (norm): FrozenBatchNorm2d(num_features=512, eps=1e-05)\n",
       "        )\n",
       "      )\n",
       "      (2): BottleneckBlock(\n",
       "        (conv1): Conv2d(\n",
       "          512, 128, kernel_size=(1, 1), stride=(1, 1), bias=False\n",
       "          (norm): FrozenBatchNorm2d(num_features=128, eps=1e-05)\n",
       "        )\n",
       "        (conv2): Conv2d(\n",
       "          128, 128, kernel_size=(3, 3), stride=(1, 1), padding=(1, 1), bias=False\n",
       "          (norm): FrozenBatchNorm2d(num_features=128, eps=1e-05)\n",
       "        )\n",
       "        (conv3): Conv2d(\n",
       "          128, 512, kernel_size=(1, 1), stride=(1, 1), bias=False\n",
       "          (norm): FrozenBatchNorm2d(num_features=512, eps=1e-05)\n",
       "        )\n",
       "      )\n",
       "      (3): BottleneckBlock(\n",
       "        (conv1): Conv2d(\n",
       "          512, 128, kernel_size=(1, 1), stride=(1, 1), bias=False\n",
       "          (norm): FrozenBatchNorm2d(num_features=128, eps=1e-05)\n",
       "        )\n",
       "        (conv2): Conv2d(\n",
       "          128, 128, kernel_size=(3, 3), stride=(1, 1), padding=(1, 1), bias=False\n",
       "          (norm): FrozenBatchNorm2d(num_features=128, eps=1e-05)\n",
       "        )\n",
       "        (conv3): Conv2d(\n",
       "          128, 512, kernel_size=(1, 1), stride=(1, 1), bias=False\n",
       "          (norm): FrozenBatchNorm2d(num_features=512, eps=1e-05)\n",
       "        )\n",
       "      )\n",
       "    )\n",
       "    (res4): Sequential(\n",
       "      (0): BottleneckBlock(\n",
       "        (shortcut): Conv2d(\n",
       "          512, 1024, kernel_size=(1, 1), stride=(2, 2), bias=False\n",
       "          (norm): FrozenBatchNorm2d(num_features=1024, eps=1e-05)\n",
       "        )\n",
       "        (conv1): Conv2d(\n",
       "          512, 256, kernel_size=(1, 1), stride=(2, 2), bias=False\n",
       "          (norm): FrozenBatchNorm2d(num_features=256, eps=1e-05)\n",
       "        )\n",
       "        (conv2): Conv2d(\n",
       "          256, 256, kernel_size=(3, 3), stride=(1, 1), padding=(1, 1), bias=False\n",
       "          (norm): FrozenBatchNorm2d(num_features=256, eps=1e-05)\n",
       "        )\n",
       "        (conv3): Conv2d(\n",
       "          256, 1024, kernel_size=(1, 1), stride=(1, 1), bias=False\n",
       "          (norm): FrozenBatchNorm2d(num_features=1024, eps=1e-05)\n",
       "        )\n",
       "      )\n",
       "      (1): BottleneckBlock(\n",
       "        (conv1): Conv2d(\n",
       "          1024, 256, kernel_size=(1, 1), stride=(1, 1), bias=False\n",
       "          (norm): FrozenBatchNorm2d(num_features=256, eps=1e-05)\n",
       "        )\n",
       "        (conv2): Conv2d(\n",
       "          256, 256, kernel_size=(3, 3), stride=(1, 1), padding=(1, 1), bias=False\n",
       "          (norm): FrozenBatchNorm2d(num_features=256, eps=1e-05)\n",
       "        )\n",
       "        (conv3): Conv2d(\n",
       "          256, 1024, kernel_size=(1, 1), stride=(1, 1), bias=False\n",
       "          (norm): FrozenBatchNorm2d(num_features=1024, eps=1e-05)\n",
       "        )\n",
       "      )\n",
       "      (2): BottleneckBlock(\n",
       "        (conv1): Conv2d(\n",
       "          1024, 256, kernel_size=(1, 1), stride=(1, 1), bias=False\n",
       "          (norm): FrozenBatchNorm2d(num_features=256, eps=1e-05)\n",
       "        )\n",
       "        (conv2): Conv2d(\n",
       "          256, 256, kernel_size=(3, 3), stride=(1, 1), padding=(1, 1), bias=False\n",
       "          (norm): FrozenBatchNorm2d(num_features=256, eps=1e-05)\n",
       "        )\n",
       "        (conv3): Conv2d(\n",
       "          256, 1024, kernel_size=(1, 1), stride=(1, 1), bias=False\n",
       "          (norm): FrozenBatchNorm2d(num_features=1024, eps=1e-05)\n",
       "        )\n",
       "      )\n",
       "      (3): BottleneckBlock(\n",
       "        (conv1): Conv2d(\n",
       "          1024, 256, kernel_size=(1, 1), stride=(1, 1), bias=False\n",
       "          (norm): FrozenBatchNorm2d(num_features=256, eps=1e-05)\n",
       "        )\n",
       "        (conv2): Conv2d(\n",
       "          256, 256, kernel_size=(3, 3), stride=(1, 1), padding=(1, 1), bias=False\n",
       "          (norm): FrozenBatchNorm2d(num_features=256, eps=1e-05)\n",
       "        )\n",
       "        (conv3): Conv2d(\n",
       "          256, 1024, kernel_size=(1, 1), stride=(1, 1), bias=False\n",
       "          (norm): FrozenBatchNorm2d(num_features=1024, eps=1e-05)\n",
       "        )\n",
       "      )\n",
       "      (4): BottleneckBlock(\n",
       "        (conv1): Conv2d(\n",
       "          1024, 256, kernel_size=(1, 1), stride=(1, 1), bias=False\n",
       "          (norm): FrozenBatchNorm2d(num_features=256, eps=1e-05)\n",
       "        )\n",
       "        (conv2): Conv2d(\n",
       "          256, 256, kernel_size=(3, 3), stride=(1, 1), padding=(1, 1), bias=False\n",
       "          (norm): FrozenBatchNorm2d(num_features=256, eps=1e-05)\n",
       "        )\n",
       "        (conv3): Conv2d(\n",
       "          256, 1024, kernel_size=(1, 1), stride=(1, 1), bias=False\n",
       "          (norm): FrozenBatchNorm2d(num_features=1024, eps=1e-05)\n",
       "        )\n",
       "      )\n",
       "      (5): BottleneckBlock(\n",
       "        (conv1): Conv2d(\n",
       "          1024, 256, kernel_size=(1, 1), stride=(1, 1), bias=False\n",
       "          (norm): FrozenBatchNorm2d(num_features=256, eps=1e-05)\n",
       "        )\n",
       "        (conv2): Conv2d(\n",
       "          256, 256, kernel_size=(3, 3), stride=(1, 1), padding=(1, 1), bias=False\n",
       "          (norm): FrozenBatchNorm2d(num_features=256, eps=1e-05)\n",
       "        )\n",
       "        (conv3): Conv2d(\n",
       "          256, 1024, kernel_size=(1, 1), stride=(1, 1), bias=False\n",
       "          (norm): FrozenBatchNorm2d(num_features=1024, eps=1e-05)\n",
       "        )\n",
       "      )\n",
       "    )\n",
       "  )\n",
       "  (proposal_generator): RPN(\n",
       "    (anchor_generator): DefaultAnchorGenerator(\n",
       "      (cell_anchors): BufferList()\n",
       "    )\n",
       "    (rpn_head): StandardRPNHead(\n",
       "      (conv): Conv2d(1024, 1024, kernel_size=(3, 3), stride=(1, 1), padding=(1, 1))\n",
       "      (objectness_logits): Conv2d(1024, 15, kernel_size=(1, 1), stride=(1, 1))\n",
       "      (anchor_deltas): Conv2d(1024, 60, kernel_size=(1, 1), stride=(1, 1))\n",
       "    )\n",
       "  )\n",
       "  (roi_heads): Res5ROIHeads(\n",
       "    (pooler): ROIPooler(\n",
       "      (level_poolers): ModuleList(\n",
       "        (0): ROIAlign(output_size=(14, 14), spatial_scale=0.0625, sampling_ratio=0, aligned=True)\n",
       "      )\n",
       "    )\n",
       "    (res5): Sequential(\n",
       "      (0): BottleneckBlock(\n",
       "        (shortcut): Conv2d(\n",
       "          1024, 2048, kernel_size=(1, 1), stride=(2, 2), bias=False\n",
       "          (norm): FrozenBatchNorm2d(num_features=2048, eps=1e-05)\n",
       "        )\n",
       "        (conv1): Conv2d(\n",
       "          1024, 512, kernel_size=(1, 1), stride=(2, 2), bias=False\n",
       "          (norm): FrozenBatchNorm2d(num_features=512, eps=1e-05)\n",
       "        )\n",
       "        (conv2): Conv2d(\n",
       "          512, 512, kernel_size=(3, 3), stride=(1, 1), padding=(1, 1), bias=False\n",
       "          (norm): FrozenBatchNorm2d(num_features=512, eps=1e-05)\n",
       "        )\n",
       "        (conv3): Conv2d(\n",
       "          512, 2048, kernel_size=(1, 1), stride=(1, 1), bias=False\n",
       "          (norm): FrozenBatchNorm2d(num_features=2048, eps=1e-05)\n",
       "        )\n",
       "      )\n",
       "      (1): BottleneckBlock(\n",
       "        (conv1): Conv2d(\n",
       "          2048, 512, kernel_size=(1, 1), stride=(1, 1), bias=False\n",
       "          (norm): FrozenBatchNorm2d(num_features=512, eps=1e-05)\n",
       "        )\n",
       "        (conv2): Conv2d(\n",
       "          512, 512, kernel_size=(3, 3), stride=(1, 1), padding=(1, 1), bias=False\n",
       "          (norm): FrozenBatchNorm2d(num_features=512, eps=1e-05)\n",
       "        )\n",
       "        (conv3): Conv2d(\n",
       "          512, 2048, kernel_size=(1, 1), stride=(1, 1), bias=False\n",
       "          (norm): FrozenBatchNorm2d(num_features=2048, eps=1e-05)\n",
       "        )\n",
       "      )\n",
       "      (2): BottleneckBlock(\n",
       "        (conv1): Conv2d(\n",
       "          2048, 512, kernel_size=(1, 1), stride=(1, 1), bias=False\n",
       "          (norm): FrozenBatchNorm2d(num_features=512, eps=1e-05)\n",
       "        )\n",
       "        (conv2): Conv2d(\n",
       "          512, 512, kernel_size=(3, 3), stride=(1, 1), padding=(1, 1), bias=False\n",
       "          (norm): FrozenBatchNorm2d(num_features=512, eps=1e-05)\n",
       "        )\n",
       "        (conv3): Conv2d(\n",
       "          512, 2048, kernel_size=(1, 1), stride=(1, 1), bias=False\n",
       "          (norm): FrozenBatchNorm2d(num_features=2048, eps=1e-05)\n",
       "        )\n",
       "      )\n",
       "    )\n",
       "    (box_predictor): FastRCNNOutputLayers(\n",
       "      (cls_score): Linear(in_features=2048, out_features=81, bias=True)\n",
       "      (bbox_pred): Linear(in_features=2048, out_features=320, bias=True)\n",
       "    )\n",
       "    (mask_head): MaskRCNNConvUpsampleHead(\n",
       "      (deconv): ConvTranspose2d(2048, 256, kernel_size=(2, 2), stride=(2, 2))\n",
       "      (predictor): Conv2d(256, 80, kernel_size=(1, 1), stride=(1, 1))\n",
       "    )\n",
       "  )\n",
       ")"
      ]
     },
     "execution_count": 45,
     "metadata": {},
     "output_type": "execute_result"
    }
   ],
   "source": [
    "model"
   ]
  },
  {
   "cell_type": "markdown",
   "metadata": {},
   "source": [
    "Create a Tensor that holds the overall segmentation mask of the first 30 video frames.\n",
    "\n",
    "Also create a list that holds each frames segmentation mask as a numpy array."
   ]
  },
  {
   "cell_type": "code",
   "execution_count": 46,
   "metadata": {},
   "outputs": [],
   "source": [
    "flow_image_list = sorted(glob.glob('./flow_data/driveby/images/*.png'))"
   ]
  },
  {
   "cell_type": "code",
   "execution_count": 47,
   "metadata": {},
   "outputs": [
    {
     "name": "stdout",
     "output_type": "stream",
     "text": [
      "Shape of segmentation frames tensor:  torch.Size([30, 704, 1280])\n",
      "Length of segmentation mask frames list:  30\n"
     ]
    }
   ],
   "source": [
    "#ensure GPU is set as device if it available\n",
    "device = torch.device(\"cuda:0\" if torch.cuda.is_available() else \"cpu\")\n",
    "detectron_combined_frames = []\n",
    "to_combine = [] #temp list of frame seg mask tensors that will later be stacked\n",
    "\n",
    "for a in range(len(flow_image_list)):\n",
    "    current_frame = detectron_frames[a]\n",
    "    num_classes = current_frame.shape[0]\n",
    "    seg_mask = np.zeros((height, width), dtype=bool)\n",
    "    for b in range(num_classes):\n",
    "        b = current_frame[b,:,:] #x is the ith class\n",
    "        new_mask = np.ma.mask_or(seg_mask, b) #logic or the current classes pixels with the other classes pixels\n",
    "        seg_mask = new_mask #update the new mask\n",
    "    #plt.imshow(seg_mask)\n",
    "    detectron_combined_frames.append(seg_mask)\n",
    "    seg_tensor = torch.from_numpy(seg_mask).to(device)\n",
    "    to_combine.append(seg_tensor)\n",
    "seg_frames_tensor = torch.stack(to_combine)\n",
    "\n",
    "print(\"Shape of segmentation frames tensor: \",seg_frames_tensor.shape)\n",
    "print(\"Length of segmentation mask frames list: \",len(detectron_combined_frames))"
   ]
  },
  {
   "cell_type": "code",
   "execution_count": 68,
   "metadata": {},
   "outputs": [],
   "source": [
    "#create the output video with ffmpeg\n",
    "output_name = '2_detectron2_output_resized.mp4'\n",
    "out = sp.run([\"ffmpeg\", \"-y\", \"-i\", \"temp_%d.png\", \"-vcodec\", \"mpeg4\", output_name])\n",
    "\n",
    "#now delete the temp frames\n",
    "#delete the temp .png files\n",
    "fileList = glob.glob('temp_*.png')\n",
    "#Iterate over the list of filepaths & remove each file.\n",
    "for filePath in fileList:\n",
    "    try:\n",
    "        os.remove(filePath)\n",
    "    except:\n",
    "        print(\"Error while deleting file : \", filePath)"
   ]
  },
  {
   "cell_type": "markdown",
   "metadata": {},
   "source": [
    "Lets use the flow data for the same video to create a similar flow frames tensor and flow mask list."
   ]
  },
  {
   "cell_type": "code",
   "execution_count": 49,
   "metadata": {},
   "outputs": [],
   "source": [
    "flow_file_list = sorted(glob.glob('./flow_data/driveby/*.flo'))"
   ]
  },
  {
   "cell_type": "code",
   "execution_count": 50,
   "metadata": {},
   "outputs": [
    {
     "name": "stdout",
     "output_type": "stream",
     "text": [
      "Shape of flow frames tensor:  torch.Size([30, 704, 1280])\n",
      "Length of flow mask frames list:  30\n"
     ]
    }
   ],
   "source": [
    "#ensure GPU is set as device if it available\n",
    "device = torch.device(\"cuda:0\" if torch.cuda.is_available() else \"cpu\")\n",
    "\n",
    "flow_combined_frames = [] #a list to hold each frames flow mask\n",
    "to_combine = [] #temp list of frame flow tensors that will later be stacked\n",
    "\n",
    "for file in range(len(flow_file_list)):\n",
    "    flow, flow_tensor, flow_mask, height, width = flow_to_mask(flow_file_list[file])\n",
    "    flow_combined_frames.append(flow_mask)\n",
    "    to_combine.append(torch.from_numpy(flow_mask).to(device))\n",
    "    \n",
    "flow_frames_tensor = torch.stack(to_combine)\n",
    "\n",
    "print(\"Shape of flow frames tensor: \",flow_frames_tensor.shape)\n",
    "print(\"Length of flow mask frames list: \",len(flow_combined_frames))"
   ]
  },
  {
   "cell_type": "markdown",
   "metadata": {},
   "source": [
    "The flow mask will be considered the ground-truth layer, as we want to use it to minimize the artififacts and incorrect object segmentation of detectron2. The Detectron2 segmentation layer will be compared with the \"ground-truth layer\" below."
   ]
  },
  {
   "cell_type": "markdown",
   "metadata": {},
   "source": [
    "Change the value of ```to_compare``` to see TP, FP, TN, FN below for the frame."
   ]
  },
  {
   "cell_type": "code",
   "execution_count": 51,
   "metadata": {},
   "outputs": [],
   "source": [
    "to_compare = 15 #pick a value from 0-30"
   ]
  },
  {
   "cell_type": "markdown",
   "metadata": {},
   "source": [
    "#### True Positives (TP)"
   ]
  },
  {
   "cell_type": "markdown",
   "metadata": {},
   "source": [
    "Effectively a logical AND of the segmentation layer with the ground-truth layer. This tells us the area where Detectron2 detects an object, and where FlowNet detects a moving object.\n",
    "Let's visualize a TP."
   ]
  },
  {
   "cell_type": "code",
   "execution_count": 52,
   "metadata": {},
   "outputs": [
    {
     "data": {
      "image/png": "[encoded data removed]",
      "text/plain": [
       "<Figure size 720x720 with 3 Axes>"
      ]
     },
     "metadata": {
      "needs_background": "light"
     },
     "output_type": "display_data"
    }
   ],
   "source": [
    "#View true postives\n",
    "\n",
    "\n",
    "#create a frame using detectron2 output\n",
    "detectron_mask = detectron_combined_frames[to_compare]\n",
    "#create a frame using the FlowNet output\n",
    "flow_mask = flow_to_mask(flow_file_list[to_compare])[2]\n",
    "\n",
    "fig, axs = plt.subplots(3,1,figsize=(10,10))\n",
    "\n",
    "axs[0].set_title('Flow Mask (Ground Truth)')\n",
    "axs[0].imshow(flow_mask)\n",
    "\n",
    "axs[1].set_title('Segmentation Mask')\n",
    "axs[1].imshow(detectron_mask)\n",
    "\n",
    "axs[2].set_title('TP')\n",
    "axs[2].imshow(flow_mask & detectron_mask)\n",
    "\n",
    "fig. tight_layout()\n",
    "plt.show()"
   ]
  },
  {
   "cell_type": "markdown",
   "metadata": {},
   "source": [
    "The output of the TP for a given frame look pretty good. The objects are cleaner and there are less occurances of artifact object as each frame is checked. A downside of this approch is that Detectron2 identifies all objects while the FlowNet mask only contains moving objects. So this approach will effectively cancel out all non-moving objects. This is okay for this application of trying to improve the ability of Detectron2 to have more consistencey frame-to-frame"
   ]
  },
  {
   "cell_type": "markdown",
   "metadata": {},
   "source": [
    "#### False Positives (FP)"
   ]
  },
  {
   "cell_type": "markdown",
   "metadata": {},
   "source": [
    "Effectively segmentation layer - ground-truth layer. This tells us the area where Detectron2 detects an object, and where FlowNet does not detect a moving object. **This is probably the most important metric as it is what we want to try to minimize. In other words, the inconsitencies and artifacts produced by Detectron2 are False Positives. When Detectron2 thinks it sees an object that is actualy caused by some change in shadow, birghtness, etc. it is a False Positive**\n",
    "Let's visualize a FP."
   ]
  },
  {
   "cell_type": "code",
   "execution_count": 53,
   "metadata": {},
   "outputs": [
    {
     "data": {
      "image/png": "[encoded data removed]",
      "text/plain": [
       "<Figure size 720x720 with 3 Axes>"
      ]
     },
     "metadata": {
      "needs_background": "light"
     },
     "output_type": "display_data"
    }
   ],
   "source": [
    "#View false positives\n",
    "\n",
    "\n",
    "#create a frame using detectron2 output\n",
    "detectron_mask = detectron_combined_frames[to_compare]\n",
    "#create a frame using the FlowNet output\n",
    "flow_mask = flow_to_mask(flow_file_list[to_compare])[2]\n",
    "\n",
    "fig, axs = plt.subplots(3,1,figsize=(10,10))\n",
    "\n",
    "axs[0].set_title('Flow Mask (Ground Truth)')\n",
    "axs[0].imshow(flow_mask)\n",
    "\n",
    "axs[1].set_title('Segmentation Mask')\n",
    "axs[1].imshow(detectron_mask)\n",
    "\n",
    "zeros = np.zeros((height, width), dtype=int)\n",
    "tp = zeros + detectron_mask.astype(np.int)\n",
    "tp = tp - flow_mask.astype(np.int)\n",
    "axs[2].set_title('FP')\n",
    "axs[2].imshow(tp>0)\n",
    "\n",
    "fig.tight_layout()\n",
    "plt.show()"
   ]
  },
  {
   "cell_type": "markdown",
   "metadata": {},
   "source": [
    "#### True Negatives (TN)"
   ]
  },
  {
   "cell_type": "markdown",
   "metadata": {},
   "source": [
    "This tells us the area where Detectron2 does not detect an object, and where FlowNet does also does not detect a moving object. It is effectively the union of the background of both the segmentation mask and flow mask.\n",
    "Let's visualize a FP."
   ]
  },
  {
   "cell_type": "code",
   "execution_count": 54,
   "metadata": {},
   "outputs": [
    {
     "data": {
      "image/png": "[encoded data removed]",
      "text/plain": [
       "<Figure size 720x720 with 3 Axes>"
      ]
     },
     "metadata": {
      "needs_background": "light"
     },
     "output_type": "display_data"
    }
   ],
   "source": [
    "#View true negatives\n",
    "\n",
    "\n",
    "#create a frame using detectron2 output\n",
    "detectron_mask = detectron_combined_frames[to_compare]\n",
    "#create a frame using the FlowNet output\n",
    "flow_mask = flow_to_mask(flow_file_list[to_compare])[2]\n",
    "\n",
    "fig, axs = plt.subplots(3,1,figsize=(10,10))\n",
    "\n",
    "axs[0].set_title('Flow Mask (Ground Truth)')\n",
    "axs[0].imshow(flow_mask)\n",
    "\n",
    "axs[1].set_title('Segmentation Mask')\n",
    "axs[1].imshow(detectron_mask)\n",
    "\n",
    "ones = np.ones((height, width), dtype=int)\n",
    "seg_inv = ones - detectron_mask.astype(np.int)\n",
    "flow_inv = ones - flow_mask.astype(np.int)\n",
    "axs[2].set_title('FP')\n",
    "axs[2].imshow(flow_inv.astype(np.bool) & seg_inv.astype(np.bool))\n",
    "\n",
    "fig. tight_layout()\n",
    "plt.show()"
   ]
  },
  {
   "cell_type": "markdown",
   "metadata": {},
   "source": [
    "**ADD comments on TN based on glow layer**"
   ]
  },
  {
   "cell_type": "markdown",
   "metadata": {},
   "source": [
    "#### False Negatives (FN)"
   ]
  },
  {
   "cell_type": "markdown",
   "metadata": {},
   "source": [
    "This tells us the area where Detectron2 does not detect an object but where FlowNet does does detect a moving object. Let's call this the \"Glow Layer\".\n",
    "\n",
    "Recall that the flownet output is used to generate the ground-truth layer by appyling the magnitude method. By looking at the flownet layer below, it is clear that there are areas outside the actual objects where flownet still detects movement. As such, there is extra area outside the object where flownet still believes there is motion.\n",
    "\n",
    "Let's visualize a FN."
   ]
  },
  {
   "cell_type": "code",
   "execution_count": 55,
   "metadata": {},
   "outputs": [
    {
     "data": {
      "image/png": "[encoded data removed]",
      "text/plain": [
       "<Figure size 720x720 with 3 Axes>"
      ]
     },
     "metadata": {
      "needs_background": "light"
     },
     "output_type": "display_data"
    }
   ],
   "source": [
    "#View false negatives\n",
    "\n",
    "#create a frame using detectron2 output\n",
    "detectron_mask = detectron_combined_frames[to_compare]\n",
    "#create a frame using the FlowNet output\n",
    "flow_mask = flow_to_mask(flow_file_list[to_compare])[2]\n",
    "\n",
    "fig, axs = plt.subplots(3,1,figsize=(10,10))\n",
    "\n",
    "axs[0].set_title('Flow Mask (Ground Truth)')\n",
    "axs[0].imshow(flow_mask)\n",
    "\n",
    "axs[1].set_title('Segmentation Mask')\n",
    "axs[1].imshow(detectron_mask)\n",
    "\n",
    "ones = np.ones((height, width), dtype=int)\n",
    "seg_inv = ones - detectron_mask.astype(np.int)\n",
    "axs[2].set_title('FP')\n",
    "axs[2].imshow(flow_mask.astype(np.bool) & seg_inv.astype(np.bool))\n",
    "\n",
    "fig. tight_layout()\n",
    "plt.show()"
   ]
  },
  {
   "cell_type": "markdown",
   "metadata": {},
   "source": [
    "### What are TP, FP, TN, FN good for?"
   ]
  },
  {
   "cell_type": "markdown",
   "metadata": {},
   "source": [
    "We can use these calculations to generate useful statistics such as recall, precision etc. More notebly, we can use these statistics to create a losss function and use it to re-train a neural network. In this case, we would like to train Detectron2 to make it better at only predicting moving objects. As explained above, we have set out ground-truth layer to be the mask generated by using the threshold method on the flownet data for each frame."
   ]
  },
  {
   "cell_type": "markdown",
   "metadata": {},
   "source": [
    "Let's see if we can do some transfer learning with Detectron2 to make it better at only identifying moving objects."
   ]
  },
  {
   "cell_type": "markdown",
   "metadata": {},
   "source": [
    "# 3 - Re-training Detectron2"
   ]
  },
  {
   "cell_type": "markdown",
   "metadata": {},
   "source": [
    "Some functions have been provided below to help with this process."
   ]
  },
  {
   "cell_type": "code",
   "execution_count": 56,
   "metadata": {},
   "outputs": [],
   "source": [
    "#preds and gt same size\n",
    "def binary_dice(preds, gt,mask=None):\n",
    "    res = {}\n",
    "    one = torch.ones(preds.size()).to(preds.device)\n",
    "    if mask is None:\n",
    "        mask = one\n",
    "   \n",
    "    tp = (mask*(preds*gt)).sum() #where GT and preds both 1\n",
    "    fp = (mask*(preds*(~gt))).sum() #where pred is 1 but gt 0\n",
    "    fn = (mask*((~preds)*gt)).sum()\n",
    "    tn = (mask*((~preds)*(~gt))).sum()\n",
    "    res['acc'] = ((tp + tn)/(tp + fp + tn + fn)).item()\n",
    "    if tp + fn == 0:\n",
    "        res['recall'] = (tp + fn).item()\n",
    "    else:\n",
    "        res['recall'] = (tp/(tp + fn)).item()\n",
    "    if tp + fp == 0:\n",
    "        res['prec'] = (tp + fp).item()\n",
    "    else:\n",
    "        res['prec'] = (tp/(tp + fp)).item()\n",
    "    if tp + fp + fn == 0:\n",
    "        res['f1'] = (tp + fp + fn).item()\n",
    "        iou = tp + fp + fn\n",
    "    else:\n",
    "        res['f1'] = ((2*tp)/(2*tp + fp + fn)).item()\n",
    "        iou = tp/(tp + fp + fn)\n",
    "    loss = 1 - iou\n",
    "    res['dice'] = loss.item()\n",
    "   \n",
    "    return loss, res"
   ]
  },
  {
   "cell_type": "code",
   "execution_count": 57,
   "metadata": {},
   "outputs": [],
   "source": [
    "def dice_loss(seg_mask, flow_mask):\n",
    "    \"\"\"\n",
    "    ***\n",
    "    Calculates the dice loss.\n",
    "    n - num videos (batch size) (always 1 for now)\n",
    "    t - # frames total\n",
    "    height\n",
    "    width\n",
    "    num_instances - how many instances in the given frame\n",
    "    ***\n",
    "    seg_mask is a binary tensor of shape [t,height,width]\n",
    "    flow_mask is a tensor of shape [t,height,width]\n",
    "    \"\"\"\n",
    "    # permute predictions to make class channels be last\n",
    "    #preds = f.softmax(preds.permute(0, 2, 3, 4, 1), dim=-1)\n",
    "    #preds = discretize(preds)\n",
    "    #num_inst = seg_mask.shape[-1] #last \n",
    "    num_frames = seg_mask.shape[0] #last \n",
    "    res = {}\n",
    "    loss = 0\n",
    "    for i in range(num_frames):\n",
    "        x = seg_mask[i, :, :]\n",
    "        y = flow_mask[i, :, :]\n",
    "        loss_i, res_i = binary_dice(x, y)\n",
    "        for key, value in res_i.items():\n",
    "            res[key + f'_{i}'] = value\n",
    "        loss += loss_i\n",
    "    return loss/num_frames, res"
   ]
  },
  {
   "cell_type": "code",
   "execution_count": 58,
   "metadata": {},
   "outputs": [],
   "source": [
    "def discretize(y_soft, dstrb_name=''):\n",
    "    \"\"\"\n",
    "    Discretizes a soft signal while retaining the gradient\n",
    "    \"\"\"\n",
    "\n",
    "    y_hard = (y_soft < 0.5).float()\n",
    "\n",
    "    return y_hard - y_soft.detach() + y_soft #gumbel-softmax \"trick\""
   ]
  },
  {
   "cell_type": "markdown",
   "metadata": {},
   "source": [
    "Lets pass dice_loss the segmentation mask, and the flow mask, and see what happens. (Note that the seg mask and flow mask we pass is a N*H*W tensor. N is # of frames, H and W are height and width)"
   ]
  },
  {
   "cell_type": "code",
   "execution_count": 59,
   "metadata": {},
   "outputs": [
    {
     "name": "stdout",
     "output_type": "stream",
     "text": [
      "(tensor(0.7306, device='cuda:0'), {'acc_0': 0.9384410381317139, 'recall_0': 0.5012502074241638, 'prec_0': 0.8779165744781494, 'f1_0': 0.6381474137306213, 'dice_0': 0.5314122438430786, 'acc_1': 0.9387540221214294, 'recall_1': 0.5021955966949463, 'prec_1': 0.9025148749351501, 'f1_1': 0.645313024520874, 'dice_1': 0.5236441493034363, 'acc_2': 0.9439974427223206, 'recall_2': 0.5412324070930481, 'prec_2': 0.9026182889938354, 'f1_2': 0.676699161529541, 'dice_2': 0.48862791061401367, 'acc_3': 0.9333451986312866, 'recall_3': 0.5125793814659119, 'prec_3': 0.8804817199707031, 'f1_3': 0.647949755191803, 'dice_3': 0.5207650661468506, 'acc_4': 0.925122082233429, 'recall_4': 0.4911833703517914, 'prec_4': 0.8965580463409424, 'f1_4': 0.634663462638855, 'dice_4': 0.5351596474647522, 'acc_5': 0.9432572722434998, 'recall_5': 0.6019918918609619, 'prec_5': 0.8853888511657715, 'f1_5': 0.7166919708251953, 'dice_5': 0.44152772426605225, 'acc_6': 0.9315341114997864, 'recall_6': 0.5399836301803589, 'prec_6': 0.8901553750038147, 'f1_6': 0.6721994280815125, 'dice_6': 0.4937496781349182, 'acc_7': 0.9230058193206787, 'recall_7': 0.5062593817710876, 'prec_7': 0.901540219783783, 'f1_7': 0.6484065055847168, 'dice_7': 0.5202651619911194, 'acc_8': 0.9185224771499634, 'recall_8': 0.5053742527961731, 'prec_8': 0.9093483090400696, 'f1_8': 0.6496838927268982, 'dice_8': 0.5188653469085693, 'acc_9': 0.8004738688468933, 'recall_9': 0.295341432094574, 'prec_9': 0.9383420348167419, 'f1_9': 0.4492745101451874, 'dice_9': 0.7102810740470886, 'acc_10': 0.7250621318817139, 'recall_10': 0.16924995183944702, 'prec_10': 0.510499894618988, 'f1_10': 0.2542172968387604, 'dice_10': 0.8543820381164551, 'acc_11': 0.7117098569869995, 'recall_11': 0.1699334979057312, 'prec_11': 0.5222988128662109, 'f1_11': 0.2564343214035034, 'dice_11': 0.8529253602027893, 'acc_12': 0.7007923722267151, 'recall_12': 0.1733931601047516, 'prec_12': 0.5485169887542725, 'f1_12': 0.2634928822517395, 'dice_12': 0.8482627272605896, 'acc_13': 0.703076183795929, 'recall_13': 0.18743053078651428, 'prec_13': 0.5609803199768066, 'f1_13': 0.2809816002845764, 'dice_13': 0.8365453481674194, 'acc_14': 0.6925204396247864, 'recall_14': 0.19064804911613464, 'prec_14': 0.5651889443397522, 'f1_14': 0.2851201295852661, 'dice_14': 0.8337375521659851, 'acc_15': 0.7159789800643921, 'recall_15': 0.2117050737142563, 'prec_15': 0.5968628525733948, 'f1_15': 0.3125498592853546, 'dice_15': 0.8147798180580139, 'acc_16': 0.7456998229026794, 'recall_16': 0.24902109801769257, 'prec_16': 0.6102573871612549, 'f1_16': 0.35370829701423645, 'dice_16': 0.7851484417915344, 'acc_17': 0.7568436861038208, 'recall_17': 0.27643027901649475, 'prec_17': 0.6126411557197571, 'f1_17': 0.3809650242328644, 'dice_17': 0.7646962404251099, 'acc_18': 0.7629216909408569, 'recall_18': 0.29258960485458374, 'prec_18': 0.6028457880020142, 'f1_18': 0.3939679265022278, 'dice_18': 0.7546948194503784, 'acc_19': 0.6137340068817139, 'recall_19': 0.20912088453769684, 'prec_19': 0.7266406416893005, 'f1_19': 0.32477447390556335, 'dice_19': 0.8061308860778809, 'acc_20': 0.7947654128074646, 'recall_20': 0.3273840546607971, 'prec_20': 0.5154783129692078, 'f1_20': 0.40044349431991577, 'dice_20': 0.7496534585952759, 'acc_21': 0.7665838003158569, 'recall_21': 0.29940733313560486, 'prec_21': 0.5533826351165771, 'f1_21': 0.3885759115219116, 'dice_21': 0.758861780166626, 'acc_22': 0.7275945544242859, 'recall_22': 0.24460123479366302, 'prec_22': 0.5077851414680481, 'f1_22': 0.3301624655723572, 'dice_22': 0.8022786974906921, 'acc_23': 0.6763594150543213, 'recall_23': 0.18892410397529602, 'prec_23': 0.45859476923942566, 'f1_23': 0.26760488748550415, 'dice_23': 0.8455289602279663, 'acc_24': 0.6651256084442139, 'recall_24': 0.16487617790699005, 'prec_24': 0.41181787848472595, 'f1_24': 0.2354765385389328, 'dice_24': 0.8665494918823242, 'acc_25': 0.7001087665557861, 'recall_25': 0.17413164675235748, 'prec_25': 0.36453911662101746, 'f1_25': 0.23568309843540192, 'dice_25': 0.8664168119430542, 'acc_26': 0.6766113042831421, 'recall_26': 0.15643613040447235, 'prec_26': 0.26301309466362, 'f1_26': 0.1961846500635147, 'dice_26': 0.8912390470504761, 'acc_27': 0.7052479386329651, 'recall_27': 0.13999909162521362, 'prec_27': 0.28337880969047546, 'f1_27': 0.18741069734096527, 'dice_27': 0.8966060876846313, 'acc_28': 0.7543623447418213, 'recall_28': 0.16338953375816345, 'prec_28': 0.24625690281391144, 'f1_28': 0.19644160568714142, 'dice_28': 0.8910810947418213, 'acc_29': 0.8098621964454651, 'recall_29': 0.16114398837089539, 'prec_29': 0.1535395234823227, 'f1_29': 0.15724986791610718, 'dice_29': 0.9146656394004822})\n"
     ]
    }
   ],
   "source": [
    "#dice_loss(seg_mask, flow_mask):\n",
    "print(dice_loss(seg_frames_tensor,flow_frames_tensor))"
   ]
  },
  {
   "cell_type": "markdown",
   "metadata": {},
   "source": [
    "From the above, we can see that we have the following data, for each of the 30 frames:\n",
    "- Accuracy:\n",
    "    How well the moving objects were correctly identified by Detectron2\n",
    "- Recall:\n",
    "    (Also known as senstivity), fraction of the total amount of relevant instances that were actually retrieved\n",
    "- Precision:\n",
    "    The fraction of relevant instances among the retrieved instances\n",
    "- F1 Score:\n",
    "    The harmonic mean of Precision and Sensitivity\n",
    "\n",
    "- Dice loss:\n",
    "    If we look at the function, we can see that this 1-IOU. **In our case, this means the loss is the area of the Detectron2 segmentation mask that does not overlap with the flownet ground-truth layer**. This is what we would like to minimize.\n"
   ]
  },
  {
   "cell_type": "code",
   "execution_count": 60,
   "metadata": {},
   "outputs": [
    {
     "name": "stdout",
     "output_type": "stream",
     "text": [
      "dice_0 0.5314122438430786\n",
      "dice_1 0.5236441493034363\n",
      "dice_2 0.48862791061401367\n",
      "dice_3 0.5207650661468506\n",
      "dice_4 0.5351596474647522\n",
      "dice_5 0.44152772426605225\n",
      "dice_6 0.4937496781349182\n",
      "dice_7 0.5202651619911194\n",
      "dice_8 0.5188653469085693\n",
      "dice_9 0.7102810740470886\n",
      "dice_10 0.8543820381164551\n",
      "dice_11 0.8529253602027893\n",
      "dice_12 0.8482627272605896\n",
      "dice_13 0.8365453481674194\n",
      "dice_14 0.8337375521659851\n",
      "dice_15 0.8147798180580139\n",
      "dice_16 0.7851484417915344\n",
      "dice_17 0.7646962404251099\n",
      "dice_18 0.7546948194503784\n",
      "dice_19 0.8061308860778809\n",
      "dice_20 0.7496534585952759\n",
      "dice_21 0.758861780166626\n",
      "dice_22 0.8022786974906921\n",
      "dice_23 0.8455289602279663\n",
      "dice_24 0.8665494918823242\n",
      "dice_25 0.8664168119430542\n",
      "dice_26 0.8912390470504761\n",
      "dice_27 0.8966060876846313\n",
      "dice_28 0.8910810947418213\n",
      "dice_29 0.9146656394004822\n"
     ]
    }
   ],
   "source": [
    "loss_list = []\n",
    "frame_dict = dice_loss(seg_frames_tensor,flow_frames_tensor)[1]\n",
    "for key, value in frame_dict.items():\n",
    "    if key.startswith('dice_'):\n",
    "        print(key, value)\n",
    "        loss_list.append(value)"
   ]
  },
  {
   "cell_type": "code",
   "execution_count": 61,
   "metadata": {},
   "outputs": [
    {
     "name": "stdout",
     "output_type": "stream",
     "text": [
      "[0.5314122438430786, 0.5236441493034363, 0.48862791061401367, 0.5207650661468506, 0.5351596474647522, 0.44152772426605225, 0.4937496781349182, 0.5202651619911194, 0.5188653469085693, 0.7102810740470886, 0.8543820381164551, 0.8529253602027893, 0.8482627272605896, 0.8365453481674194, 0.8337375521659851, 0.8147798180580139, 0.7851484417915344, 0.7646962404251099, 0.7546948194503784, 0.8061308860778809, 0.7496534585952759, 0.758861780166626, 0.8022786974906921, 0.8455289602279663, 0.8665494918823242, 0.8664168119430542, 0.8912390470504761, 0.8966060876846313, 0.8910810947418213, 0.9146656394004822]\n"
     ]
    }
   ],
   "source": [
    "print(loss_list)"
   ]
  },
  {
   "cell_type": "code",
   "execution_count": 62,
   "metadata": {},
   "outputs": [],
   "source": [
    "#from: http://localhost:8888/notebooks/light-weight-refinenet/examples/notebooks/VOC.ipynb"
   ]
  },
  {
   "cell_type": "code",
   "execution_count": 63,
   "metadata": {},
   "outputs": [],
   "source": [
    "import six\n",
    "import sys\n",
    "sys.path.append('../../')\n",
    "\n",
    "from models.mobilenet import mbv2\n",
    "from models.resnet import rf_lw50, rf_lw101, rf_lw152\n",
    "from utils.helpers import prepare_img"
   ]
  },
  {
   "cell_type": "code",
   "execution_count": 64,
   "metadata": {},
   "outputs": [],
   "source": [
    "cmap = np.load('./utils/cmap.npy')\n",
    "has_cuda = torch.cuda.is_available()\n",
    "img_dir = './sample_images/VOC/'\n",
    "imgs = glob.glob('{}*.jpg'.format(img_dir))\n",
    "n_classes = 21"
   ]
  },
  {
   "cell_type": "code",
   "execution_count": 65,
   "metadata": {},
   "outputs": [],
   "source": [
    "# Initialise models\n",
    "model_inits = { \n",
    "    'rf_lw50_voc'   : rf_lw50, # key / constructor\n",
    "    'rf_lw101_voc'  : rf_lw101,\n",
    "    'rf_lw152_voc'  : rf_lw152,\n",
    "    'rf_lwmbv2_voc': mbv2\n",
    "    }\n",
    "\n",
    "models = dict()\n",
    "for key,fun in six.iteritems(model_inits):\n",
    "    net = fun(n_classes, pretrained=True).eval()\n",
    "    if has_cuda:\n",
    "        net = net.cuda()\n",
    "    models[key] = net"
   ]
  },
  {
   "cell_type": "code",
   "execution_count": 66,
   "metadata": {},
   "outputs": [
    {
     "name": "stdout",
     "output_type": "stream",
     "text": [
      "./sample_images/VOC/2008_002536.jpg\n",
      "./sample_images/VOC/2010_005582.jpg\n",
      "./sample_images/VOC/2007_004189.jpg\n"
     ]
    },
    {
     "data": {
      "image/png": "[encoded data removed]",
      "text/plain": [
       "<Figure size 1152x864 with 18 Axes>"
      ]
     },
     "metadata": {
      "needs_background": "light"
     },
     "output_type": "display_data"
    }
   ],
   "source": [
    "# Figure 2 from the paper\n",
    "n_cols = len(models) + 2 # 1 - for image, 1 - for GT\n",
    "n_rows = len(imgs)\n",
    "\n",
    "plt.figure(figsize=(16, 12))\n",
    "idx = 1\n",
    "\n",
    "with torch.no_grad():\n",
    "    for img_path in imgs:\n",
    "        print(img_path)\n",
    "        img = np.array(Image.open(img_path))\n",
    "        msk = cmap[np.array(Image.open(img_path.replace('jpg', 'png')))]\n",
    "        orig_size = img.shape[:2][::-1]\n",
    "        \n",
    "        img_inp = torch.tensor(prepare_img(img).transpose(2, 0, 1)[None]).float()\n",
    "        if has_cuda:\n",
    "            img_inp = img_inp.cuda()\n",
    "        \n",
    "        plt.subplot(n_rows, n_cols, idx)\n",
    "        plt.imshow(img)\n",
    "        plt.title('img')\n",
    "        plt.axis('off')\n",
    "        idx += 1\n",
    "        \n",
    "        plt.subplot(n_rows, n_cols, idx)\n",
    "        plt.imshow(msk)\n",
    "        plt.title('gt')\n",
    "        plt.axis('off')\n",
    "        idx += 1\n",
    "        \n",
    "        for mname, mnet in six.iteritems(models):\n",
    "            segm = mnet(img_inp)[0].data.cpu().numpy().transpose(1, 2, 0)\n",
    "            segm = cv2.resize(segm, orig_size, interpolation=cv2.INTER_CUBIC)\n",
    "            segm = cmap[segm.argmax(axis=2).astype(np.uint8)]\n",
    "            \n",
    "            plt.subplot(n_rows, n_cols, idx)\n",
    "            plt.imshow(segm)\n",
    "            plt.title(mname)\n",
    "            plt.axis('off')\n",
    "            idx += 1"
   ]
  },
  {
   "cell_type": "markdown",
   "metadata": {},
   "source": [
    "I like the look of the gt model so I will use that"
   ]
  },
  {
   "cell_type": "code",
   "execution_count": 67,
   "metadata": {},
   "outputs": [
    {
     "ename": "ValueError",
     "evalue": "operands could not be broadcast together with shapes (288,432,4) (1,1,3) ",
     "output_type": "error",
     "traceback": [
      "\u001b[0;31m---------------------------------------------------------------------------\u001b[0m",
      "\u001b[0;31mValueError\u001b[0m                                Traceback (most recent call last)",
      "\u001b[0;32m<ipython-input-67-65211f4543db>\u001b[0m in \u001b[0;36m<module>\u001b[0;34m\u001b[0m\n\u001b[1;32m      6\u001b[0m     \u001b[0morig_size\u001b[0m \u001b[0;34m=\u001b[0m \u001b[0mimg\u001b[0m\u001b[0;34m.\u001b[0m\u001b[0mshape\u001b[0m\u001b[0;34m[\u001b[0m\u001b[0;34m:\u001b[0m\u001b[0;36m2\u001b[0m\u001b[0;34m]\u001b[0m\u001b[0;34m[\u001b[0m\u001b[0;34m:\u001b[0m\u001b[0;34m:\u001b[0m\u001b[0;34m-\u001b[0m\u001b[0;36m1\u001b[0m\u001b[0;34m]\u001b[0m\u001b[0;34m\u001b[0m\u001b[0;34m\u001b[0m\u001b[0m\n\u001b[1;32m      7\u001b[0m \u001b[0;34m\u001b[0m\u001b[0m\n\u001b[0;32m----> 8\u001b[0;31m     \u001b[0mimg_inp\u001b[0m \u001b[0;34m=\u001b[0m \u001b[0mtorch\u001b[0m\u001b[0;34m.\u001b[0m\u001b[0mtensor\u001b[0m\u001b[0;34m(\u001b[0m\u001b[0mprepare_img\u001b[0m\u001b[0;34m(\u001b[0m\u001b[0mimg\u001b[0m\u001b[0;34m)\u001b[0m\u001b[0;34m.\u001b[0m\u001b[0mtranspose\u001b[0m\u001b[0;34m(\u001b[0m\u001b[0;36m2\u001b[0m\u001b[0;34m,\u001b[0m \u001b[0;36m0\u001b[0m\u001b[0;34m,\u001b[0m \u001b[0;36m1\u001b[0m\u001b[0;34m)\u001b[0m\u001b[0;34m[\u001b[0m\u001b[0;32mNone\u001b[0m\u001b[0;34m]\u001b[0m\u001b[0;34m)\u001b[0m\u001b[0;34m.\u001b[0m\u001b[0mfloat\u001b[0m\u001b[0;34m(\u001b[0m\u001b[0;34m)\u001b[0m\u001b[0;34m\u001b[0m\u001b[0;34m\u001b[0m\u001b[0m\n\u001b[0m\u001b[1;32m      9\u001b[0m     \u001b[0;32mif\u001b[0m \u001b[0mhas_cuda\u001b[0m\u001b[0;34m:\u001b[0m\u001b[0;34m\u001b[0m\u001b[0;34m\u001b[0m\u001b[0m\n\u001b[1;32m     10\u001b[0m         \u001b[0mimg_inp\u001b[0m \u001b[0;34m=\u001b[0m \u001b[0mimg_inp\u001b[0m\u001b[0;34m.\u001b[0m\u001b[0mcuda\u001b[0m\u001b[0;34m(\u001b[0m\u001b[0;34m)\u001b[0m\u001b[0;34m\u001b[0m\u001b[0;34m\u001b[0m\u001b[0m\n",
      "\u001b[0;32m~/engg3130-final-project/utils/helpers.py\u001b[0m in \u001b[0;36mprepare_img\u001b[0;34m(img)\u001b[0m\n\u001b[1;32m     23\u001b[0m \u001b[0;34m\u001b[0m\u001b[0m\n\u001b[1;32m     24\u001b[0m \u001b[0;32mdef\u001b[0m \u001b[0mprepare_img\u001b[0m\u001b[0;34m(\u001b[0m\u001b[0mimg\u001b[0m\u001b[0;34m)\u001b[0m\u001b[0;34m:\u001b[0m\u001b[0;34m\u001b[0m\u001b[0;34m\u001b[0m\u001b[0m\n\u001b[0;32m---> 25\u001b[0;31m     \u001b[0;32mreturn\u001b[0m \u001b[0;34m(\u001b[0m\u001b[0mimg\u001b[0m \u001b[0;34m*\u001b[0m \u001b[0mIMG_SCALE\u001b[0m \u001b[0;34m-\u001b[0m \u001b[0mIMG_MEAN\u001b[0m\u001b[0;34m)\u001b[0m \u001b[0;34m/\u001b[0m \u001b[0mIMG_STD\u001b[0m\u001b[0;34m\u001b[0m\u001b[0;34m\u001b[0m\u001b[0m\n\u001b[0m",
      "\u001b[0;31mValueError\u001b[0m: operands could not be broadcast together with shapes (288,432,4) (1,1,3) "
     ]
    }
   ],
   "source": [
    "#use temp1 img to test\n",
    "with torch.no_grad():\n",
    "    img_path = \"temp_1.png\"\n",
    "    img = np.array(Image.open(img_path))\n",
    "    msk = cmap[np.array(Image.open(img_path.replace('jpg', 'png')))]\n",
    "    orig_size = img.shape[:2][::-1]\n",
    "\n",
    "    img_inp = torch.tensor(prepare_img(img).transpose(2, 0, 1)[None]).float()\n",
    "    if has_cuda:\n",
    "        img_inp = img_inp.cuda()"
   ]
  },
  {
   "cell_type": "code",
   "execution_count": null,
   "metadata": {},
   "outputs": [],
   "source": [
    "'''import torch.optim as optim\n",
    "epochs = 5\n",
    "for epoch in range(epochs):\n",
    "    for loss in range(len(loss_list)):\n",
    "        loss.backward()\n",
    "        optim.step()'''"
   ]
  },
  {
   "cell_type": "markdown",
   "metadata": {},
   "source": [
    "## 4 - An alternate, and much simpler method of combining the output from Detectron2 and FlowNet"
   ]
  },
  {
   "cell_type": "markdown",
   "metadata": {},
   "source": [
    "Another method prosed that would combine the output of Detectron2 and FlowNet would be to simple take a logical AND of both output masks and make that into an output video. This AND layer is the same as the TP layer as mentioned in section 2, above.\n",
    "\n",
    "Essentially this would only show any pixels that were both idientified by Detectron2 and also determined to be moving by using the theshold method on FlowNet2, and therefor would be present in the respective masks."
   ]
  },
  {
   "cell_type": "markdown",
   "metadata": {},
   "source": [
    "To illustrate this approach, we will create one frame of each mask and then combine them.\n",
    "\n",
    "Change ```to_compare``` to different frames from 0-30 to see how each frame compares. For example, frame pair ```0``` matches pretty well, but ```12``` does not."
   ]
  },
  {
   "cell_type": "code",
   "execution_count": null,
   "metadata": {},
   "outputs": [],
   "source": [
    "to_compare = 25\n",
    "#create a frame using detectron2 output\n",
    "detectron_mask = detectron_combined_frames[to_compare]\n",
    "flow_mask = flow_to_mask(flow_file_list[to_compare])[2]\n",
    "\n",
    "fig, axs = plt.subplots(3,1,figsize=(10,10))\n",
    "\n",
    "axs[0].set_title('Flow Mask')\n",
    "axs[0].imshow(flow_mask)\n",
    "\n",
    "axs[1].set_title('Segmentation Mask')\n",
    "axs[1].imshow(detectron_mask)\n",
    "\n",
    "axs[2].set_title('Flow AND Segmentation Masks')\n",
    "axs[2].imshow(np.logical_and(flow_mask, detectron_mask))\n",
    "\n",
    "fig. tight_layout()\n",
    "plt.show()"
   ]
  },
  {
   "cell_type": "markdown",
   "metadata": {},
   "source": [
    "The above figure depicting the the Flow AND segmentation masks shows the union of the two masks. It appears to be a much smoother version of the segmentation mask, with less smaller artifacts."
   ]
  },
  {
   "cell_type": "markdown",
   "metadata": {},
   "source": [
    "Lets combine 30 of these AND frames to make a short video clip to observe."
   ]
  },
  {
   "cell_type": "code",
   "execution_count": null,
   "metadata": {},
   "outputs": [],
   "source": [
    "out_name = \"and_mask.mp4\"\n",
    "#make the frames and save them\n",
    "for a in tqdm.trange(len(flow_file_list)):\n",
    "    name = \"and_mask_\"+str(a)+\".png\"\n",
    "    plt.imshow(detectron_combined_frames[a] & flow_to_mask(flow_file_list[a])[2])\n",
    "    plt.savefig(name)\n",
    "\n",
    "#create the output video with ffmpeg\n",
    "out = sp.run([\"ffmpeg\", \"-y\", \"-i\", \"and_mask_%d.png\", \"-vcodec\", \"mpeg4\", out_name])\n",
    "\n",
    "#delete the temp .png files\n",
    "fileList = glob.glob('and_mask_*.png')\n",
    "#Iterate over the list of filepaths & remove each file.\n",
    "for filePath in fileList:\n",
    "    try:\n",
    "        os.remove(filePath)\n",
    "    except:\n",
    "        print(\"Error while deleting file : \", filePath)"
   ]
  },
  {
   "cell_type": "markdown",
   "metadata": {},
   "source": [
    "Once again, if the video does not play below, it can be found in the directory engg3130-project/, downloaded, and viewed locally."
   ]
  },
  {
   "cell_type": "code",
   "execution_count": null,
   "metadata": {},
   "outputs": [],
   "source": [
    "Video('and_mask.mp4', embed=True)"
   ]
  },
  {
   "cell_type": "markdown",
   "metadata": {},
   "source": [
    "While this is a very simple approach it is not neccesarily the best approach. The video is certainly smoother, but not complete. For some frames there appears to be an apparent issue with frame masks lining up nicely, and as such, not all of the objects in the video are represented completely.\n",
    "\n",
    "Rather than being a way to improve consistency between frames, this technique is more useful at a neat way to visualize both sets of data."
   ]
  },
  {
   "cell_type": "markdown",
   "metadata": {},
   "source": [
    "## 5 - Limitations of Approach"
   ]
  },
  {
   "cell_type": "markdown",
   "metadata": {},
   "source": [
    "One limitation of using flownet2-pytorch to generate movement masks is when the input video file has a \"background\". Consider for example, the following video:"
   ]
  },
  {
   "cell_type": "code",
   "execution_count": null,
   "metadata": {},
   "outputs": [],
   "source": [
    "YouTubeVideo(\"wZVu6g4U77Q\")"
   ]
  },
  {
   "cell_type": "markdown",
   "metadata": {},
   "source": [
    "This video is differnent from the initial ```driveby.mp4``` video used. Namely, the camera is panning down to follow the people as they walk. From the frame of reference of the camera, it appears as the background (the walkway in the case) is moving upwards. This is considered \"motion\" and will be detectd by flownet2."
   ]
  },
  {
   "cell_type": "markdown",
   "metadata": {},
   "source": [
    "To investigate the effects of this movement, lets look at a visualized frame of flownet data from this video and compare it to a frame from our driving video:"
   ]
  },
  {
   "cell_type": "code",
   "execution_count": null,
   "metadata": {},
   "outputs": [],
   "source": [
    "flow_folder = \"./flow_data/driveby/\"\n",
    "flow_file = \"000000.flo\"\n",
    "path1 = flow_folder+flow_file\n",
    "\n",
    "flow_folder = \"./flow_data/walking/\"\n",
    "flow_file = \"000000.flo\"\n",
    "path2 = flow_folder+flow_file\n",
    "\n",
    "fig, axs = plt.subplots(2,2)\n",
    "path_to_image = \"./flow_data/walking/images/\"\n",
    "image = flow_file+\".png\"\n",
    "img1 = plt.imread(path_to_image+image)\n",
    "\n",
    "path_to_image = \"./flow_data/driveby/images/\"\n",
    "image = flow_file+\".png\"\n",
    "img2 = plt.imread(path_to_image+image)\n",
    "\n",
    "axs[0,0].set_title('Moving Background Flow')\n",
    "axs[0,0].imshow(img1)\n",
    "axs[0,1].set_title('Stationary Background Flow')\n",
    "axs[0,1].imshow(img2)\n",
    "axs[1,0].set_title('Moving Background Flow Mask')\n",
    "axs[1,0].imshow(flow_to_mask(path2)[2])\n",
    "axs[1,1].set_title('Stationary Background Flow')\n",
    "axs[1,1].imshow(flow_to_mask(path1)[2])\n",
    "\n",
    "fig. tight_layout()\n",
    "plt.show()"
   ]
  },
  {
   "cell_type": "markdown",
   "metadata": {},
   "source": [
    "As is made very evident above, when the background is not stationary, it becomes very hard to discretize moving from non-moving parts of the frame using the pixel-magnitude approach. \n",
    "\n",
    "However, what this is useful for is in an automatic classifier to determine if the camera is moving for a given video. In these cases, we would notice something similar to the moving background flow mask, above. We would notice most of the video showing a pixel movement magnitude of greater than threshold."
   ]
  },
  {
   "cell_type": "code",
   "execution_count": null,
   "metadata": {},
   "outputs": [],
   "source": []
  },
  {
   "cell_type": "code",
   "execution_count": null,
   "metadata": {},
   "outputs": [],
   "source": []
  },
  {
   "cell_type": "code",
   "execution_count": null,
   "metadata": {},
   "outputs": [],
   "source": []
  },
  {
   "cell_type": "code",
   "execution_count": null,
   "metadata": {},
   "outputs": [],
   "source": []
  }
 ],
 "metadata": {
  "kernelspec": {
   "display_name": "Python 3",
   "language": "python",
   "name": "python3"
  },
  "language_info": {
   "codemirror_mode": {
    "name": "ipython",
    "version": 3
   },
   "file_extension": ".py",
   "mimetype": "text/x-python",
   "name": "python",
   "nbconvert_exporter": "python",
   "pygments_lexer": "ipython3",
   "version": "3.8.1"
  }
 },
 "nbformat": 4,
 "nbformat_minor": 4
}
