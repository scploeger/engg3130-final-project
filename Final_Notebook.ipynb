{
 "cells": [
  {
   "cell_type": "markdown",
   "metadata": {},
   "source": [
    "# ENGG*3130 Final Project\n",
    "**By: Spencer Ploeger<br>\n",
    "0969141<br>\n",
    "sploeger@uoguelph.ca<br>\n",
    "Lucas Dasovic<br>\n",
    "0069420<br>\n",
    "ldasovic@uoguelph.ca**\n"
   ]
  },
  {
   "cell_type": "markdown",
   "metadata": {},
   "source": [
    "## Background: 1.1 Detectctron2"
   ]
  },
  {
   "cell_type": "markdown",
   "metadata": {},
   "source": [
    "Detectron2 is a framework that allows for the implementation of various computer vision networks."
   ]
  },
  {
   "cell_type": "markdown",
   "metadata": {},
   "source": [
    "Here is the sample video we will run detectron2 on:<br>(Note that the video is also located in /sample_videos/ )"
   ]
  },
  {
   "cell_type": "code",
   "execution_count": 1,
   "metadata": {},
   "outputs": [
    {
     "data": {
      "image/jpeg": "[encoded data removed]",
      "text/html": [
       "\n",
       "        <iframe\n",
       "            width=\"400\"\n",
       "            height=\"300\"\n",
       "            src=\"https://www.youtube.com/embed/-rSyFxLjdZ4\"\n",
       "            frameborder=\"0\"\n",
       "            allowfullscreen\n",
       "        ></iframe>\n",
       "        "
      ],
      "text/plain": [
       "<IPython.lib.display.YouTubeVideo at 0x7f9645de1d60>"
      ]
     },
     "execution_count": 1,
     "metadata": {},
     "output_type": "execute_result"
    }
   ],
   "source": [
    "from IPython.display import YouTubeVideo\n",
    "YouTubeVideo('-rSyFxLjdZ4')"
   ]
  },
  {
   "cell_type": "markdown",
   "metadata": {},
   "source": [
    "**Run detectron2 on a sample video.**\n",
    "Note that the sample video is localed in ./sample_videos/. You can run on any video you'd like. Just update the above directory and video name. Note: The video input must be an mp4!."
   ]
  },
  {
   "cell_type": "code",
   "execution_count": 2,
   "metadata": {},
   "outputs": [],
   "source": [
    "video_name = 'driveby.mp4'\n",
    "video_path = './sample_videos/'\n",
    "model_path = './models/model_final_9243eb.pkl'\n",
    "config_path = './configs/COCO-InstanceSegmentation/mask_rcnn_R_50_C4_1x.yaml'"
   ]
  },
  {
   "cell_type": "markdown",
   "metadata": {},
   "source": []
  },
  {
   "cell_type": "markdown",
   "metadata": {},
   "source": [
    "Import dependancies for Detectron2:"
   ]
  },
  {
   "cell_type": "code",
   "execution_count": 3,
   "metadata": {},
   "outputs": [],
   "source": [
    "from multiprocessing import Queue\n",
    "import logging\n",
    "import cv2\n",
    "import subprocess as sp\n",
    "import sys\n",
    "import argparse\n",
    "import image2pipe\n",
    "from PIL import Image\n",
    "from IPython.display import Video\n",
    "from IPython.display import HTML\n",
    "import ipdb\n",
    "import numpy as np\n",
    "import torch\n",
    "import io\n",
    "import random\n",
    "import glob\n",
    "import os\n",
    "import tqdm\n",
    "from matplotlib import pyplot as plt\n",
    "import detectron2\n",
    "from detectron2.engine import DefaultPredictor\n",
    "from detectron2.config import get_cfg\n",
    "from detectron2.utils.visualizer import Visualizer\n",
    "from detectron2.data import MetadataCatalog\n",
    "from detectron2.checkpoint import DetectionCheckpointer\n",
    "from detectron2.utils.visualizer import ColorMode, Visualizer\n",
    "from detectron2.data.detection_utils import read_image\n",
    "from detectron2.modeling import build_model"
   ]
  },
  {
   "cell_type": "code",
   "execution_count": null,
   "metadata": {},
   "outputs": [],
   "source": []
  },
  {
   "cell_type": "code",
   "execution_count": 4,
   "metadata": {},
   "outputs": [],
   "source": [
    "#make sure if a GPU is available, it will be used by torch rather than the CPU\n",
    "device = torch.device(\"cuda\" if torch.cuda.is_available() else \"cpu\")"
   ]
  },
  {
   "cell_type": "code",
   "execution_count": 5,
   "metadata": {},
   "outputs": [
    {
     "data": {
      "text/plain": [
       "GeneralizedRCNN(\n",
       "  (backbone): ResNet(\n",
       "    (stem): BasicStem(\n",
       "      (conv1): Conv2d(\n",
       "        3, 64, kernel_size=(7, 7), stride=(2, 2), padding=(3, 3), bias=False\n",
       "        (norm): FrozenBatchNorm2d(num_features=64, eps=1e-05)\n",
       "      )\n",
       "    )\n",
       "    (res2): Sequential(\n",
       "      (0): BottleneckBlock(\n",
       "        (shortcut): Conv2d(\n",
       "          64, 256, kernel_size=(1, 1), stride=(1, 1), bias=False\n",
       "          (norm): FrozenBatchNorm2d(num_features=256, eps=1e-05)\n",
       "        )\n",
       "        (conv1): Conv2d(\n",
       "          64, 64, kernel_size=(1, 1), stride=(1, 1), bias=False\n",
       "          (norm): FrozenBatchNorm2d(num_features=64, eps=1e-05)\n",
       "        )\n",
       "        (conv2): Conv2d(\n",
       "          64, 64, kernel_size=(3, 3), stride=(1, 1), padding=(1, 1), bias=False\n",
       "          (norm): FrozenBatchNorm2d(num_features=64, eps=1e-05)\n",
       "        )\n",
       "        (conv3): Conv2d(\n",
       "          64, 256, kernel_size=(1, 1), stride=(1, 1), bias=False\n",
       "          (norm): FrozenBatchNorm2d(num_features=256, eps=1e-05)\n",
       "        )\n",
       "      )\n",
       "      (1): BottleneckBlock(\n",
       "        (conv1): Conv2d(\n",
       "          256, 64, kernel_size=(1, 1), stride=(1, 1), bias=False\n",
       "          (norm): FrozenBatchNorm2d(num_features=64, eps=1e-05)\n",
       "        )\n",
       "        (conv2): Conv2d(\n",
       "          64, 64, kernel_size=(3, 3), stride=(1, 1), padding=(1, 1), bias=False\n",
       "          (norm): FrozenBatchNorm2d(num_features=64, eps=1e-05)\n",
       "        )\n",
       "        (conv3): Conv2d(\n",
       "          64, 256, kernel_size=(1, 1), stride=(1, 1), bias=False\n",
       "          (norm): FrozenBatchNorm2d(num_features=256, eps=1e-05)\n",
       "        )\n",
       "      )\n",
       "      (2): BottleneckBlock(\n",
       "        (conv1): Conv2d(\n",
       "          256, 64, kernel_size=(1, 1), stride=(1, 1), bias=False\n",
       "          (norm): FrozenBatchNorm2d(num_features=64, eps=1e-05)\n",
       "        )\n",
       "        (conv2): Conv2d(\n",
       "          64, 64, kernel_size=(3, 3), stride=(1, 1), padding=(1, 1), bias=False\n",
       "          (norm): FrozenBatchNorm2d(num_features=64, eps=1e-05)\n",
       "        )\n",
       "        (conv3): Conv2d(\n",
       "          64, 256, kernel_size=(1, 1), stride=(1, 1), bias=False\n",
       "          (norm): FrozenBatchNorm2d(num_features=256, eps=1e-05)\n",
       "        )\n",
       "      )\n",
       "    )\n",
       "    (res3): Sequential(\n",
       "      (0): BottleneckBlock(\n",
       "        (shortcut): Conv2d(\n",
       "          256, 512, kernel_size=(1, 1), stride=(2, 2), bias=False\n",
       "          (norm): FrozenBatchNorm2d(num_features=512, eps=1e-05)\n",
       "        )\n",
       "        (conv1): Conv2d(\n",
       "          256, 128, kernel_size=(1, 1), stride=(2, 2), bias=False\n",
       "          (norm): FrozenBatchNorm2d(num_features=128, eps=1e-05)\n",
       "        )\n",
       "        (conv2): Conv2d(\n",
       "          128, 128, kernel_size=(3, 3), stride=(1, 1), padding=(1, 1), bias=False\n",
       "          (norm): FrozenBatchNorm2d(num_features=128, eps=1e-05)\n",
       "        )\n",
       "        (conv3): Conv2d(\n",
       "          128, 512, kernel_size=(1, 1), stride=(1, 1), bias=False\n",
       "          (norm): FrozenBatchNorm2d(num_features=512, eps=1e-05)\n",
       "        )\n",
       "      )\n",
       "      (1): BottleneckBlock(\n",
       "        (conv1): Conv2d(\n",
       "          512, 128, kernel_size=(1, 1), stride=(1, 1), bias=False\n",
       "          (norm): FrozenBatchNorm2d(num_features=128, eps=1e-05)\n",
       "        )\n",
       "        (conv2): Conv2d(\n",
       "          128, 128, kernel_size=(3, 3), stride=(1, 1), padding=(1, 1), bias=False\n",
       "          (norm): FrozenBatchNorm2d(num_features=128, eps=1e-05)\n",
       "        )\n",
       "        (conv3): Conv2d(\n",
       "          128, 512, kernel_size=(1, 1), stride=(1, 1), bias=False\n",
       "          (norm): FrozenBatchNorm2d(num_features=512, eps=1e-05)\n",
       "        )\n",
       "      )\n",
       "      (2): BottleneckBlock(\n",
       "        (conv1): Conv2d(\n",
       "          512, 128, kernel_size=(1, 1), stride=(1, 1), bias=False\n",
       "          (norm): FrozenBatchNorm2d(num_features=128, eps=1e-05)\n",
       "        )\n",
       "        (conv2): Conv2d(\n",
       "          128, 128, kernel_size=(3, 3), stride=(1, 1), padding=(1, 1), bias=False\n",
       "          (norm): FrozenBatchNorm2d(num_features=128, eps=1e-05)\n",
       "        )\n",
       "        (conv3): Conv2d(\n",
       "          128, 512, kernel_size=(1, 1), stride=(1, 1), bias=False\n",
       "          (norm): FrozenBatchNorm2d(num_features=512, eps=1e-05)\n",
       "        )\n",
       "      )\n",
       "      (3): BottleneckBlock(\n",
       "        (conv1): Conv2d(\n",
       "          512, 128, kernel_size=(1, 1), stride=(1, 1), bias=False\n",
       "          (norm): FrozenBatchNorm2d(num_features=128, eps=1e-05)\n",
       "        )\n",
       "        (conv2): Conv2d(\n",
       "          128, 128, kernel_size=(3, 3), stride=(1, 1), padding=(1, 1), bias=False\n",
       "          (norm): FrozenBatchNorm2d(num_features=128, eps=1e-05)\n",
       "        )\n",
       "        (conv3): Conv2d(\n",
       "          128, 512, kernel_size=(1, 1), stride=(1, 1), bias=False\n",
       "          (norm): FrozenBatchNorm2d(num_features=512, eps=1e-05)\n",
       "        )\n",
       "      )\n",
       "    )\n",
       "    (res4): Sequential(\n",
       "      (0): BottleneckBlock(\n",
       "        (shortcut): Conv2d(\n",
       "          512, 1024, kernel_size=(1, 1), stride=(2, 2), bias=False\n",
       "          (norm): FrozenBatchNorm2d(num_features=1024, eps=1e-05)\n",
       "        )\n",
       "        (conv1): Conv2d(\n",
       "          512, 256, kernel_size=(1, 1), stride=(2, 2), bias=False\n",
       "          (norm): FrozenBatchNorm2d(num_features=256, eps=1e-05)\n",
       "        )\n",
       "        (conv2): Conv2d(\n",
       "          256, 256, kernel_size=(3, 3), stride=(1, 1), padding=(1, 1), bias=False\n",
       "          (norm): FrozenBatchNorm2d(num_features=256, eps=1e-05)\n",
       "        )\n",
       "        (conv3): Conv2d(\n",
       "          256, 1024, kernel_size=(1, 1), stride=(1, 1), bias=False\n",
       "          (norm): FrozenBatchNorm2d(num_features=1024, eps=1e-05)\n",
       "        )\n",
       "      )\n",
       "      (1): BottleneckBlock(\n",
       "        (conv1): Conv2d(\n",
       "          1024, 256, kernel_size=(1, 1), stride=(1, 1), bias=False\n",
       "          (norm): FrozenBatchNorm2d(num_features=256, eps=1e-05)\n",
       "        )\n",
       "        (conv2): Conv2d(\n",
       "          256, 256, kernel_size=(3, 3), stride=(1, 1), padding=(1, 1), bias=False\n",
       "          (norm): FrozenBatchNorm2d(num_features=256, eps=1e-05)\n",
       "        )\n",
       "        (conv3): Conv2d(\n",
       "          256, 1024, kernel_size=(1, 1), stride=(1, 1), bias=False\n",
       "          (norm): FrozenBatchNorm2d(num_features=1024, eps=1e-05)\n",
       "        )\n",
       "      )\n",
       "      (2): BottleneckBlock(\n",
       "        (conv1): Conv2d(\n",
       "          1024, 256, kernel_size=(1, 1), stride=(1, 1), bias=False\n",
       "          (norm): FrozenBatchNorm2d(num_features=256, eps=1e-05)\n",
       "        )\n",
       "        (conv2): Conv2d(\n",
       "          256, 256, kernel_size=(3, 3), stride=(1, 1), padding=(1, 1), bias=False\n",
       "          (norm): FrozenBatchNorm2d(num_features=256, eps=1e-05)\n",
       "        )\n",
       "        (conv3): Conv2d(\n",
       "          256, 1024, kernel_size=(1, 1), stride=(1, 1), bias=False\n",
       "          (norm): FrozenBatchNorm2d(num_features=1024, eps=1e-05)\n",
       "        )\n",
       "      )\n",
       "      (3): BottleneckBlock(\n",
       "        (conv1): Conv2d(\n",
       "          1024, 256, kernel_size=(1, 1), stride=(1, 1), bias=False\n",
       "          (norm): FrozenBatchNorm2d(num_features=256, eps=1e-05)\n",
       "        )\n",
       "        (conv2): Conv2d(\n",
       "          256, 256, kernel_size=(3, 3), stride=(1, 1), padding=(1, 1), bias=False\n",
       "          (norm): FrozenBatchNorm2d(num_features=256, eps=1e-05)\n",
       "        )\n",
       "        (conv3): Conv2d(\n",
       "          256, 1024, kernel_size=(1, 1), stride=(1, 1), bias=False\n",
       "          (norm): FrozenBatchNorm2d(num_features=1024, eps=1e-05)\n",
       "        )\n",
       "      )\n",
       "      (4): BottleneckBlock(\n",
       "        (conv1): Conv2d(\n",
       "          1024, 256, kernel_size=(1, 1), stride=(1, 1), bias=False\n",
       "          (norm): FrozenBatchNorm2d(num_features=256, eps=1e-05)\n",
       "        )\n",
       "        (conv2): Conv2d(\n",
       "          256, 256, kernel_size=(3, 3), stride=(1, 1), padding=(1, 1), bias=False\n",
       "          (norm): FrozenBatchNorm2d(num_features=256, eps=1e-05)\n",
       "        )\n",
       "        (conv3): Conv2d(\n",
       "          256, 1024, kernel_size=(1, 1), stride=(1, 1), bias=False\n",
       "          (norm): FrozenBatchNorm2d(num_features=1024, eps=1e-05)\n",
       "        )\n",
       "      )\n",
       "      (5): BottleneckBlock(\n",
       "        (conv1): Conv2d(\n",
       "          1024, 256, kernel_size=(1, 1), stride=(1, 1), bias=False\n",
       "          (norm): FrozenBatchNorm2d(num_features=256, eps=1e-05)\n",
       "        )\n",
       "        (conv2): Conv2d(\n",
       "          256, 256, kernel_size=(3, 3), stride=(1, 1), padding=(1, 1), bias=False\n",
       "          (norm): FrozenBatchNorm2d(num_features=256, eps=1e-05)\n",
       "        )\n",
       "        (conv3): Conv2d(\n",
       "          256, 1024, kernel_size=(1, 1), stride=(1, 1), bias=False\n",
       "          (norm): FrozenBatchNorm2d(num_features=1024, eps=1e-05)\n",
       "        )\n",
       "      )\n",
       "    )\n",
       "  )\n",
       "  (proposal_generator): RPN(\n",
       "    (anchor_generator): DefaultAnchorGenerator(\n",
       "      (cell_anchors): BufferList()\n",
       "    )\n",
       "    (rpn_head): StandardRPNHead(\n",
       "      (conv): Conv2d(1024, 1024, kernel_size=(3, 3), stride=(1, 1), padding=(1, 1))\n",
       "      (objectness_logits): Conv2d(1024, 15, kernel_size=(1, 1), stride=(1, 1))\n",
       "      (anchor_deltas): Conv2d(1024, 60, kernel_size=(1, 1), stride=(1, 1))\n",
       "    )\n",
       "  )\n",
       "  (roi_heads): Res5ROIHeads(\n",
       "    (pooler): ROIPooler(\n",
       "      (level_poolers): ModuleList(\n",
       "        (0): ROIAlign(output_size=(14, 14), spatial_scale=0.0625, sampling_ratio=0, aligned=True)\n",
       "      )\n",
       "    )\n",
       "    (res5): Sequential(\n",
       "      (0): BottleneckBlock(\n",
       "        (shortcut): Conv2d(\n",
       "          1024, 2048, kernel_size=(1, 1), stride=(2, 2), bias=False\n",
       "          (norm): FrozenBatchNorm2d(num_features=2048, eps=1e-05)\n",
       "        )\n",
       "        (conv1): Conv2d(\n",
       "          1024, 512, kernel_size=(1, 1), stride=(2, 2), bias=False\n",
       "          (norm): FrozenBatchNorm2d(num_features=512, eps=1e-05)\n",
       "        )\n",
       "        (conv2): Conv2d(\n",
       "          512, 512, kernel_size=(3, 3), stride=(1, 1), padding=(1, 1), bias=False\n",
       "          (norm): FrozenBatchNorm2d(num_features=512, eps=1e-05)\n",
       "        )\n",
       "        (conv3): Conv2d(\n",
       "          512, 2048, kernel_size=(1, 1), stride=(1, 1), bias=False\n",
       "          (norm): FrozenBatchNorm2d(num_features=2048, eps=1e-05)\n",
       "        )\n",
       "      )\n",
       "      (1): BottleneckBlock(\n",
       "        (conv1): Conv2d(\n",
       "          2048, 512, kernel_size=(1, 1), stride=(1, 1), bias=False\n",
       "          (norm): FrozenBatchNorm2d(num_features=512, eps=1e-05)\n",
       "        )\n",
       "        (conv2): Conv2d(\n",
       "          512, 512, kernel_size=(3, 3), stride=(1, 1), padding=(1, 1), bias=False\n",
       "          (norm): FrozenBatchNorm2d(num_features=512, eps=1e-05)\n",
       "        )\n",
       "        (conv3): Conv2d(\n",
       "          512, 2048, kernel_size=(1, 1), stride=(1, 1), bias=False\n",
       "          (norm): FrozenBatchNorm2d(num_features=2048, eps=1e-05)\n",
       "        )\n",
       "      )\n",
       "      (2): BottleneckBlock(\n",
       "        (conv1): Conv2d(\n",
       "          2048, 512, kernel_size=(1, 1), stride=(1, 1), bias=False\n",
       "          (norm): FrozenBatchNorm2d(num_features=512, eps=1e-05)\n",
       "        )\n",
       "        (conv2): Conv2d(\n",
       "          512, 512, kernel_size=(3, 3), stride=(1, 1), padding=(1, 1), bias=False\n",
       "          (norm): FrozenBatchNorm2d(num_features=512, eps=1e-05)\n",
       "        )\n",
       "        (conv3): Conv2d(\n",
       "          512, 2048, kernel_size=(1, 1), stride=(1, 1), bias=False\n",
       "          (norm): FrozenBatchNorm2d(num_features=2048, eps=1e-05)\n",
       "        )\n",
       "      )\n",
       "    )\n",
       "    (box_predictor): FastRCNNOutputLayers(\n",
       "      (cls_score): Linear(in_features=2048, out_features=81, bias=True)\n",
       "      (bbox_pred): Linear(in_features=2048, out_features=320, bias=True)\n",
       "    )\n",
       "    (mask_head): MaskRCNNConvUpsampleHead(\n",
       "      (deconv): ConvTranspose2d(2048, 256, kernel_size=(2, 2), stride=(2, 2))\n",
       "      (predictor): Conv2d(256, 80, kernel_size=(1, 1), stride=(1, 1))\n",
       "    )\n",
       "  )\n",
       ")"
      ]
     },
     "execution_count": 5,
     "metadata": {},
     "output_type": "execute_result"
    }
   ],
   "source": [
    "cfg = get_cfg()\n",
    "cfg.merge_from_file(config_path) #load the desired model (in local directory)\n",
    "#cfg.merge_from_file(\"./configs/COCO-Keypoints/keypoint_rcnn_R_50_FPN_3x.yaml\") #load the desired model (in local directory)\n",
    "#cfg.merge_from_file(\"../configs/COCO-Detection/faster_rcnn_R_50_C4_3x.yaml\") #load the desired model (in local directory)\n",
    "cfg.MODEL.ROI_HEADS.SCORE_THRESH_TEST = 0.5 # set threshold for this model\n",
    "\n",
    "metadata = MetadataCatalog.get(\n",
    "    cfg.DATASETS.TEST[0] if len(cfg.DATASETS.TEST) else \"__unused\"\n",
    ")\n",
    "#cpu_device = torch.device(\"cpu\")\n",
    "instance_mode = ColorMode.IMAGE\n",
    "\n",
    "model = build_model(cfg) # returns a torch.nn.Module\n",
    "DetectionCheckpointer(model).load(model_path) # must load weights this way (in local directory)\n",
    "#DetectionCheckpointer(model).load('./models/keypoint_rcnn_r50_3x/model_final_a6e10b.pkl') # must load weights this way\n",
    "#DetectionCheckpointer(model).load('../models/faster_rcnn_r50_c4/model_final_f97cb7.pkl') # must load weights this way (in local directory)\n",
    "model.train(False) # inference mode"
   ]
  },
  {
   "cell_type": "code",
   "execution_count": 6,
   "metadata": {},
   "outputs": [],
   "source": [
    "torch.cuda.empty_cache()"
   ]
  },
  {
   "cell_type": "code",
   "execution_count": 7,
   "metadata": {},
   "outputs": [],
   "source": [
    "def get_info(vid_name):\n",
    "    #get the height and width of the video\n",
    "    out = sp.Popen([\"ffprobe\", \"-v\", \"error\", \"-select_streams\", \"v:0\", \"-show_entries\", \"stream=width,height\", \"-of\", \"csv=p=0\", vid_name],stdout=sp.PIPE,stderr=sp.STDOUT)\n",
    "    stdout,stderr = out.communicate()\n",
    "    output = stdout.decode(\"utf-\")\n",
    "    #split height and width\n",
    "    height = output.split(',')[1]\n",
    "    width = int(output.split(',')[0])\n",
    "    height = int(height[:-1])\n",
    "\n",
    "    #get the framerate of the video\n",
    "    out = sp.Popen([\"ffprobe\", \"-v\", \"error\", \"-select_streams\", \"v\", \"-of\", \"default=noprint_wrappers=1:nokey=1\", \"-show_entries\", \"stream=r_frame_rate\", vid_name],stdout=sp.PIPE,stderr=sp.STDOUT)\n",
    "    stdout,stderr = out.communicate()\n",
    "    output = stdout.decode(\"utf-\")\n",
    "    numerator = int(output.split('/')[0])\n",
    "    denominator = int(output.split('/')[1])\n",
    "    framerate =  round(numerator/denominator)\n",
    "\n",
    "    out = sp.Popen([\"ffprobe\", \"-v\", \"error\", \"-select_streams\", \"v:0\", \"-show_entries\", \"stream=nb_frames\", \"-of\", \"csv=p=0\", vid_name],stdout=sp.PIPE,stderr=sp.STDOUT)\n",
    "    stdout,stderr = out.communicate()\n",
    "    output = stdout.decode(\"utf-\")\n",
    "    total_frames = int(output[:-1])\n",
    "\n",
    "\n",
    "    #print video information\n",
    "    print(\"Height: \", height)\n",
    "    print(\"Width: \", width)\n",
    "    print(\"Framerate: \", framerate)\n",
    "    print(\"Total Frames: \", total_frames)\n",
    "\n",
    "    return height, width, framerate, total_frames"
   ]
  },
  {
   "cell_type": "code",
   "execution_count": 8,
   "metadata": {},
   "outputs": [],
   "source": [
    "#we must resize the image tensor to be consistent with the flownet inference sizes\n",
    "def get_image_tensor(image):\n",
    "    #read in one image\n",
    "    img_original = image\n",
    "    height = img_original.shape[0]\n",
    "    width = img_original.shape[1]\n",
    "    #img_orignal = read_image(\"./img1.jpg\", format=\"BGR\")\n",
    "    img = cv2.resize(img_original, dsize = (height,width), interpolation=cv2.INTER_CUBIC) #check this and compare with demo\n",
    "    img = np.transpose(img,(2,0,1))\n",
    "    img_tensor = torch.from_numpy(img)\n",
    "    #print(\"tensor size:\", img_tensor.size())\n",
    "    return img_tensor"
   ]
  },
  {
   "cell_type": "code",
   "execution_count": 9,
   "metadata": {},
   "outputs": [
    {
     "name": "stdout",
     "output_type": "stream",
     "text": [
      "./sample_videos/driveby.mp4\n",
      "Height:  720\n",
      "Width:  1280\n",
      "Framerate:  30\n",
      "Total Frames:  260\n"
     ]
    }
   ],
   "source": [
    "path = video_path+video_name\n",
    "print(path)\n",
    "height, width, framerate, num_frames = get_info(path)\n",
    "q = Queue()\n",
    "decoder = image2pipe.images_from_url(q, path, fps=framerate, pix_fmt='rgb24', scale=(width, height))\n",
    "decoder.start()"
   ]
  },
  {
   "cell_type": "code",
   "execution_count": null,
   "metadata": {},
   "outputs": [],
   "source": []
  },
  {
   "cell_type": "code",
   "execution_count": 10,
   "metadata": {},
   "outputs": [
    {
     "name": "stderr",
     "output_type": "stream",
     "text": [
      " 12%|█▏        | 31/260 [00:57<07:01,  1.84s/it]\n"
     ]
    },
    {
     "data": {
      "image/png": "[encoded data removed]",
      "text/plain": [
       "<Figure size 432x288 with 1 Axes>"
      ]
     },
     "metadata": {
      "needs_background": "light"
     },
     "output_type": "display_data"
    }
   ],
   "source": [
    "for x in tqdm.trange(num_frames):\n",
    "    try:\n",
    "        fn, img = q.get()\n",
    "        #print(fn)\n",
    "        #print(img.shape)\n",
    "        image = Image.fromarray(img, 'RGB')\n",
    "        open_cv_image = cv2.cvtColor(np.array(image), cv2.COLOR_RGB2BGR)\n",
    "        #img_orignal = cv2.imread(open_cv_image)\n",
    "        frame_tensor = get_image_tensor(open_cv_image)\n",
    "\n",
    "        x = [{\"image\" : frame_tensor, \"height\": height, \"width\": width}] * 1\n",
    "        #get predictions from the model\n",
    "        predictions = model(x)\n",
    "\n",
    "        #print the predictions\n",
    "        bin_mask = predictions[0]['instances'].pred_masks\n",
    "        #print(bin_mask)\n",
    "        #print(bin_mask.shape)\n",
    "        bin_mask_np = bin_mask.cuda().detach().cpu().clone().numpy()\n",
    "        #print(bin_mask_np.shape)\n",
    "        num_classes = bin_mask_np.shape[0]\n",
    "        #print(\"num classes: \", num_classes)\n",
    "\n",
    "        a = np.zeros((height, width), dtype=bool)\n",
    "\n",
    "\n",
    "        for i in range(num_classes): #for all the classes detected\n",
    "            x = bin_mask_np[i,:,:] #x is the ith class\n",
    "            new_mask = np.ma.mask_or(a, x) #logic or the current classes pixels with the other classes pixels\n",
    "            a = new_mask #update the new mask\n",
    "\n",
    "        #plt.imshow(a)\n",
    "        #plt.show()\n",
    "        del predictions\n",
    "        torch.cuda.empty_cache()\n",
    "        name = \"temp_\" + str(fn) + \".png\"\n",
    "        plt.imshow(a)\n",
    "        plt.savefig(name)\n",
    "        #ipdb.set_trace()#create a breakpoint\n",
    "        if(fn>30): #stop after 30 frames\n",
    "            break\n",
    "    except TypeError as e:\n",
    "        print(\"The error: \")\n",
    "        print(e)\n",
    "        print(\"End of frames\")\n",
    "        break"
   ]
  },
  {
   "cell_type": "markdown",
   "metadata": {},
   "source": [
    "Once detectron runs predictions on each frame, we can view one of these frames.<br>**Note:** we will be taking the masks genereated by detectron2 and visualizing them as a binary mask. This lets us see all the objects detected as a single layer, which makes qualitiative observations about consistencey easier."
   ]
  },
  {
   "cell_type": "code",
   "execution_count": 11,
   "metadata": {},
   "outputs": [
    {
     "data": {
      "image/png": "[encoded data removed]",
      "text/plain": [
       "<Figure size 432x288 with 1 Axes>"
      ]
     },
     "metadata": {
      "needs_background": "light"
     },
     "output_type": "display_data"
    }
   ],
   "source": [
    "img = plt.imread('temp_2.png')\n",
    "plt.imshow(img)\n",
    "plt.show()"
   ]
  },
  {
   "cell_type": "markdown",
   "metadata": {},
   "source": [
    "Let's stich many of these frames together to make a video. We will use ffmpeg to do this."
   ]
  },
  {
   "cell_type": "code",
   "execution_count": 46,
   "metadata": {},
   "outputs": [],
   "source": [
    "#create the output video with ffmpeg\n",
    "output_name = '1.1_detectron2_output.mp4'\n",
    "out = sp.run([\"ffmpeg\", \"-y\", \"-i\", \"temp_%d.png\", \"-vcodec\", \"mpeg4\", output_name])\n",
    "\n",
    "#now delete the temp frames\n",
    "#delete the temp .png files\n",
    "fileList = glob.glob('temp_*.png')\n",
    "#Iterate over the list of filepaths & remove each file.\n",
    "for filePath in fileList:\n",
    "    try:\n",
    "        os.remove(filePath)\n",
    "    except:\n",
    "        print(\"Error while deleting file : \", filePath)"
   ]
  },
  {
   "cell_type": "markdown",
   "metadata": {},
   "source": [
    "Now we can view the video:\n",
    "Note, there seems to be some problem with the video player. If the video does not play, you can download the video from /engg3130-project/ and then view it on your computer."
   ]
  },
  {
   "cell_type": "markdown",
   "metadata": {},
   "source": [
    "<video controls src=output_name />"
   ]
  },
  {
   "cell_type": "markdown",
   "metadata": {},
   "source": [
    "As we can tell, the video is very choppy and full of artifacts. These artifacts are undesireable. They are a result of detectron2 not having any notion of motion or relation of objects between any two frames. We need a way to address and fix this."
   ]
  },
  {
   "cell_type": "markdown",
   "metadata": {},
   "source": [
    "**Note:** For these tests we are using the computer vision framework called \"Mask-RCNN\". Detectron2 is able to use a multitude of different frameworks. For example, here are some youtube clips of the various videos being run through different models:"
   ]
  },
  {
   "cell_type": "markdown",
   "metadata": {},
   "source": [
    "**Driving on the 401**<br>Model used: Panoptic FPN R50 1x<br>The common theme remain. There is many instances of artifacting between frames. Objects rapidly appear only to disappear frames later. Take special note of the cars in the far left background, or the fauna on the right side."
   ]
  },
  {
   "cell_type": "code",
   "execution_count": 13,
   "metadata": {},
   "outputs": [
    {
     "data": {
      "image/jpeg": "[encoded data removed]",
      "text/html": [
       "\n",
       "        <iframe\n",
       "            width=\"400\"\n",
       "            height=\"300\"\n",
       "            src=\"https://www.youtube.com/embed/ZBFO1hhdHJ0\"\n",
       "            frameborder=\"0\"\n",
       "            allowfullscreen\n",
       "        ></iframe>\n",
       "        "
      ],
      "text/plain": [
       "<IPython.lib.display.YouTubeVideo at 0x7f95b806f0a0>"
      ]
     },
     "execution_count": 13,
     "metadata": {},
     "output_type": "execute_result"
    }
   ],
   "source": [
    "YouTubeVideo('ZBFO1hhdHJ0')"
   ]
  },
  {
   "cell_type": "markdown",
   "metadata": {},
   "source": [
    "**Walking on the Boarwalk**<br>Model used: Mask R-CNN R50 1x<br>Once again there are many instances of flickering and inconsistent object segmentation between frames. Take particular note of the traffic lights on the right side of the video, or the people and benches on the left."
   ]
  },
  {
   "cell_type": "code",
   "execution_count": 14,
   "metadata": {},
   "outputs": [
    {
     "data": {
      "image/jpeg": "[encoded data removed]",
      "text/html": [
       "\n",
       "        <iframe\n",
       "            width=\"400\"\n",
       "            height=\"300\"\n",
       "            src=\"https://www.youtube.com/embed/ZYKUq6mMlvI\"\n",
       "            frameborder=\"0\"\n",
       "            allowfullscreen\n",
       "        ></iframe>\n",
       "        "
      ],
      "text/plain": [
       "<IPython.lib.display.YouTubeVideo at 0x7f95b806fac0>"
      ]
     },
     "execution_count": 14,
     "metadata": {},
     "output_type": "execute_result"
    }
   ],
   "source": [
    "YouTubeVideo('ZYKUq6mMlvI')"
   ]
  },
  {
   "cell_type": "markdown",
   "metadata": {},
   "source": [
    "## Background: 1.2 FlowNet2"
   ]
  },
  {
   "cell_type": "markdown",
   "metadata": {},
   "source": [
    "FlowNet2-Pytorch is a pytorch implementation of Optical Flow Estimation using Deep Networks. Essentially it allows for the estimation of a pixels movement from one frame to the next.\n",
    "\n",
    "This gives us something that Detectron2 does not- a notion of conectiveness between two frames. Lets investigate what kind of output it can give us:"
   ]
  },
  {
   "cell_type": "markdown",
   "metadata": {},
   "source": [
    "**Note:**\n",
    "1. The code used to genereate the flownet output is from the repo: https://github.com/dancelogue/flownet2-pytorch\n",
    "2. For simplicty in this version* of the notebook, the flownet output files have been *previously generated* for the first 30 frames of three seperate videos. The model **FlowNet2** was used to generate the flow data.\n",
    "3. The flownet .flo files for these three video are located in /flow_data/\n",
    "4. The three videos are: driveby.mp4, walking.mp4, and driving_on_the_401.mp4\n",
    "\n",
    "<br>*This will be changed in the next update of this notebook."
   ]
  },
  {
   "cell_type": "markdown",
   "metadata": {},
   "source": [
    "Let's pick the same video as earlier (driveby.mp4), and take a look at the .flo files that flownet generates:"
   ]
  },
  {
   "cell_type": "code",
   "execution_count": 15,
   "metadata": {},
   "outputs": [],
   "source": [
    "#function that parses the raw data from a flow file\n",
    "TAG_FLOAT = 202021.25\n",
    "flags = {\n",
    "    'debug': False\n",
    "}\n",
    "def read_flow(path):\n",
    "    if not isinstance(path, io.BufferedReader):\n",
    "        if not isinstance(path, str):\n",
    "            raise AssertionError(\n",
    "                \"Input [{p}] is not a string\".format(p=path))\n",
    "        if not os.path.isfile(path):\n",
    "            raise AssertionError(\n",
    "                \"Path [{p}] does not exist\".format(p=path))\n",
    "        if not path.split('.')[-1] == 'flo':\n",
    "            raise AssertionError(\n",
    "                \"File extension [flo] required, [{f}] given\".format(f=path.split('.')[-1]))\n",
    "\n",
    "        flo = open(path, 'rb')\n",
    "    else:\n",
    "        flo = path\n",
    "\n",
    "    tag = np.frombuffer(flo.read(4), np.float32, count=1)[0]\n",
    "    if not TAG_FLOAT == tag:\n",
    "        raise AssertionError(\"Wrong Tag [{t}]\".format(t=tag))\n",
    "\n",
    "    width = np.frombuffer(flo.read(4), np.int32, count=1)[0]\n",
    "    if not (width > 0 and width < 100000):\n",
    "        raise AssertionError(\"Illegal width [{w}]\".format(w=width))\n",
    "\n",
    "    height = np.frombuffer(flo.read(4), np.int32, count=1)[0]\n",
    "    if not (width > 0 and width < 100000):\n",
    "        raise AssertionError(\"Illegal height [{h}]\".format(h=height))\n",
    "\n",
    "    nbands = 2\n",
    "    tmp = np.frombuffer(flo.read(nbands * width * height * 4),\n",
    "                        np.float32, count=nbands * width * height)\n",
    "    flow = np.resize(tmp, (int(height), int(width), int(nbands)))\n",
    "    flo.close()\n",
    "\n",
    "    return flow"
   ]
  },
  {
   "cell_type": "markdown",
   "metadata": {},
   "source": [
    "flow_to_mask function\n",
    "This funtion takes in one flow file (.flo) and returns a mask, tensor, and height, width, and the raw flow data\n",
    "paramaters:\n",
    "- flow file (the path to a .flo file)\n",
    "- threshold (OPTIONAL, threshold of pixel movement magnitude used to generate flow mask. Defaults to 0.5)\n",
    "\n",
    "returns:\n",
    "- flow (HxWx2 Numpy array)\n",
    "- flow_tensor (HxWx2 Tensor)\n",
    "- flow_mask (A mask generated from flow using passed in magnitude)\n",
    "- height (height of the flow mask)\n",
    "- width (width of the flow mask)"
   ]
  },
  {
   "cell_type": "code",
   "execution_count": 16,
   "metadata": {},
   "outputs": [],
   "source": [
    "#function to convert flow data to mask\n",
    "#returns the mask, the height, and the width\n",
    "def flow_to_mask(flo_file, threshold=0.5):\n",
    "    flow = read_flow(flo_file)\n",
    "    height = flow.shape[0]\n",
    "    width = flow.shape[1]\n",
    "    u = flow[:,:,0]\n",
    "    v = flow[:,:,1]\n",
    "    x = np.sqrt(u**2 + v**2)\n",
    "    flow_mask = x>threshold\n",
    "    flow_tensor = torch.from_numpy(flow)\n",
    "    return flow, flow_tensor, flow_mask, height, width"
   ]
  },
  {
   "cell_type": "markdown",
   "metadata": {},
   "source": [
    "Pick a directory (in this case, for the driveby video), and a frame to view (in this case, frame 0)"
   ]
  },
  {
   "cell_type": "code",
   "execution_count": 17,
   "metadata": {},
   "outputs": [],
   "source": [
    "flow_folder = \"./flow_data/driveby/\"\n",
    "flow_file = \"000000.flo\""
   ]
  },
  {
   "cell_type": "code",
   "execution_count": 18,
   "metadata": {},
   "outputs": [
    {
     "name": "stdout",
     "output_type": "stream",
     "text": [
      "./flow_data/driveby/000000.flo\n"
     ]
    }
   ],
   "source": [
    "path = flow_folder+flow_file\n",
    "print(path)\n",
    "flow, flow_tensor, flow_mask, height, width = flow_to_mask(path)"
   ]
  },
  {
   "cell_type": "markdown",
   "metadata": {},
   "source": [
    "The output from the function call:"
   ]
  },
  {
   "cell_type": "code",
   "execution_count": 19,
   "metadata": {},
   "outputs": [
    {
     "name": "stdout",
     "output_type": "stream",
     "text": [
      "Shape of the flow file is:  (704, 1280, 2)\n",
      "Shape of the mask is:  (704, 1280)\n",
      "Height of the flow file is:  704\n",
      "Width of the flow file is:  1280\n",
      "Tensor size:  torch.Size([704, 1280, 2])\n"
     ]
    }
   ],
   "source": [
    "print(\"Shape of the flow file is: \",flow.shape)\n",
    "print(\"Shape of the mask is: \", flow_mask.shape)\n",
    "print(\"Height of the flow file is: \", height)\n",
    "print(\"Width of the flow file is: \", width)\n",
    "print(\"Tensor size: \",flow_tensor.shape)"
   ]
  },
  {
   "cell_type": "markdown",
   "metadata": {},
   "source": [
    "From above we can notice a few things.\n",
    "\n",
    "First, the height of the flow tensor and mask are not the same as the video. This is becasue flownet automatically crops all images to heights and widths that are multiples of 64. This is so when Tensors are batched and then concatenated, they all have the same dimensions.\n",
    "\n",
    "Second, the tensor and flow array both have a new third dimnsion. Let's inspect it."
   ]
  },
  {
   "cell_type": "code",
   "execution_count": 20,
   "metadata": {},
   "outputs": [
    {
     "name": "stdout",
     "output_type": "stream",
     "text": [
      "tensor([-13.5089,   1.8003])\n"
     ]
    }
   ],
   "source": [
    "#pick the pixel at 300,500 (y,x)\n",
    "this_pixel = flow_tensor[300,500] #y, x!!\n",
    "print(this_pixel)"
   ]
  },
  {
   "cell_type": "markdown",
   "metadata": {},
   "source": [
    "We notice that for each pixel, there are two vectors, call them U and V. They represent the x and y motion of that pixel respectively, on a traditional cartesian plane.\n",
    "\n",
    "To visualize this movement, we can use a scale like the one below. \n",
    "\n",
    "Therefore, for the above pixel with magnitude for U and V of -13.5080, 1.8003, we expect a vector to the left and slightly up. Accoring to the scale below, this would correspond to a blue/turqoise color.\n",
    "\n",
    "Note that these scales are relative to other pixels in the frame. The only constraint on movement vectors U and V is that they must be of magnitude < 1E9.\n",
    "\n",
    "[1]"
   ]
  },
  {
   "cell_type": "markdown",
   "metadata": {},
   "source": [
    "![title](./notebook_supporting/scale.png)"
   ]
  },
  {
   "cell_type": "markdown",
   "metadata": {},
   "source": [
    "References\n",
    "\n",
    "\n",
    "-  [1] https://towardsdatascience.com/generating-optical-flow-using-nvidia-flownet2-pytorch-implementation-d7b0ae6f8320"
   ]
  },
  {
   "cell_type": "markdown",
   "metadata": {},
   "source": [
    "We can take a look at the visualized flow file for this image. Like the flow data, the image was generated previously using the flow2image library(https://github.com/skeeet/flow2image):"
   ]
  },
  {
   "cell_type": "code",
   "execution_count": 21,
   "metadata": {},
   "outputs": [
    {
     "data": {
      "image/png": "[encoded data removed]",
      "text/plain": [
       "<Figure size 432x288 with 1 Axes>"
      ]
     },
     "metadata": {
      "needs_background": "light"
     },
     "output_type": "display_data"
    }
   ],
   "source": [
    "path_to_image = \"./flow_data/driveby/images/\"\n",
    "image = flow_file+\".png\"\n",
    "img = plt.imread(path_to_image+image)\n",
    "plt.imshow(img)\n",
    "plt.show()"
   ]
  },
  {
   "cell_type": "markdown",
   "metadata": {},
   "source": [
    "This is the video generated by FlowNet2 when applied to the driveby video. As mentioned earlier, it was prviously generated using an external repo:"
   ]
  },
  {
   "cell_type": "code",
   "execution_count": 22,
   "metadata": {},
   "outputs": [
    {
     "data": {
      "image/jpeg": "[encoded data removed]",
      "text/html": [
       "\n",
       "        <iframe\n",
       "            width=\"400\"\n",
       "            height=\"300\"\n",
       "            src=\"https://www.youtube.com/embed/JLM5r_O_x6I\"\n",
       "            frameborder=\"0\"\n",
       "            allowfullscreen\n",
       "        ></iframe>\n",
       "        "
      ],
      "text/plain": [
       "<IPython.lib.display.YouTubeVideo at 0x7f95b80f55e0>"
      ]
     },
     "execution_count": 22,
     "metadata": {},
     "output_type": "execute_result"
    }
   ],
   "source": [
    "YouTubeVideo(\"JLM5r_O_x6I\")"
   ]
  },
  {
   "cell_type": "markdown",
   "metadata": {},
   "source": [
    "Now, lets see the mask returned by the flow_to_image function. It was generated using a movement threhsold paramter of 0.5. Ie: sqrt(U^2 + V^2)>0.5.\n",
    "\n",
    "We get the following image:"
   ]
  },
  {
   "cell_type": "code",
   "execution_count": 23,
   "metadata": {},
   "outputs": [
    {
     "data": {
      "text/plain": [
       "<matplotlib.image.AxesImage at 0x7f95b89a6c40>"
      ]
     },
     "execution_count": 23,
     "metadata": {},
     "output_type": "execute_result"
    },
    {
     "data": {
      "image/png": "[encoded data removed]",
      "text/plain": [
       "<Figure size 432x288 with 1 Axes>"
      ]
     },
     "metadata": {
      "needs_background": "light"
     },
     "output_type": "display_data"
    }
   ],
   "source": [
    "plt.imshow(flow_mask)"
   ]
  },
  {
   "cell_type": "markdown",
   "metadata": {},
   "source": [
    "This mask is pretty crucial. It shows us that is moving and what is stationary in the frame. Anything above a movement magnitude of 0.5 is shown in yellow, and anything below this threshold is shown in purple. **We now have a way to guage motion based off of data from other frames. In other words, we no longer only have a single frame's data at our disposal.**"
   ]
  },
  {
   "cell_type": "markdown",
   "metadata": {},
   "source": [
    "## 2 - Combining the two networks"
   ]
  },
  {
   "cell_type": "markdown",
   "metadata": {},
   "source": [
    "Detectron2 gives us a very good way to segment objects accurately, but does not carry predictions well between frames of video. This is due to the nature of how Detectron2 is trained. It is trained on single frames, and this is how it treats video- one single frame at a time.\n",
    "\n",
    "Flownet2 on the other hand, is specifically designed to make movement predictions on consecutive frames. This is how it was trained and this is why it is so good at predicitng movement in video. However, it has no way to segment objects or instances as Detectron2 can.\n",
    "\n",
    "**We will attempt to combine aspects of both networks. If we can find some way to determine when a detection network makes incorrect predictions in a frame, we can generate a loss function. This loss function can be used to train a neural network. The hope is that the network can be trained to make better predictions on videos, with improved frame-to-frame consistceny.**"
   ]
  },
  {
   "cell_type": "markdown",
   "metadata": {},
   "source": [
    "First, some supporting functions for later. They have been adapted from [Thor](https://github.com/ThorJonsson). Thank you Thor."
   ]
  },
  {
   "cell_type": "code",
   "execution_count": 24,
   "metadata": {},
   "outputs": [],
   "source": [
    "#preds and gt same size\n",
    "def binary_dice(preds, gt,mask=None):\n",
    "    res = {}\n",
    "    one = torch.ones(preds.size()).to(preds.device)\n",
    "    if mask is None:\n",
    "        mask = one\n",
    "   \n",
    "    tp = (mask*(preds*gt)).sum() #where GT and preds both 1\n",
    "    fp = (mask*(preds*(~gt))).sum() #where pred is 1 but gt 0\n",
    "    fn = (mask*((~preds)*gt)).sum()\n",
    "    tn = (mask*((~preds)*(~gt))).sum()\n",
    "    res['acc'] = ((tp + tn)/(tp + fp + tn + fn)).item()\n",
    "    if tp + fn == 0:\n",
    "        res['recall'] = (tp + fn).item()\n",
    "    else:\n",
    "        res['recall'] = (tp/(tp + fn)).item()\n",
    "    if tp + fp == 0:\n",
    "        res['prec'] = (tp + fp).item()\n",
    "    else:\n",
    "        res['prec'] = (tp/(tp + fp)).item()\n",
    "    if tp + fp + fn == 0:\n",
    "        res['f1'] = (tp + fp + fn).item()\n",
    "        iou = tp + fp + fn\n",
    "    else:\n",
    "        res['f1'] = ((2*tp)/(2*tp + fp + fn)).item()\n",
    "        iou = tp/(tp + fp + fn)\n",
    "    loss = 1 - iou\n",
    "    res['dice'] = loss.item()\n",
    "   \n",
    "    return loss, res"
   ]
  },
  {
   "cell_type": "code",
   "execution_count": 25,
   "metadata": {},
   "outputs": [],
   "source": [
    "def dice_loss(seg_mask, flow_mask):\n",
    "    \"\"\"\n",
    "    ***\n",
    "    Calculates the dice loss.\n",
    "    n - num videos (batch size) (always 1 for now)\n",
    "    t - # frames total\n",
    "    height\n",
    "    width\n",
    "    num_instances - how many instances in the given frame\n",
    "    ***\n",
    "    seg_mask is a binary tensor of shape [t,height,width]\n",
    "    flow_mask is a tensor of shape [t,height,width]\n",
    "    \"\"\"\n",
    "    # permute predictions to make class channels be last\n",
    "    #preds = f.softmax(preds.permute(0, 2, 3, 4, 1), dim=-1)\n",
    "    #preds = discretize(preds)\n",
    "    #num_inst = seg_mask.shape[-1] #last \n",
    "    num_frames = seg_mask.shape[0] #last \n",
    "    res = {}\n",
    "    loss = 0\n",
    "    for i in range(num_frames):\n",
    "        x = seg_mask[i, :, :]\n",
    "        y = flow_mask[i, :, :]\n",
    "        loss_i, res_i = binary_dice(x, y)\n",
    "        for key, value in res_i.items():\n",
    "            res[key + f'_{i}'] = value\n",
    "        loss += loss_i\n",
    "    return loss/num_frames, res"
   ]
  },
  {
   "cell_type": "markdown",
   "metadata": {},
   "source": [
    "We will re-run the Mask-RCNN network with Detectron2 on the video ```driveby.mp4```. The reason for this is because earlier we were using the video's native resolution to generate our output. As mentioned earlier, FlowNet2 re-sizes input videos so the height and width must be divisible by 64. We will re-run Detectron2 using this new resolution of 704x1080 to make the masks match the size of the flownet output"
   ]
  },
  {
   "cell_type": "code",
   "execution_count": 26,
   "metadata": {},
   "outputs": [
    {
     "name": "stdout",
     "output_type": "stream",
     "text": [
      "./flow_data/driveby/000000.flo\n",
      "new_height:  704\n",
      "new_width:  1280\n"
     ]
    }
   ],
   "source": [
    "#Check the resolution of the .flo files\n",
    "flow_folder = \"./flow_data/driveby/\"\n",
    "flow_file = \"000000.flo\"\n",
    "path = flow_folder+flow_file\n",
    "print(path)\n",
    "flow, flow_tensor, flow_mask, height, width = flow_to_mask(path)\n",
    "print(\"new_height: \", height)\n",
    "print(\"new_width: \", width)"
   ]
  },
  {
   "cell_type": "markdown",
   "metadata": {},
   "source": [
    "Set this new height and width to later use when running Detectron2 again."
   ]
  },
  {
   "cell_type": "markdown",
   "metadata": {},
   "source": [
    "Now we will run Detectron2 on the driveby.mp4 video again, but with the new width and height. **Note: we will stop Detectron2 from running after it has proccessed 30 frames. This is done to save time** We will also remove the step of exporting images and creating an output video as we are only concerned with the output masks in this stage."
   ]
  },
  {
   "cell_type": "code",
   "execution_count": 27,
   "metadata": {},
   "outputs": [],
   "source": [
    "video_name = 'driveby.mp4'\n",
    "video_path = './sample_videos/'\n",
    "model_path = './models/model_final_9243eb.pkl'\n",
    "config_path = './configs/COCO-InstanceSegmentation/mask_rcnn_R_50_C4_1x.yaml'"
   ]
  },
  {
   "cell_type": "code",
   "execution_count": 28,
   "metadata": {},
   "outputs": [
    {
     "data": {
      "text/plain": [
       "GeneralizedRCNN(\n",
       "  (backbone): ResNet(\n",
       "    (stem): BasicStem(\n",
       "      (conv1): Conv2d(\n",
       "        3, 64, kernel_size=(7, 7), stride=(2, 2), padding=(3, 3), bias=False\n",
       "        (norm): FrozenBatchNorm2d(num_features=64, eps=1e-05)\n",
       "      )\n",
       "    )\n",
       "    (res2): Sequential(\n",
       "      (0): BottleneckBlock(\n",
       "        (shortcut): Conv2d(\n",
       "          64, 256, kernel_size=(1, 1), stride=(1, 1), bias=False\n",
       "          (norm): FrozenBatchNorm2d(num_features=256, eps=1e-05)\n",
       "        )\n",
       "        (conv1): Conv2d(\n",
       "          64, 64, kernel_size=(1, 1), stride=(1, 1), bias=False\n",
       "          (norm): FrozenBatchNorm2d(num_features=64, eps=1e-05)\n",
       "        )\n",
       "        (conv2): Conv2d(\n",
       "          64, 64, kernel_size=(3, 3), stride=(1, 1), padding=(1, 1), bias=False\n",
       "          (norm): FrozenBatchNorm2d(num_features=64, eps=1e-05)\n",
       "        )\n",
       "        (conv3): Conv2d(\n",
       "          64, 256, kernel_size=(1, 1), stride=(1, 1), bias=False\n",
       "          (norm): FrozenBatchNorm2d(num_features=256, eps=1e-05)\n",
       "        )\n",
       "      )\n",
       "      (1): BottleneckBlock(\n",
       "        (conv1): Conv2d(\n",
       "          256, 64, kernel_size=(1, 1), stride=(1, 1), bias=False\n",
       "          (norm): FrozenBatchNorm2d(num_features=64, eps=1e-05)\n",
       "        )\n",
       "        (conv2): Conv2d(\n",
       "          64, 64, kernel_size=(3, 3), stride=(1, 1), padding=(1, 1), bias=False\n",
       "          (norm): FrozenBatchNorm2d(num_features=64, eps=1e-05)\n",
       "        )\n",
       "        (conv3): Conv2d(\n",
       "          64, 256, kernel_size=(1, 1), stride=(1, 1), bias=False\n",
       "          (norm): FrozenBatchNorm2d(num_features=256, eps=1e-05)\n",
       "        )\n",
       "      )\n",
       "      (2): BottleneckBlock(\n",
       "        (conv1): Conv2d(\n",
       "          256, 64, kernel_size=(1, 1), stride=(1, 1), bias=False\n",
       "          (norm): FrozenBatchNorm2d(num_features=64, eps=1e-05)\n",
       "        )\n",
       "        (conv2): Conv2d(\n",
       "          64, 64, kernel_size=(3, 3), stride=(1, 1), padding=(1, 1), bias=False\n",
       "          (norm): FrozenBatchNorm2d(num_features=64, eps=1e-05)\n",
       "        )\n",
       "        (conv3): Conv2d(\n",
       "          64, 256, kernel_size=(1, 1), stride=(1, 1), bias=False\n",
       "          (norm): FrozenBatchNorm2d(num_features=256, eps=1e-05)\n",
       "        )\n",
       "      )\n",
       "    )\n",
       "    (res3): Sequential(\n",
       "      (0): BottleneckBlock(\n",
       "        (shortcut): Conv2d(\n",
       "          256, 512, kernel_size=(1, 1), stride=(2, 2), bias=False\n",
       "          (norm): FrozenBatchNorm2d(num_features=512, eps=1e-05)\n",
       "        )\n",
       "        (conv1): Conv2d(\n",
       "          256, 128, kernel_size=(1, 1), stride=(2, 2), bias=False\n",
       "          (norm): FrozenBatchNorm2d(num_features=128, eps=1e-05)\n",
       "        )\n",
       "        (conv2): Conv2d(\n",
       "          128, 128, kernel_size=(3, 3), stride=(1, 1), padding=(1, 1), bias=False\n",
       "          (norm): FrozenBatchNorm2d(num_features=128, eps=1e-05)\n",
       "        )\n",
       "        (conv3): Conv2d(\n",
       "          128, 512, kernel_size=(1, 1), stride=(1, 1), bias=False\n",
       "          (norm): FrozenBatchNorm2d(num_features=512, eps=1e-05)\n",
       "        )\n",
       "      )\n",
       "      (1): BottleneckBlock(\n",
       "        (conv1): Conv2d(\n",
       "          512, 128, kernel_size=(1, 1), stride=(1, 1), bias=False\n",
       "          (norm): FrozenBatchNorm2d(num_features=128, eps=1e-05)\n",
       "        )\n",
       "        (conv2): Conv2d(\n",
       "          128, 128, kernel_size=(3, 3), stride=(1, 1), padding=(1, 1), bias=False\n",
       "          (norm): FrozenBatchNorm2d(num_features=128, eps=1e-05)\n",
       "        )\n",
       "        (conv3): Conv2d(\n",
       "          128, 512, kernel_size=(1, 1), stride=(1, 1), bias=False\n",
       "          (norm): FrozenBatchNorm2d(num_features=512, eps=1e-05)\n",
       "        )\n",
       "      )\n",
       "      (2): BottleneckBlock(\n",
       "        (conv1): Conv2d(\n",
       "          512, 128, kernel_size=(1, 1), stride=(1, 1), bias=False\n",
       "          (norm): FrozenBatchNorm2d(num_features=128, eps=1e-05)\n",
       "        )\n",
       "        (conv2): Conv2d(\n",
       "          128, 128, kernel_size=(3, 3), stride=(1, 1), padding=(1, 1), bias=False\n",
       "          (norm): FrozenBatchNorm2d(num_features=128, eps=1e-05)\n",
       "        )\n",
       "        (conv3): Conv2d(\n",
       "          128, 512, kernel_size=(1, 1), stride=(1, 1), bias=False\n",
       "          (norm): FrozenBatchNorm2d(num_features=512, eps=1e-05)\n",
       "        )\n",
       "      )\n",
       "      (3): BottleneckBlock(\n",
       "        (conv1): Conv2d(\n",
       "          512, 128, kernel_size=(1, 1), stride=(1, 1), bias=False\n",
       "          (norm): FrozenBatchNorm2d(num_features=128, eps=1e-05)\n",
       "        )\n",
       "        (conv2): Conv2d(\n",
       "          128, 128, kernel_size=(3, 3), stride=(1, 1), padding=(1, 1), bias=False\n",
       "          (norm): FrozenBatchNorm2d(num_features=128, eps=1e-05)\n",
       "        )\n",
       "        (conv3): Conv2d(\n",
       "          128, 512, kernel_size=(1, 1), stride=(1, 1), bias=False\n",
       "          (norm): FrozenBatchNorm2d(num_features=512, eps=1e-05)\n",
       "        )\n",
       "      )\n",
       "    )\n",
       "    (res4): Sequential(\n",
       "      (0): BottleneckBlock(\n",
       "        (shortcut): Conv2d(\n",
       "          512, 1024, kernel_size=(1, 1), stride=(2, 2), bias=False\n",
       "          (norm): FrozenBatchNorm2d(num_features=1024, eps=1e-05)\n",
       "        )\n",
       "        (conv1): Conv2d(\n",
       "          512, 256, kernel_size=(1, 1), stride=(2, 2), bias=False\n",
       "          (norm): FrozenBatchNorm2d(num_features=256, eps=1e-05)\n",
       "        )\n",
       "        (conv2): Conv2d(\n",
       "          256, 256, kernel_size=(3, 3), stride=(1, 1), padding=(1, 1), bias=False\n",
       "          (norm): FrozenBatchNorm2d(num_features=256, eps=1e-05)\n",
       "        )\n",
       "        (conv3): Conv2d(\n",
       "          256, 1024, kernel_size=(1, 1), stride=(1, 1), bias=False\n",
       "          (norm): FrozenBatchNorm2d(num_features=1024, eps=1e-05)\n",
       "        )\n",
       "      )\n",
       "      (1): BottleneckBlock(\n",
       "        (conv1): Conv2d(\n",
       "          1024, 256, kernel_size=(1, 1), stride=(1, 1), bias=False\n",
       "          (norm): FrozenBatchNorm2d(num_features=256, eps=1e-05)\n",
       "        )\n",
       "        (conv2): Conv2d(\n",
       "          256, 256, kernel_size=(3, 3), stride=(1, 1), padding=(1, 1), bias=False\n",
       "          (norm): FrozenBatchNorm2d(num_features=256, eps=1e-05)\n",
       "        )\n",
       "        (conv3): Conv2d(\n",
       "          256, 1024, kernel_size=(1, 1), stride=(1, 1), bias=False\n",
       "          (norm): FrozenBatchNorm2d(num_features=1024, eps=1e-05)\n",
       "        )\n",
       "      )\n",
       "      (2): BottleneckBlock(\n",
       "        (conv1): Conv2d(\n",
       "          1024, 256, kernel_size=(1, 1), stride=(1, 1), bias=False\n",
       "          (norm): FrozenBatchNorm2d(num_features=256, eps=1e-05)\n",
       "        )\n",
       "        (conv2): Conv2d(\n",
       "          256, 256, kernel_size=(3, 3), stride=(1, 1), padding=(1, 1), bias=False\n",
       "          (norm): FrozenBatchNorm2d(num_features=256, eps=1e-05)\n",
       "        )\n",
       "        (conv3): Conv2d(\n",
       "          256, 1024, kernel_size=(1, 1), stride=(1, 1), bias=False\n",
       "          (norm): FrozenBatchNorm2d(num_features=1024, eps=1e-05)\n",
       "        )\n",
       "      )\n",
       "      (3): BottleneckBlock(\n",
       "        (conv1): Conv2d(\n",
       "          1024, 256, kernel_size=(1, 1), stride=(1, 1), bias=False\n",
       "          (norm): FrozenBatchNorm2d(num_features=256, eps=1e-05)\n",
       "        )\n",
       "        (conv2): Conv2d(\n",
       "          256, 256, kernel_size=(3, 3), stride=(1, 1), padding=(1, 1), bias=False\n",
       "          (norm): FrozenBatchNorm2d(num_features=256, eps=1e-05)\n",
       "        )\n",
       "        (conv3): Conv2d(\n",
       "          256, 1024, kernel_size=(1, 1), stride=(1, 1), bias=False\n",
       "          (norm): FrozenBatchNorm2d(num_features=1024, eps=1e-05)\n",
       "        )\n",
       "      )\n",
       "      (4): BottleneckBlock(\n",
       "        (conv1): Conv2d(\n",
       "          1024, 256, kernel_size=(1, 1), stride=(1, 1), bias=False\n",
       "          (norm): FrozenBatchNorm2d(num_features=256, eps=1e-05)\n",
       "        )\n",
       "        (conv2): Conv2d(\n",
       "          256, 256, kernel_size=(3, 3), stride=(1, 1), padding=(1, 1), bias=False\n",
       "          (norm): FrozenBatchNorm2d(num_features=256, eps=1e-05)\n",
       "        )\n",
       "        (conv3): Conv2d(\n",
       "          256, 1024, kernel_size=(1, 1), stride=(1, 1), bias=False\n",
       "          (norm): FrozenBatchNorm2d(num_features=1024, eps=1e-05)\n",
       "        )\n",
       "      )\n",
       "      (5): BottleneckBlock(\n",
       "        (conv1): Conv2d(\n",
       "          1024, 256, kernel_size=(1, 1), stride=(1, 1), bias=False\n",
       "          (norm): FrozenBatchNorm2d(num_features=256, eps=1e-05)\n",
       "        )\n",
       "        (conv2): Conv2d(\n",
       "          256, 256, kernel_size=(3, 3), stride=(1, 1), padding=(1, 1), bias=False\n",
       "          (norm): FrozenBatchNorm2d(num_features=256, eps=1e-05)\n",
       "        )\n",
       "        (conv3): Conv2d(\n",
       "          256, 1024, kernel_size=(1, 1), stride=(1, 1), bias=False\n",
       "          (norm): FrozenBatchNorm2d(num_features=1024, eps=1e-05)\n",
       "        )\n",
       "      )\n",
       "    )\n",
       "  )\n",
       "  (proposal_generator): RPN(\n",
       "    (anchor_generator): DefaultAnchorGenerator(\n",
       "      (cell_anchors): BufferList()\n",
       "    )\n",
       "    (rpn_head): StandardRPNHead(\n",
       "      (conv): Conv2d(1024, 1024, kernel_size=(3, 3), stride=(1, 1), padding=(1, 1))\n",
       "      (objectness_logits): Conv2d(1024, 15, kernel_size=(1, 1), stride=(1, 1))\n",
       "      (anchor_deltas): Conv2d(1024, 60, kernel_size=(1, 1), stride=(1, 1))\n",
       "    )\n",
       "  )\n",
       "  (roi_heads): Res5ROIHeads(\n",
       "    (pooler): ROIPooler(\n",
       "      (level_poolers): ModuleList(\n",
       "        (0): ROIAlign(output_size=(14, 14), spatial_scale=0.0625, sampling_ratio=0, aligned=True)\n",
       "      )\n",
       "    )\n",
       "    (res5): Sequential(\n",
       "      (0): BottleneckBlock(\n",
       "        (shortcut): Conv2d(\n",
       "          1024, 2048, kernel_size=(1, 1), stride=(2, 2), bias=False\n",
       "          (norm): FrozenBatchNorm2d(num_features=2048, eps=1e-05)\n",
       "        )\n",
       "        (conv1): Conv2d(\n",
       "          1024, 512, kernel_size=(1, 1), stride=(2, 2), bias=False\n",
       "          (norm): FrozenBatchNorm2d(num_features=512, eps=1e-05)\n",
       "        )\n",
       "        (conv2): Conv2d(\n",
       "          512, 512, kernel_size=(3, 3), stride=(1, 1), padding=(1, 1), bias=False\n",
       "          (norm): FrozenBatchNorm2d(num_features=512, eps=1e-05)\n",
       "        )\n",
       "        (conv3): Conv2d(\n",
       "          512, 2048, kernel_size=(1, 1), stride=(1, 1), bias=False\n",
       "          (norm): FrozenBatchNorm2d(num_features=2048, eps=1e-05)\n",
       "        )\n",
       "      )\n",
       "      (1): BottleneckBlock(\n",
       "        (conv1): Conv2d(\n",
       "          2048, 512, kernel_size=(1, 1), stride=(1, 1), bias=False\n",
       "          (norm): FrozenBatchNorm2d(num_features=512, eps=1e-05)\n",
       "        )\n",
       "        (conv2): Conv2d(\n",
       "          512, 512, kernel_size=(3, 3), stride=(1, 1), padding=(1, 1), bias=False\n",
       "          (norm): FrozenBatchNorm2d(num_features=512, eps=1e-05)\n",
       "        )\n",
       "        (conv3): Conv2d(\n",
       "          512, 2048, kernel_size=(1, 1), stride=(1, 1), bias=False\n",
       "          (norm): FrozenBatchNorm2d(num_features=2048, eps=1e-05)\n",
       "        )\n",
       "      )\n",
       "      (2): BottleneckBlock(\n",
       "        (conv1): Conv2d(\n",
       "          2048, 512, kernel_size=(1, 1), stride=(1, 1), bias=False\n",
       "          (norm): FrozenBatchNorm2d(num_features=512, eps=1e-05)\n",
       "        )\n",
       "        (conv2): Conv2d(\n",
       "          512, 512, kernel_size=(3, 3), stride=(1, 1), padding=(1, 1), bias=False\n",
       "          (norm): FrozenBatchNorm2d(num_features=512, eps=1e-05)\n",
       "        )\n",
       "        (conv3): Conv2d(\n",
       "          512, 2048, kernel_size=(1, 1), stride=(1, 1), bias=False\n",
       "          (norm): FrozenBatchNorm2d(num_features=2048, eps=1e-05)\n",
       "        )\n",
       "      )\n",
       "    )\n",
       "    (box_predictor): FastRCNNOutputLayers(\n",
       "      (cls_score): Linear(in_features=2048, out_features=81, bias=True)\n",
       "      (bbox_pred): Linear(in_features=2048, out_features=320, bias=True)\n",
       "    )\n",
       "    (mask_head): MaskRCNNConvUpsampleHead(\n",
       "      (deconv): ConvTranspose2d(2048, 256, kernel_size=(2, 2), stride=(2, 2))\n",
       "      (predictor): Conv2d(256, 80, kernel_size=(1, 1), stride=(1, 1))\n",
       "    )\n",
       "  )\n",
       ")"
      ]
     },
     "execution_count": 28,
     "metadata": {},
     "output_type": "execute_result"
    }
   ],
   "source": [
    "cfg = get_cfg()\n",
    "cfg.merge_from_file(config_path) #load the desired model (in local directory)\n",
    "#cfg.merge_from_file(\"./configs/COCO-Keypoints/keypoint_rcnn_R_50_FPN_3x.yaml\") #load the desired model (in local directory)\n",
    "#cfg.merge_from_file(\"../configs/COCO-Detection/faster_rcnn_R_50_C4_3x.yaml\") #load the desired model (in local directory)\n",
    "cfg.MODEL.ROI_HEADS.SCORE_THRESH_TEST = 0.5 # set threshold for this model\n",
    "\n",
    "metadata = MetadataCatalog.get(\n",
    "    cfg.DATASETS.TEST[0] if len(cfg.DATASETS.TEST) else \"__unused\"\n",
    ")\n",
    "#cpu_device = torch.device(\"cpu\")\n",
    "instance_mode = ColorMode.IMAGE\n",
    "\n",
    "model = build_model(cfg) # returns a torch.nn.Module\n",
    "DetectionCheckpointer(model).load(model_path) # must load weights this way (in local directory)\n",
    "#DetectionCheckpointer(model).load('./models/keypoint_rcnn_r50_3x/model_final_a6e10b.pkl') # must load weights this way\n",
    "#DetectionCheckpointer(model).load('../models/faster_rcnn_r50_c4/model_final_f97cb7.pkl') # must load weights this way (in local directory)\n",
    "model.train(False) # inference mode"
   ]
  },
  {
   "cell_type": "code",
   "execution_count": 29,
   "metadata": {},
   "outputs": [],
   "source": [
    "torch.cuda.empty_cache()"
   ]
  },
  {
   "cell_type": "code",
   "execution_count": 30,
   "metadata": {},
   "outputs": [
    {
     "name": "stdout",
     "output_type": "stream",
     "text": [
      "./sample_videos/driveby.mp4\n",
      "Height:  720\n",
      "Width:  1280\n",
      "Framerate:  30\n",
      "Total Frames:  260\n"
     ]
    }
   ],
   "source": [
    "path = video_path+video_name\n",
    "print(path)\n",
    "vid_height, vid_width, framerate, num_frames = get_info(path)\n",
    "q = Queue()\n",
    "decoder = image2pipe.images_from_url(q, path, fps=framerate, pix_fmt='rgb24', scale=(width, height))\n",
    "decoder.start()"
   ]
  },
  {
   "cell_type": "code",
   "execution_count": 31,
   "metadata": {},
   "outputs": [],
   "source": [
    "#Create an empty list to store a tensor for each video frame\n",
    "detectron_tensors = []\n",
    "detectron_frames = []"
   ]
  },
  {
   "cell_type": "code",
   "execution_count": 32,
   "metadata": {},
   "outputs": [
    {
     "name": "stderr",
     "output_type": "stream",
     "text": [
      "\r",
      "  0%|          | 0/260 [00:00<?, ?it/s]"
     ]
    },
    {
     "name": "stdout",
     "output_type": "stream",
     "text": [
      "0\n"
     ]
    },
    {
     "name": "stderr",
     "output_type": "stream",
     "text": [
      "\r",
      "  0%|          | 1/260 [00:00<02:34,  1.68it/s]"
     ]
    },
    {
     "name": "stdout",
     "output_type": "stream",
     "text": [
      "torch.Size([7, 704, 1280])\n",
      "1\n"
     ]
    },
    {
     "name": "stderr",
     "output_type": "stream",
     "text": [
      "\r",
      "  1%|          | 2/260 [00:01<02:24,  1.78it/s]"
     ]
    },
    {
     "name": "stdout",
     "output_type": "stream",
     "text": [
      "torch.Size([6, 704, 1280])\n",
      "2\n"
     ]
    },
    {
     "name": "stderr",
     "output_type": "stream",
     "text": [
      "\r",
      "  1%|          | 3/260 [00:01<02:19,  1.84it/s]"
     ]
    },
    {
     "name": "stdout",
     "output_type": "stream",
     "text": [
      "torch.Size([7, 704, 1280])\n",
      "3\n"
     ]
    },
    {
     "name": "stderr",
     "output_type": "stream",
     "text": [
      "\r",
      "  2%|▏         | 4/260 [00:02<02:19,  1.84it/s]"
     ]
    },
    {
     "name": "stdout",
     "output_type": "stream",
     "text": [
      "torch.Size([8, 704, 1280])\n",
      "4\n"
     ]
    },
    {
     "name": "stderr",
     "output_type": "stream",
     "text": [
      "\r",
      "  2%|▏         | 5/260 [00:02<02:20,  1.82it/s]"
     ]
    },
    {
     "name": "stdout",
     "output_type": "stream",
     "text": [
      "torch.Size([8, 704, 1280])\n",
      "5\n"
     ]
    },
    {
     "name": "stderr",
     "output_type": "stream",
     "text": [
      "\r",
      "  2%|▏         | 6/260 [00:03<02:20,  1.81it/s]"
     ]
    },
    {
     "name": "stdout",
     "output_type": "stream",
     "text": [
      "torch.Size([10, 704, 1280])\n",
      "6\n"
     ]
    },
    {
     "name": "stderr",
     "output_type": "stream",
     "text": [
      "\r",
      "  3%|▎         | 7/260 [00:03<02:20,  1.81it/s]"
     ]
    },
    {
     "name": "stdout",
     "output_type": "stream",
     "text": [
      "torch.Size([9, 704, 1280])\n",
      "7\n"
     ]
    },
    {
     "name": "stderr",
     "output_type": "stream",
     "text": [
      "\r",
      "  3%|▎         | 8/260 [00:04<02:19,  1.81it/s]"
     ]
    },
    {
     "name": "stdout",
     "output_type": "stream",
     "text": [
      "torch.Size([8, 704, 1280])\n",
      "8\n"
     ]
    },
    {
     "name": "stderr",
     "output_type": "stream",
     "text": [
      "\r",
      "  3%|▎         | 9/260 [00:04<02:16,  1.84it/s]"
     ]
    },
    {
     "name": "stdout",
     "output_type": "stream",
     "text": [
      "torch.Size([8, 704, 1280])\n",
      "9\n"
     ]
    },
    {
     "name": "stderr",
     "output_type": "stream",
     "text": [
      "\r",
      "  4%|▍         | 10/260 [00:05<02:13,  1.87it/s]"
     ]
    },
    {
     "name": "stdout",
     "output_type": "stream",
     "text": [
      "torch.Size([8, 704, 1280])\n",
      "10\n"
     ]
    },
    {
     "name": "stderr",
     "output_type": "stream",
     "text": [
      "\r",
      "  4%|▍         | 11/260 [00:05<02:11,  1.89it/s]"
     ]
    },
    {
     "name": "stdout",
     "output_type": "stream",
     "text": [
      "torch.Size([8, 704, 1280])\n",
      "11\n"
     ]
    },
    {
     "name": "stderr",
     "output_type": "stream",
     "text": [
      "\r",
      "  5%|▍         | 12/260 [00:06<02:10,  1.90it/s]"
     ]
    },
    {
     "name": "stdout",
     "output_type": "stream",
     "text": [
      "torch.Size([11, 704, 1280])\n",
      "12\n"
     ]
    },
    {
     "name": "stderr",
     "output_type": "stream",
     "text": [
      "\r",
      "  5%|▌         | 13/260 [00:06<02:08,  1.92it/s]"
     ]
    },
    {
     "name": "stdout",
     "output_type": "stream",
     "text": [
      "torch.Size([7, 704, 1280])\n",
      "13\n"
     ]
    },
    {
     "name": "stderr",
     "output_type": "stream",
     "text": [
      "\r",
      "  5%|▌         | 14/260 [00:07<02:05,  1.96it/s]"
     ]
    },
    {
     "name": "stdout",
     "output_type": "stream",
     "text": [
      "torch.Size([7, 704, 1280])\n",
      "14\n"
     ]
    },
    {
     "name": "stderr",
     "output_type": "stream",
     "text": [
      "\r",
      "  6%|▌         | 15/260 [00:07<02:01,  2.01it/s]"
     ]
    },
    {
     "name": "stdout",
     "output_type": "stream",
     "text": [
      "torch.Size([7, 704, 1280])\n",
      "15\n"
     ]
    },
    {
     "name": "stderr",
     "output_type": "stream",
     "text": [
      "\r",
      "  6%|▌         | 16/260 [00:08<01:58,  2.06it/s]"
     ]
    },
    {
     "name": "stdout",
     "output_type": "stream",
     "text": [
      "torch.Size([6, 704, 1280])\n",
      "16\n"
     ]
    },
    {
     "name": "stderr",
     "output_type": "stream",
     "text": [
      "\r",
      "  7%|▋         | 17/260 [00:08<01:55,  2.10it/s]"
     ]
    },
    {
     "name": "stdout",
     "output_type": "stream",
     "text": [
      "torch.Size([5, 704, 1280])\n",
      "17\n"
     ]
    },
    {
     "name": "stderr",
     "output_type": "stream",
     "text": [
      "\r",
      "  7%|▋         | 18/260 [00:09<01:54,  2.12it/s]"
     ]
    },
    {
     "name": "stdout",
     "output_type": "stream",
     "text": [
      "torch.Size([6, 704, 1280])\n",
      "18\n"
     ]
    },
    {
     "name": "stderr",
     "output_type": "stream",
     "text": [
      "\r",
      "  7%|▋         | 19/260 [00:09<01:55,  2.10it/s]"
     ]
    },
    {
     "name": "stdout",
     "output_type": "stream",
     "text": [
      "torch.Size([7, 704, 1280])\n",
      "19\n"
     ]
    },
    {
     "name": "stderr",
     "output_type": "stream",
     "text": [
      "\r",
      "  8%|▊         | 20/260 [00:10<01:51,  2.15it/s]"
     ]
    },
    {
     "name": "stdout",
     "output_type": "stream",
     "text": [
      "torch.Size([7, 704, 1280])\n",
      "20\n"
     ]
    },
    {
     "name": "stderr",
     "output_type": "stream",
     "text": [
      "\r",
      "  8%|▊         | 21/260 [00:10<01:49,  2.18it/s]"
     ]
    },
    {
     "name": "stdout",
     "output_type": "stream",
     "text": [
      "torch.Size([8, 704, 1280])\n",
      "21\n"
     ]
    },
    {
     "name": "stderr",
     "output_type": "stream",
     "text": [
      "\r",
      "  8%|▊         | 22/260 [00:11<01:50,  2.16it/s]"
     ]
    },
    {
     "name": "stdout",
     "output_type": "stream",
     "text": [
      "torch.Size([8, 704, 1280])\n",
      "22\n"
     ]
    },
    {
     "name": "stderr",
     "output_type": "stream",
     "text": [
      "\r",
      "  9%|▉         | 23/260 [00:11<01:49,  2.17it/s]"
     ]
    },
    {
     "name": "stdout",
     "output_type": "stream",
     "text": [
      "torch.Size([9, 704, 1280])\n",
      "23\n"
     ]
    },
    {
     "name": "stderr",
     "output_type": "stream",
     "text": [
      "\r",
      "  9%|▉         | 24/260 [00:12<01:49,  2.16it/s]"
     ]
    },
    {
     "name": "stdout",
     "output_type": "stream",
     "text": [
      "torch.Size([8, 704, 1280])\n",
      "24\n"
     ]
    },
    {
     "name": "stderr",
     "output_type": "stream",
     "text": [
      "\r",
      " 10%|▉         | 25/260 [00:12<01:49,  2.14it/s]"
     ]
    },
    {
     "name": "stdout",
     "output_type": "stream",
     "text": [
      "torch.Size([10, 704, 1280])\n",
      "25\n"
     ]
    },
    {
     "name": "stderr",
     "output_type": "stream",
     "text": [
      "\r",
      " 10%|█         | 26/260 [00:12<01:51,  2.10it/s]"
     ]
    },
    {
     "name": "stdout",
     "output_type": "stream",
     "text": [
      "torch.Size([9, 704, 1280])\n",
      "26\n"
     ]
    },
    {
     "name": "stderr",
     "output_type": "stream",
     "text": [
      "\r",
      " 10%|█         | 27/260 [00:13<01:54,  2.03it/s]"
     ]
    },
    {
     "name": "stdout",
     "output_type": "stream",
     "text": [
      "torch.Size([12, 704, 1280])\n",
      "27\n"
     ]
    },
    {
     "name": "stderr",
     "output_type": "stream",
     "text": [
      "\r",
      " 11%|█         | 28/260 [00:13<01:52,  2.07it/s]"
     ]
    },
    {
     "name": "stdout",
     "output_type": "stream",
     "text": [
      "torch.Size([10, 704, 1280])\n",
      "28\n"
     ]
    },
    {
     "name": "stderr",
     "output_type": "stream",
     "text": [
      "\r",
      " 11%|█         | 29/260 [00:14<01:52,  2.06it/s]"
     ]
    },
    {
     "name": "stdout",
     "output_type": "stream",
     "text": [
      "torch.Size([11, 704, 1280])\n",
      "29\n"
     ]
    },
    {
     "name": "stderr",
     "output_type": "stream",
     "text": [
      "\r",
      " 12%|█▏        | 30/260 [00:14<01:52,  2.05it/s]"
     ]
    },
    {
     "name": "stdout",
     "output_type": "stream",
     "text": [
      "torch.Size([11, 704, 1280])\n",
      "30\n"
     ]
    },
    {
     "name": "stderr",
     "output_type": "stream",
     "text": [
      "\r",
      " 12%|█▏        | 31/260 [00:15<01:51,  2.06it/s]"
     ]
    },
    {
     "name": "stdout",
     "output_type": "stream",
     "text": [
      "torch.Size([11, 704, 1280])\n",
      "31\n"
     ]
    },
    {
     "name": "stderr",
     "output_type": "stream",
     "text": [
      "\r",
      " 12%|█▏        | 31/260 [00:15<01:57,  1.94it/s]"
     ]
    },
    {
     "name": "stdout",
     "output_type": "stream",
     "text": [
      "torch.Size([12, 704, 1280])\n"
     ]
    },
    {
     "name": "stderr",
     "output_type": "stream",
     "text": [
      "\n"
     ]
    },
    {
     "data": {
      "text/plain": [
       "<Figure size 432x288 with 0 Axes>"
      ]
     },
     "metadata": {},
     "output_type": "display_data"
    }
   ],
   "source": [
    "for x in tqdm.trange(num_frames):\n",
    "    try:\n",
    "        fn, img = q.get()\n",
    "        print(fn)\n",
    "        #print(img.shape)\n",
    "        image = Image.fromarray(img, 'RGB')\n",
    "        open_cv_image = cv2.cvtColor(np.array(image), cv2.COLOR_RGB2BGR)\n",
    "        #img_orignal = cv2.imread(open_cv_image)\n",
    "        frame_tensor = get_image_tensor(open_cv_image)\n",
    "\n",
    "        x = [{\"image\" : frame_tensor, \"height\": 704, \"width\": 1280}] * 1\n",
    "        #get predictions from the model\n",
    "        predictions = model(x)\n",
    "        #print the predictions\n",
    "        bin_mask = predictions[0]['instances'].pred_masks\n",
    "        #print(bin_mask)\n",
    "        print(bin_mask.shape) #bin mask is a tensor of shape t,h,w\n",
    "        #print(det_tensor.type())\n",
    "        #print(bin_mask.type())\n",
    "        #det_tensor = torch.stack((det_tensor, bin_mask))\n",
    "        detectron_tensors.append(bin_mask)\n",
    "        bin_mask_np = bin_mask.cuda().detach().cpu().clone().numpy()\n",
    "        #print(bin_mask_np.shape)\n",
    "        num_classes = bin_mask_np.shape[0]\n",
    "        #print(\"num classes: \", num_classes)\n",
    "        \n",
    "        #add the frame mask to the list of masks\n",
    "        detectron_frames.append(bin_mask_np)\n",
    "\n",
    "        a = np.zeros((704, 1280), dtype=bool)\n",
    "\n",
    "\n",
    "        for i in range(num_classes): #for all the classes detected\n",
    "            x = bin_mask_np[i,:,:] #x is the ith class\n",
    "            new_mask = np.ma.mask_or(a, x) #logic or the current classes pixels with the other classes pixels\n",
    "            a = new_mask #update the new mask\n",
    "\n",
    "        #plt.imshow(a)\n",
    "        #plt.show()\n",
    "        del predictions\n",
    "        torch.cuda.empty_cache()\n",
    "        name = \"temp_\" + str(fn) + \".png\"\n",
    "        #plt.imshow(a)\n",
    "        plt.savefig(name)\n",
    "        #ipdb.set_trace()#create a breakpoint\n",
    "        if(fn>30): #stop after 30 frames\n",
    "            break\n",
    "    except TypeError as e:\n",
    "        print(\"The error: \")\n",
    "        print(e)\n",
    "        print(\"End of frames\")\n",
    "        break"
   ]
  },
  {
   "cell_type": "markdown",
   "metadata": {},
   "source": [
    "Create a Tensor that holds the overall segmentation mask of the first 30 video frames.\n",
    "\n",
    "Also create a list that holds each frames segmentation mask as a numpy array."
   ]
  },
  {
   "cell_type": "code",
   "execution_count": 33,
   "metadata": {},
   "outputs": [],
   "source": [
    "flow_image_list = sorted(glob.glob('./flow_data/driveby/images/*.png'))"
   ]
  },
  {
   "cell_type": "code",
   "execution_count": 34,
   "metadata": {},
   "outputs": [
    {
     "name": "stdout",
     "output_type": "stream",
     "text": [
      "Shape of segmentation frames tensor:  torch.Size([30, 704, 1280])\n",
      "Length of segmentation mask frames list:  30\n"
     ]
    }
   ],
   "source": [
    "#ensure GPU is set as device if it available\n",
    "device = torch.device(\"cuda:0\" if torch.cuda.is_available() else \"cpu\")\n",
    "detectron_combined_frames = []\n",
    "to_combine = [] #temp list of frame seg mask tensors that will later be stacked\n",
    "\n",
    "for a in range(len(flow_image_list)):\n",
    "    current_frame = detectron_frames[a]\n",
    "    num_classes = current_frame.shape[0]\n",
    "    seg_mask = np.zeros((height, width), dtype=bool)\n",
    "    for b in range(num_classes):\n",
    "        b = current_frame[b,:,:] #x is the ith class\n",
    "        new_mask = np.ma.mask_or(seg_mask, b) #logic or the current classes pixels with the other classes pixels\n",
    "        seg_mask = new_mask #update the new mask\n",
    "    #plt.imshow(seg_mask)\n",
    "    detectron_combined_frames.append(seg_mask)\n",
    "    seg_tensor = torch.from_numpy(seg_mask).to(device)\n",
    "    to_combine.append(seg_tensor)\n",
    "seg_frames_tensor = torch.stack(to_combine)\n",
    "\n",
    "print(\"Shape of segmentation frames tensor: \",seg_frames_tensor.shape)\n",
    "print(\"Length of segmentation mask frames list: \",len(detectron_combined_frames))"
   ]
  },
  {
   "cell_type": "markdown",
   "metadata": {},
   "source": [
    "Lets use the flow data for the same video to create a similar flow frames tensor and flow mask list."
   ]
  },
  {
   "cell_type": "code",
   "execution_count": 35,
   "metadata": {},
   "outputs": [],
   "source": [
    "flow_file_list = sorted(glob.glob('./flow_data/driveby/*.flo'))"
   ]
  },
  {
   "cell_type": "code",
   "execution_count": 36,
   "metadata": {},
   "outputs": [
    {
     "name": "stdout",
     "output_type": "stream",
     "text": [
      "Shape of flow frames tensor:  torch.Size([30, 704, 1280])\n",
      "Length of flow mask frames list:  30\n"
     ]
    }
   ],
   "source": [
    "#ensure GPU is set as device if it available\n",
    "device = torch.device(\"cuda:0\" if torch.cuda.is_available() else \"cpu\")\n",
    "\n",
    "flow_combined_frames = [] #a list to hold each frames flow mask\n",
    "to_combine = [] #temp list of frame flow tensors that will later be stacked\n",
    "\n",
    "for file in range(len(flow_file_list)):\n",
    "    flow, flow_tensor, flow_mask, height, width = flow_to_mask(flow_file_list[file])\n",
    "    flow_combined_frames.append(flow_mask)\n",
    "    to_combine.append(torch.from_numpy(flow_mask).to(device))\n",
    "    \n",
    "flow_frames_tensor = torch.stack(to_combine)\n",
    "\n",
    "print(\"Shape of flow frames tensor: \",flow_frames_tensor.shape)\n",
    "print(\"Length of flow mask frames list: \",len(flow_combined_frames))"
   ]
  },
  {
   "cell_type": "markdown",
   "metadata": {},
   "source": [
    "*******(blurb about tp, fp, tn, fn here and how they can be used to generate things like recall, and precision, and after using a function like dectritize, we can use it to train a NN"
   ]
  },
  {
   "cell_type": "markdown",
   "metadata": {},
   "source": [
    "The flow mask will be considered the ground-truth layer, as we want to use it to minimize the artififacts and incorrect object segmentation of detectron2. The Detectron2 segmentation layer will be compared with the \"ground-truth layer\" below."
   ]
  },
  {
   "cell_type": "markdown",
   "metadata": {},
   "source": [
    "Change the value of ```to_compare``` to see TP, FP, TN, FN below for the frame."
   ]
  },
  {
   "cell_type": "code",
   "execution_count": 37,
   "metadata": {},
   "outputs": [],
   "source": [
    "to_compare = 0 #pick a value from 0-30"
   ]
  },
  {
   "cell_type": "markdown",
   "metadata": {},
   "source": [
    "#### True Positives (TP)"
   ]
  },
  {
   "cell_type": "markdown",
   "metadata": {},
   "source": [
    "Effectively a logical AND of the segmentation layer with the ground-truth layer. This tells us the area where Detectron2 detects an object, and where FlowNet detects a moving object.\n",
    "Let's visualize a TP."
   ]
  },
  {
   "cell_type": "code",
   "execution_count": 38,
   "metadata": {},
   "outputs": [
    {
     "data": {
      "image/png": "[encoded data removed]",
      "text/plain": [
       "<Figure size 720x720 with 3 Axes>"
      ]
     },
     "metadata": {
      "needs_background": "light"
     },
     "output_type": "display_data"
    }
   ],
   "source": [
    "#View true postives\n",
    "\n",
    "\n",
    "#create a frame using detectron2 output\n",
    "detectron_mask = detectron_combined_frames[to_compare]\n",
    "#create a frame using the FlowNet output\n",
    "flow_mask = flow_to_mask(flow_file_list[to_compare])[2]\n",
    "\n",
    "fig, axs = plt.subplots(3,1,figsize=(10,10))\n",
    "\n",
    "axs[0].set_title('Flow Mask (Ground Truth)')\n",
    "axs[0].imshow(flow_mask)\n",
    "\n",
    "axs[1].set_title('Segmentation Mask')\n",
    "axs[1].imshow(detectron_mask)\n",
    "\n",
    "axs[2].set_title('TP')\n",
    "axs[2].imshow(flow_mask & detectron_mask)\n",
    "\n",
    "fig. tight_layout()\n",
    "plt.show()"
   ]
  },
  {
   "cell_type": "markdown",
   "metadata": {},
   "source": [
    "The output of the TP for a given frame look pretty good. The objects are cleaner and there are less occurances of artifact object as each frame is checked. A downside of this approch is that Detectron2 identifies all objects while the FlowNet mask only contains moving objects. So this approach will effectively cancel out all non-moving objects. This is okay for this application of trying to improve the ability of Detectron2 to have more consistencey frame-to-frame"
   ]
  },
  {
   "cell_type": "markdown",
   "metadata": {},
   "source": [
    "#### False Positives (FP)"
   ]
  },
  {
   "cell_type": "markdown",
   "metadata": {},
   "source": [
    "Effectively segmentation layer - ground-truth layer. This tells us the area where Detectron2 detects an object, and where FlowNet does not detect a moving object.\n",
    "Let's visualize a FP."
   ]
  },
  {
   "cell_type": "code",
   "execution_count": 39,
   "metadata": {},
   "outputs": [
    {
     "data": {
      "image/png": "[encoded data removed]",
      "text/plain": [
       "<Figure size 720x720 with 3 Axes>"
      ]
     },
     "metadata": {
      "needs_background": "light"
     },
     "output_type": "display_data"
    }
   ],
   "source": [
    "#View false positives\n",
    "\n",
    "\n",
    "#create a frame using detectron2 output\n",
    "detectron_mask = detectron_combined_frames[to_compare]\n",
    "#create a frame using the FlowNet output\n",
    "flow_mask = flow_to_mask(flow_file_list[to_compare])[2]\n",
    "\n",
    "fig, axs = plt.subplots(3,1,figsize=(10,10))\n",
    "\n",
    "axs[0].set_title('Flow Mask (Ground Truth)')\n",
    "axs[0].imshow(flow_mask)\n",
    "\n",
    "axs[1].set_title('Segmentation Mask')\n",
    "axs[1].imshow(detectron_mask)\n",
    "\n",
    "zeros = np.zeros((height, width), dtype=int)\n",
    "tp = zeros + detectron_mask.astype(np.int)\n",
    "tp = tp - flow_mask.astype(np.int)\n",
    "axs[2].set_title('FP')\n",
    "axs[2].imshow(tp>0)\n",
    "\n",
    "fig.tight_layout()\n",
    "plt.show()"
   ]
  },
  {
   "cell_type": "code",
   "execution_count": null,
   "metadata": {},
   "outputs": [],
   "source": []
  },
  {
   "cell_type": "code",
   "execution_count": 40,
   "metadata": {},
   "outputs": [
    {
     "name": "stdout",
     "output_type": "stream",
     "text": [
      "(tensor(0.7306, device='cuda:0'), {'acc_0': 0.9384410381317139, 'recall_0': 0.5012502074241638, 'prec_0': 0.8779165744781494, 'f1_0': 0.6381474137306213, 'dice_0': 0.5314122438430786, 'acc_1': 0.9387540221214294, 'recall_1': 0.5021955966949463, 'prec_1': 0.9025148749351501, 'f1_1': 0.645313024520874, 'dice_1': 0.5236441493034363, 'acc_2': 0.9439974427223206, 'recall_2': 0.5412324070930481, 'prec_2': 0.9026182889938354, 'f1_2': 0.676699161529541, 'dice_2': 0.48862791061401367, 'acc_3': 0.9333451986312866, 'recall_3': 0.5125793814659119, 'prec_3': 0.8804817199707031, 'f1_3': 0.647949755191803, 'dice_3': 0.5207650661468506, 'acc_4': 0.925122082233429, 'recall_4': 0.4911833703517914, 'prec_4': 0.8965580463409424, 'f1_4': 0.634663462638855, 'dice_4': 0.5351596474647522, 'acc_5': 0.9432572722434998, 'recall_5': 0.6019918918609619, 'prec_5': 0.8853888511657715, 'f1_5': 0.7166919708251953, 'dice_5': 0.44152772426605225, 'acc_6': 0.9315341114997864, 'recall_6': 0.5399836301803589, 'prec_6': 0.8901553750038147, 'f1_6': 0.6721994280815125, 'dice_6': 0.4937496781349182, 'acc_7': 0.9230058193206787, 'recall_7': 0.5062593817710876, 'prec_7': 0.901540219783783, 'f1_7': 0.6484065055847168, 'dice_7': 0.5202651619911194, 'acc_8': 0.9185224771499634, 'recall_8': 0.5053742527961731, 'prec_8': 0.9093483090400696, 'f1_8': 0.6496838927268982, 'dice_8': 0.5188653469085693, 'acc_9': 0.8004738688468933, 'recall_9': 0.295341432094574, 'prec_9': 0.9383420348167419, 'f1_9': 0.4492745101451874, 'dice_9': 0.7102810740470886, 'acc_10': 0.7250621318817139, 'recall_10': 0.16924995183944702, 'prec_10': 0.510499894618988, 'f1_10': 0.2542172968387604, 'dice_10': 0.8543820381164551, 'acc_11': 0.7117098569869995, 'recall_11': 0.1699334979057312, 'prec_11': 0.5222988128662109, 'f1_11': 0.2564343214035034, 'dice_11': 0.8529253602027893, 'acc_12': 0.7007923722267151, 'recall_12': 0.1733931601047516, 'prec_12': 0.5485169887542725, 'f1_12': 0.2634928822517395, 'dice_12': 0.8482627272605896, 'acc_13': 0.703076183795929, 'recall_13': 0.18743053078651428, 'prec_13': 0.5609803199768066, 'f1_13': 0.2809816002845764, 'dice_13': 0.8365453481674194, 'acc_14': 0.6925204396247864, 'recall_14': 0.19064804911613464, 'prec_14': 0.5651889443397522, 'f1_14': 0.2851201295852661, 'dice_14': 0.8337375521659851, 'acc_15': 0.7159789800643921, 'recall_15': 0.2117050737142563, 'prec_15': 0.5968628525733948, 'f1_15': 0.3125498592853546, 'dice_15': 0.8147798180580139, 'acc_16': 0.7456998229026794, 'recall_16': 0.24902109801769257, 'prec_16': 0.6102573871612549, 'f1_16': 0.35370829701423645, 'dice_16': 0.7851484417915344, 'acc_17': 0.7568436861038208, 'recall_17': 0.27643027901649475, 'prec_17': 0.6126411557197571, 'f1_17': 0.3809650242328644, 'dice_17': 0.7646962404251099, 'acc_18': 0.7629216909408569, 'recall_18': 0.29258960485458374, 'prec_18': 0.6028457880020142, 'f1_18': 0.3939679265022278, 'dice_18': 0.7546948194503784, 'acc_19': 0.6137340068817139, 'recall_19': 0.20912088453769684, 'prec_19': 0.7266406416893005, 'f1_19': 0.32477447390556335, 'dice_19': 0.8061308860778809, 'acc_20': 0.7947654128074646, 'recall_20': 0.3273840546607971, 'prec_20': 0.5154783129692078, 'f1_20': 0.40044349431991577, 'dice_20': 0.7496534585952759, 'acc_21': 0.7665838003158569, 'recall_21': 0.29940733313560486, 'prec_21': 0.5533826351165771, 'f1_21': 0.3885759115219116, 'dice_21': 0.758861780166626, 'acc_22': 0.7275945544242859, 'recall_22': 0.24460123479366302, 'prec_22': 0.5077851414680481, 'f1_22': 0.3301624655723572, 'dice_22': 0.8022786974906921, 'acc_23': 0.6763594150543213, 'recall_23': 0.18892410397529602, 'prec_23': 0.45859476923942566, 'f1_23': 0.26760488748550415, 'dice_23': 0.8455289602279663, 'acc_24': 0.6651256084442139, 'recall_24': 0.16487617790699005, 'prec_24': 0.41181787848472595, 'f1_24': 0.2354765385389328, 'dice_24': 0.8665494918823242, 'acc_25': 0.7001087665557861, 'recall_25': 0.17413164675235748, 'prec_25': 0.36453911662101746, 'f1_25': 0.23568309843540192, 'dice_25': 0.8664168119430542, 'acc_26': 0.6766113042831421, 'recall_26': 0.15643613040447235, 'prec_26': 0.26301309466362, 'f1_26': 0.1961846500635147, 'dice_26': 0.8912390470504761, 'acc_27': 0.7052479386329651, 'recall_27': 0.13999909162521362, 'prec_27': 0.28337880969047546, 'f1_27': 0.18741069734096527, 'dice_27': 0.8966060876846313, 'acc_28': 0.7543623447418213, 'recall_28': 0.16338953375816345, 'prec_28': 0.24625690281391144, 'f1_28': 0.19644160568714142, 'dice_28': 0.8910810947418213, 'acc_29': 0.8098621964454651, 'recall_29': 0.16114398837089539, 'prec_29': 0.1535395234823227, 'f1_29': 0.15724986791610718, 'dice_29': 0.9146656394004822})\n"
     ]
    }
   ],
   "source": [
    "print(dice_loss(seg_frames_tensor,flow_frames_tensor))"
   ]
  },
  {
   "cell_type": "markdown",
   "metadata": {},
   "source": [
    "## 2.?? - An alternative and more simple method of combining the output from Detectron2 and FlowNet"
   ]
  },
  {
   "cell_type": "markdown",
   "metadata": {},
   "source": [
    "Another method prosed that would combine the output of Detectron2 and FlowNet would be to simple take a logical AND of both output masks and make that into an output video.\n",
    "\n",
    "Essentially this would only show any pixels that were both idientified by Detectron2 and also determined to be moving by using the theshold method on FlowNet2, and therefor would be present in the respective masks."
   ]
  },
  {
   "cell_type": "markdown",
   "metadata": {},
   "source": [
    "To illustrate this approach, we will create one frame of each mask and then combine them.\n",
    "\n",
    "Change ```to_compare``` to different frames from 0-30 to see how each frame compares. For example, frame pair ```0``` matches pretty well, but ```12``` does not."
   ]
  },
  {
   "cell_type": "code",
   "execution_count": 41,
   "metadata": {},
   "outputs": [
    {
     "data": {
      "image/png": "[encoded data removed]",
      "text/plain": [
       "<Figure size 720x720 with 3 Axes>"
      ]
     },
     "metadata": {
      "needs_background": "light"
     },
     "output_type": "display_data"
    }
   ],
   "source": [
    "to_compare = 0\n",
    "#create a frame using detectron2 output\n",
    "detectron_mask = detectron_combined_frames[to_compare]\n",
    "flow_mask = flow_to_mask(flow_file_list[to_compare])[2]\n",
    "\n",
    "fig, axs = plt.subplots(3,1,figsize=(10,10))\n",
    "\n",
    "axs[0].set_title('Flow Mask')\n",
    "axs[0].imshow(flow_mask)\n",
    "\n",
    "axs[1].set_title('Segmentation Mask')\n",
    "axs[1].imshow(detectron_mask)\n",
    "\n",
    "axs[2].set_title('Flow AND Segmentation Masks')\n",
    "axs[2].imshow(np.logical_and(flow_mask, detectron_mask))\n",
    "\n",
    "fig. tight_layout()\n",
    "plt.show()"
   ]
  },
  {
   "cell_type": "markdown",
   "metadata": {},
   "source": [
    "The above figure depicting the the Flow AND segmentation masks shows the union of the two masks. It appears to be a much smoother version of the segmentation mask, with less smaller artifacts."
   ]
  },
  {
   "cell_type": "markdown",
   "metadata": {},
   "source": [
    "Lets combine 30 of these AND frames to make a short video clip to observe."
   ]
  },
  {
   "cell_type": "code",
   "execution_count": 42,
   "metadata": {},
   "outputs": [
    {
     "name": "stderr",
     "output_type": "stream",
     "text": [
      "100%|██████████| 30/30 [00:36<00:00,  1.22s/it]\n"
     ]
    },
    {
     "data": {
      "image/png": "[encoded data removed]",
      "text/plain": [
       "<Figure size 432x288 with 1 Axes>"
      ]
     },
     "metadata": {
      "needs_background": "light"
     },
     "output_type": "display_data"
    }
   ],
   "source": [
    "out_name = \"and_mask.mp4\"\n",
    "#make the frames and save them\n",
    "for a in tqdm.trange(len(flow_file_list)):\n",
    "    name = \"and_mask_\"+str(a)+\".png\"\n",
    "    plt.imshow(detectron_combined_frames[a] & flow_to_mask(flow_file_list[a])[2])\n",
    "    plt.savefig(name)\n",
    "\n",
    "#create the output video with ffmpeg\n",
    "out = sp.run([\"ffmpeg\", \"-y\", \"-i\", \"and_mask_%d.png\", \"-vcodec\", \"mpeg4\", out_name])\n",
    "\n",
    "#delete the temp .png files\n",
    "fileList = glob.glob('and_mask_*.png')\n",
    "#Iterate over the list of filepaths & remove each file.\n",
    "for filePath in fileList:\n",
    "    try:\n",
    "        os.remove(filePath)\n",
    "    except:\n",
    "        print(\"Error while deleting file : \", filePath)"
   ]
  },
  {
   "cell_type": "markdown",
   "metadata": {},
   "source": [
    "Once again, if the video does not play below, it can be found in the directory engg3130-project/, downloaded, and viewed locally."
   ]
  },
  {
   "cell_type": "code",
   "execution_count": 43,
   "metadata": {},
   "outputs": [
    {
     "data": {
      "text/html": [
       "<video controls  >\n",
       " <source src=\"data:video/mp4;base64,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\" type=\"video/mp4\">\n",
       " Your browser does not support the video tag.\n",
       " </video>"
      ],
      "text/plain": [
       "<IPython.core.display.Video object>"
      ]
     },
     "execution_count": 43,
     "metadata": {},
     "output_type": "execute_result"
    }
   ],
   "source": [
    "Video('and_mask.mp4', embed=True)"
   ]
  },
  {
   "cell_type": "markdown",
   "metadata": {},
   "source": [
    "While this is a very simple approach it is not neccesarily the best approach. The video is certainly smoother, but not complete. For some frames there appears to be an apparent issue with frame masks lining up nicely, and as such, not all of the objects in the video are represented completely.\n",
    "\n",
    "Rather than being a way to improve consistency between frames, this technique is more useful at a neat way to visualize both sets of data."
   ]
  },
  {
   "cell_type": "markdown",
   "metadata": {},
   "source": [
    "## 3 - Limitations of Approach"
   ]
  },
  {
   "cell_type": "markdown",
   "metadata": {},
   "source": [
    "One limitation of using flownet2-pytorch to generate movement masks is when the input video file has a \"background\". Consider for example, the following video:"
   ]
  },
  {
   "cell_type": "code",
   "execution_count": 44,
   "metadata": {},
   "outputs": [
    {
     "data": {
      "image/jpeg": "[encoded data removed]",
      "text/html": [
       "\n",
       "        <iframe\n",
       "            width=\"400\"\n",
       "            height=\"300\"\n",
       "            src=\"https://www.youtube.com/embed/wZVu6g4U77Q\"\n",
       "            frameborder=\"0\"\n",
       "            allowfullscreen\n",
       "        ></iframe>\n",
       "        "
      ],
      "text/plain": [
       "<IPython.lib.display.YouTubeVideo at 0x7f95b8e78550>"
      ]
     },
     "execution_count": 44,
     "metadata": {},
     "output_type": "execute_result"
    }
   ],
   "source": [
    "YouTubeVideo(\"wZVu6g4U77Q\")"
   ]
  },
  {
   "cell_type": "markdown",
   "metadata": {},
   "source": [
    "This video is differnent from the initial ```driveby.mp4``` video used. Namely, the camera is panning down to follow the people as they walk. From the frame of reference of the camera, it appears as the background (the walkway in the case) is moving upwards. This is considered \"motion\" and will be detectd by flownet2."
   ]
  },
  {
   "cell_type": "markdown",
   "metadata": {},
   "source": [
    "To investigate the effects of this movement, lets look at a visualized frame of flownet data from this video and compare it to a frame from our driving video:"
   ]
  },
  {
   "cell_type": "code",
   "execution_count": 45,
   "metadata": {},
   "outputs": [
    {
     "data": {
      "image/png": "[encoded data removed]",
      "text/plain": [
       "<Figure size 432x288 with 4 Axes>"
      ]
     },
     "metadata": {
      "needs_background": "light"
     },
     "output_type": "display_data"
    }
   ],
   "source": [
    "flow_folder = \"./flow_data/driveby/\"\n",
    "flow_file = \"000000.flo\"\n",
    "path1 = flow_folder+flow_file\n",
    "\n",
    "flow_folder = \"./flow_data/walking/\"\n",
    "flow_file = \"000000.flo\"\n",
    "path2 = flow_folder+flow_file\n",
    "\n",
    "fig, axs = plt.subplots(2,2)\n",
    "path_to_image = \"./flow_data/walking/images/\"\n",
    "image = flow_file+\".png\"\n",
    "img1 = plt.imread(path_to_image+image)\n",
    "\n",
    "path_to_image = \"./flow_data/driveby/images/\"\n",
    "image = flow_file+\".png\"\n",
    "img2 = plt.imread(path_to_image+image)\n",
    "\n",
    "axs[0,0].set_title('Moving Background Flow')\n",
    "axs[0,0].imshow(img1)\n",
    "axs[0,1].set_title('Stationary Background Flow')\n",
    "axs[0,1].imshow(img2)\n",
    "axs[1,0].set_title('Moving Background Flow Mask')\n",
    "axs[1,0].imshow(flow_to_mask(path2)[2])\n",
    "axs[1,1].set_title('Stationary Background Flow')\n",
    "axs[1,1].imshow(flow_to_mask(path1)[2])\n",
    "\n",
    "fig. tight_layout()\n",
    "plt.show()"
   ]
  },
  {
   "cell_type": "markdown",
   "metadata": {},
   "source": [
    "As is made very evident above, when the background is not stationary, it becomes very hard to discretize moving from non-moving parts of the frame using the pixel-magnitude approach. \n",
    "\n",
    "However, what this is useful for is in an automatic classifier to determine if the camera is moving for a given video. In these cases, we would notice something similar to the moving background flow mask, above. We would notice most of the video showing a pixel movement magnitude of greater than threshold."
   ]
  }
 ],
 "metadata": {
  "kernelspec": {
   "display_name": "Python 3",
   "language": "python",
   "name": "python3"
  },
  "language_info": {
   "codemirror_mode": {
    "name": "ipython",
    "version": 3
   },
   "file_extension": ".py",
   "mimetype": "text/x-python",
   "name": "python",
   "nbconvert_exporter": "python",
   "pygments_lexer": "ipython3",
   "version": "3.8.1"
  }
 },
 "nbformat": 4,
 "nbformat_minor": 4
}
